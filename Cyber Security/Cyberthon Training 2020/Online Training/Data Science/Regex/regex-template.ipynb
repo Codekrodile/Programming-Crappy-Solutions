{
 "cells": [
  {
   "cell_type": "code",
   "execution_count": null,
   "metadata": {},
   "outputs": [],
   "source": [
    "import sys\n",
    "import re\n",
    "import hashlib\n",
    "# Import needed modules"
   ]
  },
  {
   "cell_type": "code",
   "execution_count": null,
   "metadata": {},
   "outputs": [],
   "source": [
    "# Process each line\n",
    "answers = \"\"\n",
    "for line in open('rockyou_processed.txt').readlines():\n",
    "    line = line.rstrip(\"\\n\")\n",
    "    # If it matches something, print the category\n",
    "    if re.match(\"\\s+\", line):\n",
    "        answer += \"1\\n\"\n",
    "    else:\n",
    "        answer += \"2\\n\""
   ]
  },
  {
   "cell_type": "code",
   "execution_count": null,
   "metadata": {
    "scrolled": true
   },
   "outputs": [],
   "source": [
    "# Print the sha256 sum of the answer\n",
    "print (hashlib.sha256(answer.encode('utf-8')).hexdigest())"
   ]
  },
  {
   "cell_type": "markdown",
   "metadata": {},
   "source": [
    "# Submission to CTFSG"
   ]
  },
  {
   "cell_type": "code",
   "execution_count": null,
   "metadata": {},
   "outputs": [],
   "source": [
    "# Sumbit as a flag to CTFSG with the format:\n",
    "# CTFSG{<sha256 hex digest of answer string>}"
   ]
  }
 ],
 "metadata": {
  "kernelspec": {
   "display_name": "Python 3",
   "language": "python",
   "name": "python3"
  },
  "language_info": {
   "codemirror_mode": {
    "name": "ipython",
    "version": 3
   },
   "file_extension": ".py",
   "mimetype": "text/x-python",
   "name": "python",
   "nbconvert_exporter": "python",
   "pygments_lexer": "ipython3",
   "version": "3.7.4"
  }
 },
 "nbformat": 4,
 "nbformat_minor": 2
}
