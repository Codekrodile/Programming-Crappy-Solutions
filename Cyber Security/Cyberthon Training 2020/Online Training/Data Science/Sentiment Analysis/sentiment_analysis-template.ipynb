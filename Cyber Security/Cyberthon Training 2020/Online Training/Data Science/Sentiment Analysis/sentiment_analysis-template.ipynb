{
 "cells": [
  {
   "cell_type": "code",
   "execution_count": null,
   "metadata": {
    "colab": {
     "base_uri": "https://localhost:8080/",
     "height": 34
    },
    "colab_type": "code",
    "id": "AUHHm1raOhIB",
    "outputId": "eb4ca1ef-706b-4d9e-dbe9-17bd254247e0"
   },
   "outputs": [],
   "source": [
    "import pandas as pd\n",
    "import numpy as np\n",
    "# import tensorflow as tf # Enable if you need machine learning https://www.tensorflow.org/install\n",
    "\n",
    "import re\n",
    "\n",
    "#Import more as needed"
   ]
  },
  {
   "cell_type": "code",
   "execution_count": null,
   "metadata": {
    "colab": {
     "base_uri": "https://localhost:8080/",
     "height": 206
    },
    "colab_type": "code",
    "id": "r6ywOXDLPAlU",
    "outputId": "1ffbf1ce-7aad-403b-c1f3-92264f018eb8"
   },
   "outputs": [],
   "source": [
    "#Import the data\n",
    "df = pd.DataFrame()\n",
    "df = pd.read_csv('train.csv.gz', encoding='utf-8')\n",
    "df.head()"
   ]
  },
  {
   "cell_type": "code",
   "execution_count": null,
   "metadata": {
    "colab": {
     "base_uri": "https://localhost:8080/",
     "height": 104
    },
    "colab_type": "code",
    "id": "CSqSRZLrPHEu",
    "outputId": "766ede41-3f5a-4592-8d3d-ca24703b08c4"
   },
   "outputs": [],
   "source": [
    "#Do some preprocessing\n",
    "#This is to make sure that it is all ascii\n",
    "df['review'] = df['review'].apply(lambda x: re.sub('[^a-zA-z0-9\\s]','',x.lower()))\n",
    "\n",
    "print(df[ df['rating'] == 1].size)\n",
    "print(df[ df['rating'] == 2].size)\n",
    "print(df[ df['rating'] == 3].size)\n",
    "print(df[ df['rating'] == 4].size)\n",
    "print(df[ df['rating'] == 5].size)"
   ]
  },
  {
   "cell_type": "code",
   "execution_count": null,
   "metadata": {
    "colab": {
     "base_uri": "https://localhost:8080/",
     "height": 330
    },
    "colab_type": "code",
    "id": "KOeTkPANQDjp",
    "outputId": "bd39d1d3-5b1d-494d-8f30-3927f68fcab4"
   },
   "outputs": [],
   "source": [
    "#Do your machine learning here:\n",
    "\n",
    "#Keras + LSTM neural network style classification:\n",
    "#https://towardsdatascience.com/multi-class-text-classification-with-lstm-1590bee1bd17?gi=ecf2ba91b961\n",
    "\n",
    "#scikit-learn:\n",
    "#https://towardsdatascience.com/multi-class-text-classification-with-scikit-learn-12f1e60e0a9f\n",
    "#https://stackabuse.com/text-classification-with-python-and-scikit-learn/\n"
   ]
  },
  {
   "cell_type": "code",
   "execution_count": null,
   "metadata": {
    "colab": {
     "base_uri": "https://localhost:8080/",
     "height": 52
    },
    "colab_type": "code",
    "id": "s1PzdrEkQYY_",
    "outputId": "17b99ffb-9281-4a16-84f4-806860dc9f03"
   },
   "outputs": [],
   "source": [
    "#Do your prediction..."
   ]
  },
  {
   "cell_type": "code",
   "execution_count": null,
   "metadata": {
    "colab": {
     "base_uri": "https://localhost:8080/",
     "height": 278
    },
    "colab_type": "code",
    "id": "a0HRzyx9QrFu",
    "outputId": "d05fd45e-07a3-47ff-9883-cb90e63a358d"
   },
   "outputs": [],
   "source": [
    "#Write to csv"
   ]
  },
  {
   "cell_type": "code",
   "execution_count": null,
   "metadata": {},
   "outputs": [],
   "source": [
    "#Submit to CTFSG Grader"
   ]
  }
 ],
 "metadata": {
  "accelerator": "GPU",
  "colab": {
   "collapsed_sections": [],
   "name": "sentiment analysis",
   "provenance": [],
   "toc_visible": true
  },
  "kernelspec": {
   "display_name": "Python 3",
   "language": "python",
   "name": "python3"
  },
  "language_info": {
   "codemirror_mode": {
    "name": "ipython",
    "version": 3
   },
   "file_extension": ".py",
   "mimetype": "text/x-python",
   "name": "python",
   "nbconvert_exporter": "python",
   "pygments_lexer": "ipython3",
   "version": "3.7.4"
  }
 },
 "nbformat": 4,
 "nbformat_minor": 1
}
