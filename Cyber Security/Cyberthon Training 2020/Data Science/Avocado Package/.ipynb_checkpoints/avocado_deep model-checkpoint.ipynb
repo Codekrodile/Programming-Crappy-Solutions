{
 "cells": [
  {
   "cell_type": "markdown",
   "metadata": {},
   "source": [
    "# Avocado Data Analysis Notebook\n",
    "ALT-TAB LABS LLP &copy; 2020 All Rights Reserved"
   ]
  },
  {
   "cell_type": "code",
   "execution_count": 1,
   "metadata": {},
   "outputs": [
    {
     "data": {
      "text/plain": [
       "['.ipynb_checkpoints',\n",
       " 'avocado-format.png',\n",
       " 'avocado-submission.csv',\n",
       " 'avocado-test.csv',\n",
       " 'avocado-train.csv',\n",
       " 'avocado_notebook.ipynb',\n",
       " 'pyctfsglib.py',\n",
       " '__pycache__']"
      ]
     },
     "execution_count": 1,
     "metadata": {},
     "output_type": "execute_result"
    }
   ],
   "source": [
    "# show files in current directory\n",
    "import os\n",
    "os.listdir()"
   ]
  },
  {
   "cell_type": "code",
   "execution_count": 2,
   "metadata": {},
   "outputs": [],
   "source": [
    "# load csvs\n",
    "import pandas as pd\n",
    "MyDataFrame = pd.read_csv('avocado-train.csv', index_col='id')"
   ]
  },
  {
   "cell_type": "code",
   "execution_count": 3,
   "metadata": {
    "scrolled": true
   },
   "outputs": [
    {
     "data": {
      "text/html": [
       "<div>\n",
       "<style scoped>\n",
       "    .dataframe tbody tr th:only-of-type {\n",
       "        vertical-align: middle;\n",
       "    }\n",
       "\n",
       "    .dataframe tbody tr th {\n",
       "        vertical-align: top;\n",
       "    }\n",
       "\n",
       "    .dataframe thead th {\n",
       "        text-align: right;\n",
       "    }\n",
       "</style>\n",
       "<table border=\"1\" class=\"dataframe\">\n",
       "  <thead>\n",
       "    <tr style=\"text-align: right;\">\n",
       "      <th></th>\n",
       "      <th>DataBatch</th>\n",
       "      <th>Date</th>\n",
       "      <th>TotalVolume</th>\n",
       "      <th>4046</th>\n",
       "      <th>4225</th>\n",
       "      <th>4770</th>\n",
       "      <th>TotalBags</th>\n",
       "      <th>SmallBags</th>\n",
       "      <th>LargeBags</th>\n",
       "      <th>XLargeBags</th>\n",
       "      <th>type</th>\n",
       "      <th>region</th>\n",
       "      <th>AveragePrice</th>\n",
       "    </tr>\n",
       "    <tr>\n",
       "      <th>id</th>\n",
       "      <th></th>\n",
       "      <th></th>\n",
       "      <th></th>\n",
       "      <th></th>\n",
       "      <th></th>\n",
       "      <th></th>\n",
       "      <th></th>\n",
       "      <th></th>\n",
       "      <th></th>\n",
       "      <th></th>\n",
       "      <th></th>\n",
       "      <th></th>\n",
       "      <th></th>\n",
       "    </tr>\n",
       "  </thead>\n",
       "  <tbody>\n",
       "    <tr>\n",
       "      <th>0</th>\n",
       "      <td>7</td>\n",
       "      <td>2016-11-06</td>\n",
       "      <td>183542.31</td>\n",
       "      <td>98949.98</td>\n",
       "      <td>22891.61</td>\n",
       "      <td>95.00</td>\n",
       "      <td>61605.72</td>\n",
       "      <td>43571.99</td>\n",
       "      <td>17499.01</td>\n",
       "      <td>534.72</td>\n",
       "      <td>conventional</td>\n",
       "      <td>NewOrleansMobile</td>\n",
       "      <td>1.49</td>\n",
       "    </tr>\n",
       "    <tr>\n",
       "      <th>1</th>\n",
       "      <td>24</td>\n",
       "      <td>2017-07-16</td>\n",
       "      <td>224434.92</td>\n",
       "      <td>42951.31</td>\n",
       "      <td>120360.02</td>\n",
       "      <td>131.85</td>\n",
       "      <td>60991.74</td>\n",
       "      <td>53141.81</td>\n",
       "      <td>3621.04</td>\n",
       "      <td>4228.89</td>\n",
       "      <td>conventional</td>\n",
       "      <td>HarrisburgScranton</td>\n",
       "      <td>1.38</td>\n",
       "    </tr>\n",
       "    <tr>\n",
       "      <th>2</th>\n",
       "      <td>51</td>\n",
       "      <td>2015-01-04</td>\n",
       "      <td>3846.69</td>\n",
       "      <td>1500.15</td>\n",
       "      <td>938.35</td>\n",
       "      <td>0.00</td>\n",
       "      <td>1408.19</td>\n",
       "      <td>1071.35</td>\n",
       "      <td>336.84</td>\n",
       "      <td>0.00</td>\n",
       "      <td>organic</td>\n",
       "      <td>Atlanta</td>\n",
       "      <td>1.76</td>\n",
       "    </tr>\n",
       "    <tr>\n",
       "      <th>3</th>\n",
       "      <td>22</td>\n",
       "      <td>2015-07-26</td>\n",
       "      <td>91825.07</td>\n",
       "      <td>1679.28</td>\n",
       "      <td>45615.48</td>\n",
       "      <td>741.77</td>\n",
       "      <td>43788.54</td>\n",
       "      <td>43788.54</td>\n",
       "      <td>0.00</td>\n",
       "      <td>0.00</td>\n",
       "      <td>conventional</td>\n",
       "      <td>BuffaloRochester</td>\n",
       "      <td>1.39</td>\n",
       "    </tr>\n",
       "    <tr>\n",
       "      <th>4</th>\n",
       "      <td>50</td>\n",
       "      <td>2015-01-11</td>\n",
       "      <td>54644.32</td>\n",
       "      <td>1491.88</td>\n",
       "      <td>33759.12</td>\n",
       "      <td>1325.17</td>\n",
       "      <td>18068.15</td>\n",
       "      <td>12165.94</td>\n",
       "      <td>5902.21</td>\n",
       "      <td>0.00</td>\n",
       "      <td>conventional</td>\n",
       "      <td>Pittsburgh</td>\n",
       "      <td>1.54</td>\n",
       "    </tr>\n",
       "  </tbody>\n",
       "</table>\n",
       "</div>"
      ],
      "text/plain": [
       "    DataBatch        Date  TotalVolume      4046       4225     4770  \\\n",
       "id                                                                     \n",
       "0           7  2016-11-06    183542.31  98949.98   22891.61    95.00   \n",
       "1          24  2017-07-16    224434.92  42951.31  120360.02   131.85   \n",
       "2          51  2015-01-04      3846.69   1500.15     938.35     0.00   \n",
       "3          22  2015-07-26     91825.07   1679.28   45615.48   741.77   \n",
       "4          50  2015-01-11     54644.32   1491.88   33759.12  1325.17   \n",
       "\n",
       "    TotalBags  SmallBags  LargeBags  XLargeBags          type  \\\n",
       "id                                                              \n",
       "0    61605.72   43571.99   17499.01      534.72  conventional   \n",
       "1    60991.74   53141.81    3621.04     4228.89  conventional   \n",
       "2     1408.19    1071.35     336.84        0.00       organic   \n",
       "3    43788.54   43788.54       0.00        0.00  conventional   \n",
       "4    18068.15   12165.94    5902.21        0.00  conventional   \n",
       "\n",
       "                region  AveragePrice  \n",
       "id                                    \n",
       "0     NewOrleansMobile          1.49  \n",
       "1   HarrisburgScranton          1.38  \n",
       "2              Atlanta          1.76  \n",
       "3     BuffaloRochester          1.39  \n",
       "4           Pittsburgh          1.54  "
      ]
     },
     "execution_count": 3,
     "metadata": {},
     "output_type": "execute_result"
    }
   ],
   "source": [
    "# View the data!\n",
    "MyDataFrame.head()\n",
    "#TODO TODO TODO TODO TODO TODO TODO TODO"
   ]
  },
  {
   "cell_type": "code",
   "execution_count": 4,
   "metadata": {},
   "outputs": [],
   "source": [
    "# Clean Data\n",
    "\n",
    "# Drops missing values \n",
    "#TODO TODO TODO TODO TODO TODO TODO TODO\n",
    "MyDataFrame.dropna()\n",
    "# Convert strings to numbers\n",
    "#TODO TODO TODO TODO TODO TODO TODO TODO\n",
    "c = ['TotalVolume',\"4046\",\"4225\",\"4770\",\"TotalBags\",\"SmallBags\",\"LargeBags\",\"XLargeBags\",\"AveragePrice\"]\n",
    "for column in c:\n",
    "    MyDataFrame[column] = pd.to_numeric(MyDataFrame[column])\n",
    "# Read more advanced ways to clean data\n",
    "# https://scikit-learn.org/stable/modules/generated/sklearn.preprocessing.LabelEncoder.html\n",
    "# https://stackoverflow.com/questions/24458645/label-encoding-across-multiple-columns-in-scikit-learn"
   ]
  },
  {
   "cell_type": "code",
   "execution_count": 5,
   "metadata": {},
   "outputs": [],
   "source": [
    "# Select data for learning\n",
    "features = ['TotalVolume',\"TotalBags\",\"SmallBags\",\"LargeBags\",\"XLargeBags\"] #TODO TODO TODO TODO TODO TODO TODO TODO\n",
    "features = [\"TotalVolume\"] \n",
    "features = ['TotalVolume',\"TotalBags\"]\n",
    "\n",
    "X = MyDataFrame[features]#None #TODO TODO TODO TODO TODO TODO TODO TODO\n",
    "y = MyDataFrame[\"AveragePrice\"]#None #TODO TODO TODO TODO TODO TODO TODO TODO"
   ]
  },
  {
   "cell_type": "code",
   "execution_count": 6,
   "metadata": {},
   "outputs": [
    {
     "data": {
      "text/html": [
       "<div>\n",
       "<style scoped>\n",
       "    .dataframe tbody tr th:only-of-type {\n",
       "        vertical-align: middle;\n",
       "    }\n",
       "\n",
       "    .dataframe tbody tr th {\n",
       "        vertical-align: top;\n",
       "    }\n",
       "\n",
       "    .dataframe thead th {\n",
       "        text-align: right;\n",
       "    }\n",
       "</style>\n",
       "<table border=\"1\" class=\"dataframe\">\n",
       "  <thead>\n",
       "    <tr style=\"text-align: right;\">\n",
       "      <th></th>\n",
       "      <th>TotalVolume</th>\n",
       "    </tr>\n",
       "    <tr>\n",
       "      <th>id</th>\n",
       "      <th></th>\n",
       "    </tr>\n",
       "  </thead>\n",
       "  <tbody>\n",
       "    <tr>\n",
       "      <th>0</th>\n",
       "      <td>183542.31</td>\n",
       "    </tr>\n",
       "    <tr>\n",
       "      <th>1</th>\n",
       "      <td>224434.92</td>\n",
       "    </tr>\n",
       "    <tr>\n",
       "      <th>2</th>\n",
       "      <td>3846.69</td>\n",
       "    </tr>\n",
       "    <tr>\n",
       "      <th>3</th>\n",
       "      <td>91825.07</td>\n",
       "    </tr>\n",
       "    <tr>\n",
       "      <th>4</th>\n",
       "      <td>54644.32</td>\n",
       "    </tr>\n",
       "  </tbody>\n",
       "</table>\n",
       "</div>"
      ],
      "text/plain": [
       "    TotalVolume\n",
       "id             \n",
       "0     183542.31\n",
       "1     224434.92\n",
       "2       3846.69\n",
       "3      91825.07\n",
       "4      54644.32"
      ]
     },
     "execution_count": 6,
     "metadata": {},
     "output_type": "execute_result"
    }
   ],
   "source": [
    "X.head()\n",
    "#y.head()"
   ]
  },
  {
   "cell_type": "markdown",
   "metadata": {},
   "source": [
    "# Regression Time!"
   ]
  },
  {
   "cell_type": "code",
   "execution_count": 7,
   "metadata": {},
   "outputs": [],
   "source": [
    "# Sci Kit Learn! Scientific Computing library for python\n",
    "from sklearn import *"
   ]
  },
  {
   "cell_type": "code",
   "execution_count": 8,
   "metadata": {},
   "outputs": [],
   "source": [
    "# Pick the regression model we want to use\n",
    "import sklearn.tree as tree\n",
    "# Decision Tree Regression\n",
    "# https://scikit-learn.org/stable/modules/generated/sklearn.tree.DecisionTreeRegressor.html\n",
    "model = tree.DecisionTreeRegressor(random_state=2020)\n",
    "\n",
    "# Random Forest Regression\n",
    "# https://scikit-learn.org/stable/modules/generated/sklearn.ensemble.RandomForestRegressor.html\n",
    "model = ensemble.RandomForestRegressor(random_state=2020, n_estimators=100)"
   ]
  },
  {
   "cell_type": "code",
   "execution_count": 9,
   "metadata": {},
   "outputs": [
    {
     "name": "stdout",
     "output_type": "stream",
     "text": [
      "training split:  8558 ; test split:  4216\n"
     ]
    }
   ],
   "source": [
    "# Split training into some for training and some for testing\n",
    "# https://scikit-learn.org/stable/modules/generated/sklearn.model_selection.train_test_split.html\n",
    "\n",
    "from sklearn.model_selection import train_test_split\n",
    "#TODO TODO TODO TODO TODO TODO TODO TODO\n",
    "Xtrain, Xtest, ytrain, ytest = train_test_split(X, y, test_size=0.33, random_state=42)\n",
    "print(\"training split: \", len(Xtrain), \"; test split: \", len(Xtest))\n",
    "\n"
   ]
  },
  {
   "cell_type": "code",
   "execution_count": 10,
   "metadata": {},
   "outputs": [
    {
     "data": {
      "text/plain": [
       "RandomForestRegressor(bootstrap=True, ccp_alpha=0.0, criterion='mse',\n",
       "                      max_depth=None, max_features='auto', max_leaf_nodes=None,\n",
       "                      max_samples=None, min_impurity_decrease=0.0,\n",
       "                      min_impurity_split=None, min_samples_leaf=1,\n",
       "                      min_samples_split=2, min_weight_fraction_leaf=0.0,\n",
       "                      n_estimators=100, n_jobs=None, oob_score=False,\n",
       "                      random_state=2020, verbose=0, warm_start=False)"
      ]
     },
     "execution_count": 10,
     "metadata": {},
     "output_type": "execute_result"
    }
   ],
   "source": [
    "# Perform regression on the data\n",
    "model.fit(Xtrain, ytrain) #TODO TODO TODO TODO TODO TODO TODO TODO"
   ]
  },
  {
   "cell_type": "code",
   "execution_count": 11,
   "metadata": {},
   "outputs": [
    {
     "data": {
      "text/plain": [
       "0.09341785564495707"
      ]
     },
     "execution_count": 11,
     "metadata": {},
     "output_type": "execute_result"
    }
   ],
   "source": [
    "# Score model\n",
    "model.score(Xtest, ytest) #TODO TODO TODO TODO TODO TODO TODO TODO"
   ]
  },
  {
   "cell_type": "markdown",
   "metadata": {},
   "source": [
    "# Predict for Testing data"
   ]
  },
  {
   "cell_type": "code",
   "execution_count": 12,
   "metadata": {},
   "outputs": [],
   "source": [
    "# Clean Data\n",
    "MyDataFrame = pd.read_csv('avocado-test.csv', index_col='id')\n",
    "# Drops missing values \n",
    "#MyDataFrame.dropna()\n",
    "# Convert strings to numbers\n",
    "c = ['TotalVolume',\"4046\",\"4225\",\"4770\",\"TotalBags\",\"SmallBags\",\"LargeBags\",\"XLargeBags\"]#,\"AveragePrice\"]\n",
    "for column in c:\n",
    "    MyDataFrame[column] = pd.to_numeric(MyDataFrame[column])\n",
    "# Read more advanced ways to clean data\n",
    "# https://scikit-learn.org/stable/modules/generated/sklearn.preprocessing.LabelEncoder.html\n",
    "# https://stackoverflow.com/questions/24458645/label-encoding-across-multiple-columns-in-scikit-learn"
   ]
  },
  {
   "cell_type": "code",
   "execution_count": 13,
   "metadata": {},
   "outputs": [
    {
     "data": {
      "text/html": [
       "<div>\n",
       "<style scoped>\n",
       "    .dataframe tbody tr th:only-of-type {\n",
       "        vertical-align: middle;\n",
       "    }\n",
       "\n",
       "    .dataframe tbody tr th {\n",
       "        vertical-align: top;\n",
       "    }\n",
       "\n",
       "    .dataframe thead th {\n",
       "        text-align: right;\n",
       "    }\n",
       "</style>\n",
       "<table border=\"1\" class=\"dataframe\">\n",
       "  <thead>\n",
       "    <tr style=\"text-align: right;\">\n",
       "      <th></th>\n",
       "      <th>TotalVolume</th>\n",
       "    </tr>\n",
       "    <tr>\n",
       "      <th>id</th>\n",
       "      <th></th>\n",
       "    </tr>\n",
       "  </thead>\n",
       "  <tbody>\n",
       "    <tr>\n",
       "      <th>0</th>\n",
       "      <td>28969.34</td>\n",
       "    </tr>\n",
       "    <tr>\n",
       "      <th>1</th>\n",
       "      <td>322962.89</td>\n",
       "    </tr>\n",
       "    <tr>\n",
       "      <th>2</th>\n",
       "      <td>155334.45</td>\n",
       "    </tr>\n",
       "    <tr>\n",
       "      <th>3</th>\n",
       "      <td>10231.74</td>\n",
       "    </tr>\n",
       "    <tr>\n",
       "      <th>4</th>\n",
       "      <td>10652.02</td>\n",
       "    </tr>\n",
       "  </tbody>\n",
       "</table>\n",
       "</div>"
      ],
      "text/plain": [
       "    TotalVolume\n",
       "id             \n",
       "0      28969.34\n",
       "1     322962.89\n",
       "2     155334.45\n",
       "3      10231.74\n",
       "4      10652.02"
      ]
     },
     "execution_count": 13,
     "metadata": {},
     "output_type": "execute_result"
    }
   ],
   "source": [
    "# Select features\n",
    "XforPredictions =  MyDataFrame[features]#None #TODO TODO TODO TODO TODO TODO TODO TODO\n",
    "XforPredictions.head()"
   ]
  },
  {
   "cell_type": "code",
   "execution_count": 14,
   "metadata": {},
   "outputs": [
    {
     "name": "stdout",
     "output_type": "stream",
     "text": [
      "Predictions: [1.4349 1.0903 1.114  ... 0.7768 2.0164 1.6327]\n"
     ]
    }
   ],
   "source": [
    "# Make Predictions!\n",
    "yPredictions = model.predict(XforPredictions)# None #TODO TODO TODO TODO TODO TODO TODO TODO\n",
    "print(\"Predictions:\", yPredictions)"
   ]
  },
  {
   "cell_type": "code",
   "execution_count": 15,
   "metadata": {},
   "outputs": [
    {
     "name": "stdout",
     "output_type": "stream",
     "text": [
      "        id  AveragePrice\n",
      "0        0        1.4349\n",
      "1        1        1.0903\n",
      "2        2        1.1140\n",
      "3        3        1.8306\n",
      "4        4        1.6876\n",
      "5        5        1.2479\n",
      "6        6        1.8462\n",
      "7        7        1.9432\n",
      "8        8        0.9996\n",
      "9        9        1.1116\n",
      "10      10        1.0134\n",
      "11      11        1.2506\n",
      "12      12        1.2281\n",
      "13      13        1.8462\n",
      "14      14        1.6956\n",
      "15      15        1.5930\n",
      "16      16        1.6216\n",
      "17      17        1.4359\n",
      "18      18        1.1016\n",
      "19      19        1.2682\n",
      "20      20        1.6314\n",
      "21      21        1.2220\n",
      "22      22        1.5219\n",
      "23      23        1.2792\n",
      "24      24        1.9302\n",
      "25      25        1.5208\n",
      "26      26        1.6699\n",
      "27      27        1.7594\n",
      "28      28        0.9253\n",
      "29      29        1.1568\n",
      "...    ...           ...\n",
      "5445  5445        1.2991\n",
      "5446  5446        1.4488\n",
      "5447  5447        1.5812\n",
      "5448  5448        1.1777\n",
      "5449  5449        1.1996\n",
      "5450  5450        1.3261\n",
      "5451  5451        1.7444\n",
      "5452  5452        0.8886\n",
      "5453  5453        1.5562\n",
      "5454  5454        1.6938\n",
      "5455  5455        1.1345\n",
      "5456  5456        1.1555\n",
      "5457  5457        1.5540\n",
      "5458  5458        1.1848\n",
      "5459  5459        1.5150\n",
      "5460  5460        1.7904\n",
      "5461  5461        1.1594\n",
      "5462  5462        0.8953\n",
      "5463  5463        2.1187\n",
      "5464  5464        1.5423\n",
      "5465  5465        1.1492\n",
      "5466  5466        1.7198\n",
      "5467  5467        1.8410\n",
      "5468  5468        1.4692\n",
      "5469  5469        1.7909\n",
      "5470  5470        1.3447\n",
      "5471  5471        1.8174\n",
      "5472  5472        0.7768\n",
      "5473  5473        2.0164\n",
      "5474  5474        1.6327\n",
      "\n",
      "[5475 rows x 2 columns]\n"
     ]
    }
   ],
   "source": [
    "# Save to CSV File!\n",
    "output = pd.DataFrame({'id': XforPredictions.index, 'AveragePrice': yPredictions})\n",
    "output.to_csv('avocado-submission.csv', index=False)\n",
    "print(output)"
   ]
  },
  {
   "cell_type": "markdown",
   "metadata": {},
   "source": [
    "# Upload for grading"
   ]
  },
  {
   "cell_type": "code",
   "execution_count": 16,
   "metadata": {},
   "outputs": [
    {
     "name": "stdout",
     "output_type": "stream",
     "text": [
      "Downloaded pyctfsglib.py: True\n"
     ]
    }
   ],
   "source": [
    "# Download CTFSG Grader Libraries\n",
    "import urllib.request, os\n",
    "urllib.request.urlretrieve('https://raw.githubusercontent.com/alttablabs/ctfsg-utils/master/pyctfsglib.py', './pyctfsglib.py')\n",
    "print('Downloaded pyctfsglib.py:', 'pyctfsglib.py' in os.listdir())"
   ]
  },
  {
   "cell_type": "code",
   "execution_count": 17,
   "metadata": {},
   "outputs": [
    {
     "name": "stdout",
     "output_type": "stream",
     "text": [
      "DSGraderClient: Successfully Connected!\n",
      "[SERVER] MOTD: CHECK your USER_TOKEN and GRADER_URL HTTP address! I'm AVOCADO_PRICE TEST_GRADER_1\n"
     ]
    }
   ],
   "source": [
    "# Connect to graders\n",
    "import pyctfsglib as ctfsg\n",
    "import random\n",
    "\n",
    "USER_TOKEN = \"MXhtGfdjdsUfiEKTHHEuVGohZESBdMiHrFkmYqNqIFfcWOHGvcubvHJvnxpAqRMh\" # You need to fill this up\n",
    "GRADER_URL = random.choice([ # Check if these are correct GRADER URLS for the specific challenge\n",
    "    \"http://ABC.XYZ.ctf.sg:12345/\",\n",
    "    \"http://ABC.XYZ.ctf.sg:23456/\"\n",
    "])\n",
    "GRADER_URL = random.choice([\n",
    "\"http://challenges.csdc20t.ctf.sg:30001/\", \"http://challenges.csdc20t.ctf.sg:30002/\"\n",
    "])\n",
    "grader = ctfsg.DSGraderClient(GRADER_URL, USER_TOKEN)"
   ]
  },
  {
   "cell_type": "code",
   "execution_count": 18,
   "metadata": {},
   "outputs": [
    {
     "name": "stdout",
     "output_type": "stream",
     "text": [
      "ProofOfWork Challenge =>  ('CTFSGRBcd7ca491f2702e4033ca0956fa65d328', 22)\n",
      "ProofOfWork Answer Found! =>  2626721\n"
     ]
    },
    {
     "data": {
      "text/plain": [
       "'{\"challenge\":{\"name\":\"Avocado Prices\"},\"id\":\"ck8lazi6o4sva0702xvp7gin9\",\"status\":\"PARTIALLY_CORRECT\",\"multiplier\":0.0758,\"submittedBy\":{\"username\":\"nyjc-1\"},\"createdAt\":\"2020-04-04T07:36:22Z\"}'"
      ]
     },
     "execution_count": 18,
     "metadata": {},
     "output_type": "execute_result"
    }
   ],
   "source": [
    "grader.submitFile('avocado-submission.csv')"
   ]
  },
  {
   "cell_type": "code",
   "execution_count": null,
   "metadata": {},
   "outputs": [],
   "source": []
  }
 ],
 "metadata": {
  "kernelspec": {
   "display_name": "Python 3",
   "language": "python",
   "name": "python3"
  },
  "language_info": {
   "codemirror_mode": {
    "name": "ipython",
    "version": 3
   },
   "file_extension": ".py",
   "mimetype": "text/x-python",
   "name": "python",
   "nbconvert_exporter": "python",
   "pygments_lexer": "ipython3",
   "version": "3.7.3"
  }
 },
 "nbformat": 4,
 "nbformat_minor": 4
}
