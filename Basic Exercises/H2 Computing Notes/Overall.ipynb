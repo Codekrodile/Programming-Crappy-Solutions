{
 "cells": [
  {
   "cell_type": "markdown",
   "metadata": {},
   "source": [
    "# H2 Computing Notes\n",
    "Basic Knowledge on Python assumed, including but not limited to\n",
    "* if-else, loops, functions\n",
    "* try-except\n",
    "\n",
    "This is a series of common algorithms/ data structures/ pieces of code to refer to, which could be useful in examinations. This includes basic example/ boilerplate code as well as template code for easy memorisation and regurgitation.\n",
    "\n",
    "## Contents\n",
    "1. Common Algorithms/ Libraries\n",
    "2. Sorting Algorithms\n",
    "3. Searching\n",
    "4. Data Structures\n",
    "5. Databases\n",
    "6. Socket Programming\n",
    "7. Web Applications"
   ]
  },
  {
   "cell_type": "markdown",
   "metadata": {},
   "source": [
    "# Common Algorithms/ Libraries"
   ]
  },
  {
   "cell_type": "markdown",
   "metadata": {},
   "source": [
    "## Control Structures"
   ]
  },
  {
   "cell_type": "code",
   "execution_count": 30,
   "metadata": {},
   "outputs": [
    {
     "name": "stdout",
     "output_type": "stream",
     "text": [
      "Press 'Q' to quit: \n",
      "Press 'Q' to quit: Q\n"
     ]
    }
   ],
   "source": [
    "# Sentinel value termination\n",
    "keepRunning = True\n",
    "while keepRunning:\n",
    "    option = input(\"Press 'Q' to quit: \").strip()\n",
    "    if option == 'Q':\n",
    "        keepRunning = False"
   ]
  },
  {
   "cell_type": "code",
   "execution_count": 33,
   "metadata": {},
   "outputs": [],
   "source": [
    "# Repeat Until loop\n",
    "untilCondition = False\n",
    "while not untilCondition:\n",
    "    untilCondition = True"
   ]
  },
  {
   "cell_type": "markdown",
   "metadata": {},
   "source": [
    "## File I/O"
   ]
  },
  {
   "cell_type": "code",
   "execution_count": 112,
   "metadata": {},
   "outputs": [],
   "source": [
    "## Write mode\n",
    "file = open('TEST.txt', 'w')\n",
    "file.write('This is some test data\\nAnd this is another line')\n",
    "file.close()"
   ]
  },
  {
   "cell_type": "code",
   "execution_count": 113,
   "metadata": {},
   "outputs": [
    {
     "name": "stdout",
     "output_type": "stream",
     "text": [
      "This is some test data\n",
      "And this is another line\n"
     ]
    }
   ],
   "source": [
    "## Read mode\n",
    "file = open('TEST.txt') #,'r')\n",
    "for line in file:\n",
    "    print(line.strip())\n",
    "file.close()"
   ]
  },
  {
   "cell_type": "code",
   "execution_count": 89,
   "metadata": {},
   "outputs": [],
   "source": [
    "## Append mode\n",
    "file = open('TEST.txt', 'a')\n",
    "file.write('\\nAnd this is another appended line')\n",
    "file.close()"
   ]
  },
  {
   "cell_type": "code",
   "execution_count": 107,
   "metadata": {},
   "outputs": [],
   "source": [
    "## CSV Writer\n",
    "data = [\n",
    "    ['Alice', 'H1GP', 'H2MATH', 'H2ECONS', 'H2PHY', 'H2COMP'],\n",
    "    ['Bobby', 'H1GP', 'H2MATH', 'H2ECONS', 'H2PHY', 'H2CLL'],\n",
    "    ['Charlie', 'H1GP', 'H2MATH', 'H2ECONS', 'H2CHEM', 'H2COMP'],\n",
    "    ['Danny', 'H1GP', 'H2MATH', 'H2PHY', 'H2CHEM', 'H2COMP'],\n",
    "    ['Ernest', 'H1GP', 'H2MATH', 'H2PHY', 'H2COMP', 'H2ELL']\n",
    "]\n",
    "\n",
    "import csv\n",
    "file = open('studentsubjects.csv','w', newline='') # Newline\n",
    "writer = csv.writer(file)# , delimiter=' ',quotechar='|', quoting=csv.QUOTE_MINIMAL)\n",
    "\n",
    "#for record in data: writer.writerow(record)\n",
    "writer.writerows(data)\n",
    "file.close()"
   ]
  },
  {
   "cell_type": "code",
   "execution_count": 108,
   "metadata": {},
   "outputs": [
    {
     "name": "stdout",
     "output_type": "stream",
     "text": [
      "['Alice', 'H1GP', 'H2MATH', 'H2ECONS', 'H2PHY', 'H2COMP']\n",
      "['Bobby', 'H1GP', 'H2MATH', 'H2ECONS', 'H2PHY', 'H2CLL']\n",
      "['Charlie', 'H1GP', 'H2MATH', 'H2ECONS', 'H2CHEM', 'H2COMP']\n",
      "['Danny', 'H1GP', 'H2MATH', 'H2PHY', 'H2CHEM', 'H2COMP']\n",
      "['Ernest', 'H1GP', 'H2MATH', 'H2PHY', 'H2COMP', 'H2ELL']\n"
     ]
    }
   ],
   "source": [
    "## CSV Reader\n",
    "import csv\n",
    "file = open('studentsubjects.csv') #,'r')\n",
    "reader = csv.reader(file)\n",
    "for record in reader:\n",
    "    print(record)\n",
    "file.close()"
   ]
  },
  {
   "cell_type": "code",
   "execution_count": 22,
   "metadata": {},
   "outputs": [
    {
     "name": "stderr",
     "output_type": "stream",
     "text": [
      "rm: cannot remove 'studentsubjects.csv': No such file or directory\n"
     ]
    }
   ],
   "source": [
    "! rm studentsubjects.csv | rm TEST.txt"
   ]
  },
  {
   "cell_type": "markdown",
   "metadata": {},
   "source": [
    "## F-Strings"
   ]
  },
  {
   "cell_type": "code",
   "execution_count": 59,
   "metadata": {},
   "outputs": [
    {
     "name": "stdout",
     "output_type": "stream",
     "text": [
      "| hello      |\n",
      "|   hello    |\n",
      "|      hello |\n",
      "| -----hello |\n",
      "|               Variable spacing |\n"
     ]
    }
   ],
   "source": [
    "## Justification and spacing\n",
    "print(\"|\", f\"{'hello':<10}\", \"|\")\n",
    "print(\"|\", f\"{'hello':^10}\", \"|\")\n",
    "print(\"|\", f\"{'hello':>10}\", \"|\")\n",
    "print(\"|\", f\"{'hello':->10}\", \"|\") # Fill empty space with extra stuff\n",
    "\n",
    "spacing = 30\n",
    "print(\"|\", f\"{'Variable spacing':>{spacing}}\", \"|\")"
   ]
  },
  {
   "cell_type": "code",
   "execution_count": 47,
   "metadata": {},
   "outputs": [
    {
     "name": "stdout",
     "output_type": "stream",
     "text": [
      "2 Decimal places: 1.00\n",
      "2 Signicant figures: 1\n",
      "\n",
      "Binary form:  1\n",
      "\n",
      "Show sign:  1\n",
      "Show sign: +1\n",
      "Show sign: +1\n"
     ]
    }
   ],
   "source": [
    "## Number Formatting\n",
    "num = 1 # Set as you like\n",
    "\n",
    "# Significant figures\n",
    "print(\"2 Decimal places:\", f\"{num:.2f}\")\n",
    "print(\"2 Signicant figures:\", f\"{num:.2g}\")\n",
    "\n",
    "# Formats\n",
    "print()\n",
    "print(\"Binary form:\", f\"{num:2b}\")\n",
    "\n",
    "# Signs\n",
    "print()\n",
    "print(\"Show sign:\", f\"{num: 2}\")# Leading space in front of positive numbers only\n",
    "print(\"Show sign:\", f\"{num:+2}\") # Always Show sign\n",
    "print(\"Show sign:\", f\"{num:+2}\")# Only for negative numbers\n"
   ]
  },
  {
   "cell_type": "code",
   "execution_count": 55,
   "metadata": {},
   "outputs": [
    {
     "name": "stdout",
     "output_type": "stream",
     "text": [
      "| +1010.00   |\n"
     ]
    }
   ],
   "source": [
    "## Combination\n",
    "print(\"|\", f\"{1010:<+10.2f}\", \"|\")"
   ]
  },
  {
   "cell_type": "code",
   "execution_count": 17,
   "metadata": {
    "scrolled": true
   },
   "outputs": [],
   "source": [
    "#help('FORMATTING') # Run this command for more information about f-strings"
   ]
  },
  {
   "cell_type": "code",
   "execution_count": 11,
   "metadata": {},
   "outputs": [
    {
     "name": "stdout",
     "output_type": "stream",
     "text": [
      "A         B         C         D         \n",
      "0         1         2         3         \n",
      "1         2         3         4         \n",
      "2         3         4         5         \n",
      "3         4         5         6         \n",
      "4         5         6         7         \n",
      "5         6         7         8         \n",
      "6         7         8         9         \n",
      "7         8         9         10        \n",
      "8         9         10        11        \n",
      "9         10        11        12        \n"
     ]
    }
   ],
   "source": [
    "## Generating a table\n",
    "\n",
    "def table(header, spacings, data):\n",
    "    output = ''\n",
    "    for index in range(len(header)):\n",
    "        output += f'{header[index]:<{spacings[index]}}'\n",
    "    \n",
    "    for record in data:\n",
    "        output += '\\n'\n",
    "        for index in range(len(record)):\n",
    "            item = record[index]\n",
    "            output += f'{item:<{spacings[index]}}'\n",
    "        \n",
    "    print(output)\n",
    "\n",
    "header = ['A','B','C','D']\n",
    "spacings = [10,10,10,10]\n",
    "data = [[j for j in range(i,i+4)] for i in range(10)]\n",
    "table(header, spacings, data)"
   ]
  },
  {
   "cell_type": "markdown",
   "metadata": {},
   "source": [
    "## Base Conversion"
   ]
  },
  {
   "cell_type": "code",
   "execution_count": 19,
   "metadata": {},
   "outputs": [],
   "source": [
    "def baseToDenary(number, base):\n",
    "    mapping = {}\n",
    "    \n",
    "    for digit in range(0, 9+1):\n",
    "        mapping[str(digit)] = digit\n",
    "        \n",
    "    for value in range(0, 26):\n",
    "        mapping[chr(65+value)] = 10+value\n",
    "        mapping[chr(97+value)] = 10+value\n",
    "        \n",
    "    value = 0\n",
    "    for i in range(len(number)):\n",
    "        currDigit = number[-1-i]\n",
    "        value += mapping[currDigit] * (base**i)\n",
    "\n",
    "    return value\n",
    "\n",
    "def denaryToBase(number, base):\n",
    "    reference = \"0123456789ABCDEFGHIJKLMNOPQRSTUVWXYZ\"\n",
    "\n",
    "    ans = \"\"\n",
    "    remaining = number\n",
    "    while remaining // base > 0:\n",
    "        currPlaceValue = remaining % base\n",
    "        currDigit = reference[currPlaceValue]\n",
    "        ans = currDigit + ans\n",
    "        remaining = remaining // base\n",
    "    # For the last place\n",
    "    currPlaceValue = remaining % base\n",
    "    if currPlaceValue != 0:\n",
    "        currDigit = reference[currPlaceValue]\n",
    "        ans = currDigit + ans\n",
    "    \n",
    "    return ans"
   ]
  },
  {
   "cell_type": "code",
   "execution_count": 20,
   "metadata": {},
   "outputs": [
    {
     "data": {
      "text/plain": [
       "171"
      ]
     },
     "execution_count": 20,
     "metadata": {},
     "output_type": "execute_result"
    }
   ],
   "source": [
    "baseToDenary('AB',16)"
   ]
  },
  {
   "cell_type": "code",
   "execution_count": 4,
   "metadata": {},
   "outputs": [
    {
     "data": {
      "text/plain": [
       "'A'"
      ]
     },
     "execution_count": 4,
     "metadata": {},
     "output_type": "execute_result"
    }
   ],
   "source": [
    "denaryToBase(10, 16)"
   ]
  },
  {
   "cell_type": "markdown",
   "metadata": {},
   "source": [
    "## Datetime"
   ]
  },
  {
   "cell_type": "code",
   "execution_count": 62,
   "metadata": {},
   "outputs": [
    {
     "name": "stdout",
     "output_type": "stream",
     "text": [
      "Object now: \n",
      " 2020-08-22 15:51:16.839316 \n",
      "\n",
      "Get Current date, time and weekday: \n",
      " 2020-08-22 15:51:16.839316 5 \n",
      "\n",
      "Get min and max date and time: \n",
      " 0001-01-01 00:00:00 9999-12-31 23:59:59.999999 \n",
      "\n",
      "Get date attributes: \n",
      " 2020 8 22 \n",
      "\n",
      "Get time attributes: \n",
      " 15 51 16 839316 \n",
      "\n"
     ]
    }
   ],
   "source": [
    "from datetime import datetime\n",
    "now = datetime.now()\n",
    "\n",
    "## Accessing attributes\n",
    "print(\"Object now: \\n\", now, \"\\n\")\n",
    "print(\"Get Current date, time and weekday: \\n\", now.date(), now.time(), now.weekday(), \"\\n\")\n",
    "print(\"Get min and max date and time: \\n\", now.min, now.max, \"\\n\")\n",
    "print(\"Get date attributes: \\n\", now.year, now.month, now.day, \"\\n\")\n",
    "print(\"Get time attributes: \\n\", now.hour, now.minute, now.second, now.microsecond, \"\\n\")"
   ]
  },
  {
   "cell_type": "code",
   "execution_count": 67,
   "metadata": {},
   "outputs": [
    {
     "data": {
      "text/plain": [
       "datetime.datetime(2017, 11, 28, 23, 55, 59, 342380)"
      ]
     },
     "execution_count": 67,
     "metadata": {},
     "output_type": "execute_result"
    }
   ],
   "source": [
    "## Create your own dates\n",
    "datetime(2017, 11, 28, 23, 55, 59, 342380)"
   ]
  },
  {
   "cell_type": "code",
   "execution_count": 63,
   "metadata": {},
   "outputs": [
    {
     "name": "stdout",
     "output_type": "stream",
     "text": [
      "Past: \n",
      " 2020-08-15 14:51:16.839316 \n",
      "\n",
      "Future: \n",
      " 2020-08-29 16:51:16.839316 \n",
      "\n"
     ]
    }
   ],
   "source": [
    "## DateTime Arithmetic\n",
    "\n",
    "from datetime import timedelta\n",
    "diff = timedelta( weeks=1, days=0, hours=1, minutes=0, seconds=0, microseconds=0)\n",
    "print(\"Past: \\n\",now-diff, \"\\n\")\n",
    "print(\"Future: \\n\",now+diff, \"\\n\")"
   ]
  },
  {
   "cell_type": "markdown",
   "metadata": {},
   "source": [
    "# Sorting Algorithms"
   ]
  },
  {
   "cell_type": "markdown",
   "metadata": {},
   "source": [
    "## Bubble Sort"
   ]
  },
  {
   "cell_type": "code",
   "execution_count": 4,
   "metadata": {},
   "outputs": [
    {
     "data": {
      "text/plain": [
       "[0, 1, 2, 3, 3, 6, 45]"
      ]
     },
     "execution_count": 4,
     "metadata": {},
     "output_type": "execute_result"
    }
   ],
   "source": [
    "## Iterative\n",
    "def bubbleSort(arr):\n",
    "    noswap = False\n",
    "    while noswap == False:\n",
    "        noswap = True\n",
    "        for i in range(1,len(arr)):\n",
    "            if not(arr[i-1] <= arr[i]):\n",
    "                # Swapping\n",
    "                temp = arr[i]\n",
    "                arr[i] = arr[i-1]\n",
    "                arr[i-1] = temp\n",
    "                noswap = False\n",
    "\n",
    "arr = [1,0,3,6,3,45,2]\n",
    "bubbleSort(arr)\n",
    "arr"
   ]
  },
  {
   "cell_type": "code",
   "execution_count": 6,
   "metadata": {},
   "outputs": [
    {
     "data": {
      "text/plain": [
       "[0, 1, 3, 2, 3, 6, 45]"
      ]
     },
     "execution_count": 6,
     "metadata": {},
     "output_type": "execute_result"
    }
   ],
   "source": [
    "## Recursive\n",
    "\n",
    "def recursiveBubbleSort(arr, low, high):\n",
    "    noswap = True\n",
    "    for i in range(low+1, high):\n",
    "        if not(arr[i-1] <= arr[i]):\n",
    "            # Swapping\n",
    "            temp = arr[i]\n",
    "            arr[i] = arr[i-1]\n",
    "            arr[i-1] = temp\n",
    "            noswap = False\n",
    "    if noswap == False:\n",
    "        recursiveBubbleSort(arr, low+1, high)\n",
    "    \n",
    "arr = [1,0,3,6,3,45,2]\n",
    "recursiveBubbleSort(arr,0,len(arr))\n",
    "arr"
   ]
  },
  {
   "cell_type": "markdown",
   "metadata": {},
   "source": [
    "## Insertion Sort"
   ]
  },
  {
   "cell_type": "code",
   "execution_count": 124,
   "metadata": {},
   "outputs": [
    {
     "data": {
      "text/plain": [
       "[0, 1, 2, 3, 3, 6, 45]"
      ]
     },
     "execution_count": 124,
     "metadata": {},
     "output_type": "execute_result"
    }
   ],
   "source": [
    "## Iterative\n",
    "def insertionSort(arr):\n",
    "    for key_pos in range(len(arr)):\n",
    "        ## Shifting\n",
    "        key = arr[key_pos]\n",
    "        shift_pos = key_pos - 1\n",
    "        while shift_pos >= 0 and arr[shift_pos] >= key:\n",
    "            arr[shift_pos+1] = arr[shift_pos]\n",
    "            shift_pos -= 1\n",
    "        \n",
    "        ## Insertion\n",
    "        arr[shift_pos+1] = key\n",
    "        \n",
    "        \n",
    "arr = [1,0,3,6,3,45,2]\n",
    "insertionSort(arr)\n",
    "arr"
   ]
  },
  {
   "cell_type": "code",
   "execution_count": 8,
   "metadata": {},
   "outputs": [
    {
     "data": {
      "text/plain": [
       "[0, 1, 2, 3, 3, 6, 45]"
      ]
     },
     "execution_count": 8,
     "metadata": {},
     "output_type": "execute_result"
    }
   ],
   "source": [
    "## Recursive\n",
    "\n",
    "def recursiveInsertionSort(arr, curr_pass=1):\n",
    "    ### Base Case #########################\n",
    "    if curr_pass >= len(arr):\n",
    "        return\n",
    "    \n",
    "    ### Recursive Process #################\n",
    "    key_pos = curr_pass\n",
    "    \n",
    "    ## Shifting\n",
    "    key = arr[key_pos]\n",
    "    shift_pos = key_pos - 1\n",
    "    while shift_pos >= 0 and arr[shift_pos] >= key:\n",
    "        arr[shift_pos+1] = arr[shift_pos]\n",
    "        shift_pos -= 1\n",
    "    \n",
    "    ## Insertion\n",
    "    arr[shift_pos+1] = key\n",
    "    \n",
    "    ### Recursive Case ####################\n",
    "    recursiveInsertionSort(arr, curr_pass+1)\n",
    "\n",
    "arr = [1,0,3,6,3,45,2]\n",
    "recursiveInsertionSort(arr)\n",
    "arr"
   ]
  },
  {
   "cell_type": "markdown",
   "metadata": {},
   "source": [
    "## Merge Sort"
   ]
  },
  {
   "cell_type": "code",
   "execution_count": null,
   "metadata": {},
   "outputs": [],
   "source": [
    "## General Steps\n",
    "def cmp(a, b):\n",
    "    return a < b # Ascending\n",
    "    \n",
    "def merge(left, right):\n",
    "    result = []\n",
    "    l = 0 # Index of left array\n",
    "    r = 0 # Index of right array\n",
    "    while l + r < len(left) + len(right):\n",
    "        bothIndexesInRange = l < len(left) and r < len(right)\n",
    "        if (bothIndexesInRange and cmp(left[l],right[r])) or \\\n",
    "            r >= len(right):\n",
    "            result.append(left[l])\n",
    "            l += 1\n",
    "        else:\n",
    "            result.append(right[r])\n",
    "            r += 1\n",
    "    return result"
   ]
  },
  {
   "cell_type": "code",
   "execution_count": null,
   "metadata": {},
   "outputs": [],
   "source": [
    "## Recursive\n",
    "\n",
    "def MergeSort(array):\n",
    "    # Base case\n",
    "    if len(array) <= 1: # Already sorted\n",
    "        return array\n",
    "    else:\n",
    "        # Divide\n",
    "        mid = len(array) // 2\n",
    "        left = array[:mid]\n",
    "        right = array[mid:]\n",
    "        \n",
    "        # Sort\n",
    "        left = MergeSort(left)\n",
    "        right = MergeSort(right)\n",
    "        \n",
    "        # Merge\n",
    "        return merge(left, right)"
   ]
  },
  {
   "cell_type": "code",
   "execution_count": null,
   "metadata": {},
   "outputs": [],
   "source": [
    "## Iterative\n",
    "\n",
    "def MergeSortPass(Array, sz, SortOrder): # Working\n",
    "    # Sort the smaller subarrays\n",
    "    index = 0\n",
    "    while index < len(Array):\n",
    "        low = index\n",
    "        mid = index + sz\n",
    "        high = index + 2 * sz\n",
    "        left = Array[low:mid]\n",
    "        right = Array[mid:high]\n",
    "\n",
    "        result = merge(left, right, SortOrder)\n",
    "        for index in range(len(result)):\n",
    "            Array[low + index] = result[index] \n",
    "\n",
    "        index = high # Sort the next subarray\n",
    "        \n",
    "def MergeSortLoop(Array, SortOrder):\n",
    "    sz = 1 # Size of subarray to sort\n",
    "    while sz < len(Array):\n",
    "        MergeSortPass(Array, sz, SortOrder)\n",
    "        sz *= 2 # Double the array size\n",
    "    return Array"
   ]
  },
  {
   "cell_type": "markdown",
   "metadata": {},
   "source": [
    "## Quick Sort"
   ]
  },
  {
   "cell_type": "code",
   "execution_count": 28,
   "metadata": {},
   "outputs": [
    {
     "name": "stdout",
     "output_type": "stream",
     "text": [
      "[1, 2, 10, 9, 9, 9, 2, 5, 6, 4] 0 1 0 9\n",
      "[1, 2, 10, 9, 9, 9, 2, 5, 6, 4] 1 2 1 9\n",
      "[1, 2, 4, 9, 9, 9, 2, 5, 6, 10] 2 10 9 9\n",
      "[1, 2, 2, 4, 9, 9, 9, 5, 6, 10] 2 4 3 8\n",
      "[1, 2, 2, 4, 6, 9, 9, 5, 9, 10] 4 9 8 8\n",
      "[1, 2, 2, 4, 5, 6, 9, 9, 9, 10] 4 6 5 7\n",
      "[1, 2, 2, 4, 5, 6, 9, 9, 9, 10] 6 8 7 7\n"
     ]
    },
    {
     "data": {
      "text/plain": [
       "True"
      ]
     },
     "execution_count": 28,
     "metadata": {},
     "output_type": "execute_result"
    }
   ],
   "source": [
    "# Recursive, in place\n",
    "def quicksort(arr, s, e):\n",
    "    if not s<e: \n",
    "        return\n",
    "    pivot,l,r = arr[s],s+1,e\n",
    "    while l <= r:\n",
    "        while l <= r and arr[l] <= pivot:\n",
    "            l+=1\n",
    "        while l <= r and arr[r] >= pivot:\n",
    "            r-=1\n",
    "        if l<=r:\n",
    "            temp = arr[l]\n",
    "            arr[l] = arr[r]\n",
    "            arr[r] = temp\n",
    "            \n",
    "    temp = arr[s]\n",
    "    arr[s] = arr[r]\n",
    "    arr[r] = temp\n",
    "    \n",
    "    print(arr,s,l,r,e)\n",
    "    quicksort(arr,s,r-1)\n",
    "    quicksort(arr,r+1,e)\n",
    "    \n",
    "import random\n",
    "arr = [random.randint(1,10) for i in range(10)]\n",
    "og = arr\n",
    "\n",
    "quicksort(arr, 0, len(arr)-1)\n",
    "arr == sorted(og)"
   ]
  },
  {
   "cell_type": "code",
   "execution_count": 20,
   "metadata": {},
   "outputs": [
    {
     "data": {
      "text/plain": [
       "[1, 9, 11, 12, 13, 15, 15, 17, 19, 20]"
      ]
     },
     "execution_count": 20,
     "metadata": {},
     "output_type": "execute_result"
    }
   ],
   "source": [
    "# Recursive, out of place\n",
    "def quicksort(arr):\n",
    "    ## Base Case: Already sorted ##########\n",
    "    if len(arr) <= 1:\n",
    "        return arr\n",
    "    ## Recursive Case #####################\n",
    "    else:\n",
    "        # Partitioning\n",
    "        pivot = arr[0]\n",
    "        left = []\n",
    "        right = []\n",
    "        for item in arr[1:]: # Exclude the first element\n",
    "            if item < pivot:\n",
    "                left.append(item)\n",
    "            else: #if item >= pivot:\n",
    "                right.append(item)\n",
    "        ## Recursion Call #################\n",
    "        return quicksort(left) + [pivot] + quicksort(right)\n",
    "\n",
    "import random\n",
    "arr = [random.randint(1,20) for i in range(10)]\n",
    "quicksort(arr)"
   ]
  },
  {
   "cell_type": "markdown",
   "metadata": {},
   "source": [
    "# Searching Algorithms"
   ]
  },
  {
   "cell_type": "markdown",
   "metadata": {},
   "source": [
    "## Linear Search"
   ]
  },
  {
   "cell_type": "code",
   "execution_count": 80,
   "metadata": {},
   "outputs": [
    {
     "data": {
      "text/plain": [
       "4"
      ]
     },
     "execution_count": 80,
     "metadata": {},
     "output_type": "execute_result"
    }
   ],
   "source": [
    "array = [1, 2, 3, 4, 5, 6, 7, 8, 9, 10]\n",
    "item = 4\n",
    "\n",
    "def linearSearch(array, item):\n",
    "    for index in range(len(array)):\n",
    "        if array[index] == item:\n",
    "            return item\n",
    "    return -1 # Cannot find\n",
    "\n",
    "linearSearch(array, item)"
   ]
  },
  {
   "cell_type": "markdown",
   "metadata": {},
   "source": [
    "## Binary Search"
   ]
  },
  {
   "cell_type": "code",
   "execution_count": 70,
   "metadata": {},
   "outputs": [
    {
     "data": {
      "text/plain": [
       "1"
      ]
     },
     "execution_count": 70,
     "metadata": {},
     "output_type": "execute_result"
    }
   ],
   "source": [
    "## Iterative\n",
    "array = [1, 2, 3, 4, 5, 6, 7, 8, 9, 10]\n",
    "def binarySearch(array, low, high, find):\n",
    "    while low <= high:\n",
    "        mid = int((low+high)/2)\n",
    "        if array[mid] == find:\n",
    "            return mid\n",
    "        elif array[mid] > find:\n",
    "            high = mid - 1\n",
    "        elif array[mid] < find:\n",
    "            low = mid + 1\n",
    "    return -1\n",
    "\n",
    "binarySearch(array, 0, 9, 2)"
   ]
  },
  {
   "cell_type": "code",
   "execution_count": 79,
   "metadata": {},
   "outputs": [
    {
     "data": {
      "text/plain": [
       "1"
      ]
     },
     "execution_count": 79,
     "metadata": {},
     "output_type": "execute_result"
    }
   ],
   "source": [
    "## Recursive\n",
    "def recursiveBinarySearch(array, low, high, find):\n",
    "    ### Base Cases ############################\n",
    "    if low > high: # Not in array\n",
    "        return -1\n",
    "    \n",
    "    mid = int((low + high)/2) # Trucate\n",
    "    if array[mid] == find:\n",
    "        return mid\n",
    "              \n",
    "    ### Recursive cases ########################\n",
    "    if find < array[mid]:\n",
    "        return recursiveBinarySearch(array, low, mid-1, find)\n",
    "    elif find > array[mid]:\n",
    "        return recursiveBinarySearch(array, mid+1, high, find)\n",
    "\n",
    "recursiveBinarySearch(array, 0, 9, 2)"
   ]
  },
  {
   "cell_type": "markdown",
   "metadata": {},
   "source": [
    "##  Hash Table"
   ]
  },
  {
   "cell_type": "code",
   "execution_count": 64,
   "metadata": {},
   "outputs": [],
   "source": [
    "class Node:\n",
    "    def __init__(self, key, value):\n",
    "        self.key = key\n",
    "        self.value = value\n",
    "        self.next = None\n",
    "    \n",
    "    def __str__(self):\n",
    "        return f\"{self.key},{self.value}\"\n",
    "    \n",
    "    ### For Separate Chaining ###############\n",
    "    def insert(self, key, value):\n",
    "        if self.next == None:\n",
    "            self.next = Node(key, value)\n",
    "        else:\n",
    "            self.next.insert(key, value)\n",
    "            \n",
    "    def find(self, key):\n",
    "        if self.key == key:\n",
    "            return self\n",
    "        elif self.next != None:\n",
    "            return self.next.find(key)\n",
    "        else:\n",
    "            return None"
   ]
  },
  {
   "cell_type": "code",
   "execution_count": 65,
   "metadata": {},
   "outputs": [
    {
     "name": "stdout",
     "output_type": "stream",
     "text": [
      "[None, <__main__.Node object at 0x0000022F592A8B00>, <__main__.Node object at 0x0000022F592A8A20>, None, None, None, None, None, None, None, None, None, None, None, None, None, None, None, None, None, None, None, None, None, None, None, None, None, None, None, None, None, None, None, None, None, None, None, None, None, None, None, None, None, None, None, None, None, None, None, None, None, None]\n",
      "54,2\n"
     ]
    }
   ],
   "source": [
    "## Open Addressing\n",
    "\n",
    "class HashTable:\n",
    "    def __init__(self, max_size=53):\n",
    "        self.size = max_size\n",
    "        # Use a python list to simulate an array\n",
    "        self.array = []\n",
    "        for i in range(max_size):\n",
    "            self.array.append(None)\n",
    "            \n",
    "    def get_hash(self, key):\n",
    "        '''\n",
    "        # Weighted ordinal hash\n",
    "        key = str(key)\n",
    "        hash = 0\n",
    "        for i in range(len(key)):\n",
    "            hash += ord(key[i]) * i\n",
    "        '''\n",
    "        hash = key\n",
    "        hash %= self.size\n",
    "        return hash\n",
    "    \n",
    "    def insert(self, key, data):\n",
    "        pos = self.get_hash(key)\n",
    "        \n",
    "        # If at empty value\n",
    "        if self.array[pos] == None:\n",
    "            self.array[pos] = Node(key,data)\n",
    "            return 0\n",
    "        \n",
    "        # Open addressing\n",
    "        original = pos\n",
    "        pos = original + 1\n",
    "        while pos != original:\n",
    "            if self.array[pos] == None:\n",
    "                self.array[pos] = Node(key,data)\n",
    "                return 1\n",
    "            pos = (pos + 1) % self.size # Wrap around\n",
    "        \n",
    "        return -1 # Failed to insert\n",
    "    \n",
    "    def find(self, key):\n",
    "        pos = self.get_hash(key)\n",
    "        \n",
    "        # If at empty value\n",
    "        if self.array[pos] != None and self.array[pos].key == key:\n",
    "            return self.array[pos]\n",
    "        \n",
    "        # Open addressing\n",
    "        original = pos\n",
    "        pos = original + 1\n",
    "        while pos != original:\n",
    "            if self.array[pos] != None and self.array[pos].key == key:\n",
    "                return self.array[pos]\n",
    "            pos = (pos + 1) % self.size # Wrap around\n",
    "        \n",
    "        return -1 # Failed to find\n",
    "\n",
    "    \n",
    "ht = HashTable()\n",
    "ht.insert(1, 3)\n",
    "ht.insert(54, 2)\n",
    "print(ht.array)\n",
    "print(ht.find(54))"
   ]
  },
  {
   "cell_type": "code",
   "execution_count": 66,
   "metadata": {},
   "outputs": [
    {
     "name": "stdout",
     "output_type": "stream",
     "text": [
      "[None, <__main__.Node object at 0x0000022F592FB5F8>, None, None, None, None, None, None, None, None, None, None, None, None, None, None, None, None, None, None, None, None, None, None, None, None, None, None, None, None, None, None, None, None, None, None, None, None, None, None, None, None, None, None, None, None, None, None, None, None, None, None, None]\n",
      "54,2\n"
     ]
    }
   ],
   "source": [
    "## Separate Chaining\n",
    "\n",
    "# Uses the previous node class\n",
    "class HashTable:\n",
    "    def __init__(self, max_size=53):\n",
    "        self.size = max_size\n",
    "        # Use a python list to simulate an array\n",
    "        self.array = []\n",
    "        for i in range(max_size):\n",
    "            self.array.append(None)\n",
    "            \n",
    "    def get_hash(self, key):\n",
    "        '''\n",
    "        # Weighted ordinal hash\n",
    "        key = str(key)\n",
    "        hash = 0\n",
    "        for i in range(len(key)):\n",
    "            hash += ord(key[i]) * i\n",
    "        '''\n",
    "        hash = key\n",
    "        hash %= self.size\n",
    "        return hash\n",
    "    \n",
    "    def insert(self, key, data):\n",
    "        pos = self.get_hash(key)\n",
    "        \n",
    "        # If at empty value\n",
    "        if self.array[pos] == None:\n",
    "            self.array[pos] = Node(key,data)\n",
    "        # Open addressing\n",
    "        else:\n",
    "            self.array[pos].insert(key, data)\n",
    "    \n",
    "    def find(self, key):\n",
    "        pos = self.get_hash(key)\n",
    "        \n",
    "        # If at empty value\n",
    "        if self.array[pos] != None and self.array[pos].key == key:\n",
    "            return self.array[pos]\n",
    "        \n",
    "        # Separate Chaining\n",
    "        return self.array[pos].find(key)\n",
    "\n",
    "    \n",
    "ht = HashTable()\n",
    "ht.insert(1, 3)\n",
    "ht.insert(54, 2)\n",
    "print(ht.array)\n",
    "print(ht.find(54))"
   ]
  },
  {
   "cell_type": "markdown",
   "metadata": {},
   "source": [
    "# Data Structures"
   ]
  },
  {
   "cell_type": "markdown",
   "metadata": {},
   "source": [
    "## Linked Lists\n",
    "\n",
    "There are a few main approaches\n",
    "1. Pointer implementation\n",
    "2. Array Implementation"
   ]
  },
  {
   "cell_type": "code",
   "execution_count": 24,
   "metadata": {},
   "outputs": [
    {
     "name": "stdout",
     "output_type": "stream",
     "text": [
      "True\n",
      "1, 2, 3, 4, 5\n",
      "False\n",
      "4\n",
      "1, 2, 4, 5\n"
     ]
    }
   ],
   "source": [
    "# Pointer Implementation\n",
    "class Node:\n",
    "    def __init__(self, value=None,next=None):\n",
    "        self.value = value\n",
    "        self.next = next\n",
    "\n",
    "class LinkedList:\n",
    "    def __init__(self):\n",
    "        self.start = None\n",
    "        \n",
    "    def isEmpty(self):\n",
    "        return self.start == None\n",
    "        \n",
    "    def display(self):\n",
    "        output = \"\"\n",
    "        # Traversal\n",
    "        curr = self.start\n",
    "        while curr != None:\n",
    "            output += str(curr.value)\n",
    "            curr = curr.next\n",
    "            if curr != None:\n",
    "                output += \", \"\n",
    "        print(output)\n",
    "    \n",
    "    ### General Traversal Methods ###############################\n",
    "    def travelToNode(self, reachedFunc):\n",
    "        counter = 0\n",
    "        prev = None\n",
    "        curr = self.start\n",
    "        while curr != None and (not reachedFunc(counter, curr)):\n",
    "            prev = curr\n",
    "            curr = curr.next\n",
    "            counter += 1\n",
    "        \n",
    "        return prev, curr, counter\n",
    "        \n",
    "    def get(self, reachedFunc):\n",
    "        prev, curr, counter = self.travelToNode(reachedFunc)\n",
    "        return curr\n",
    "        \n",
    "    def insert(self, reachedFunc, value):\n",
    "        prev, curr, counter = self.travelToNode(reachedFunc)\n",
    "        \n",
    "        # Insertion\n",
    "        newNode = Node(value,curr)\n",
    "        if prev == None: # Link at start\n",
    "            self.start = newNode\n",
    "        else: # Link in between\n",
    "            prev.next = newNode\n",
    "\n",
    "    def remove(self, reachedFunc):\n",
    "        prev, curr, counter = self.travelToNode(reachedFunc)\n",
    "        if prev == None: # Link at start\n",
    "            self.start = curr.next\n",
    "        else: # Remove in between nodes/ at the end\n",
    "            prev.next = curr.next\n",
    "    \n",
    "    ### Specific types ########################################\n",
    "    def getPosition(self, pos):\n",
    "        def reachedFunc(currPos, currNode):\n",
    "            return currPos == pos\n",
    "        return self.get(reachedFunc)\n",
    "            \n",
    "    def insertPosition(self, pos, val):\n",
    "        def reachedFunc(currPos, currNode):\n",
    "            return currPos == pos\n",
    "        return self.insert(reachedFunc, val)\n",
    "    \n",
    "    def removePosition(self, pos):\n",
    "        def reachedFunc(currPos, currNode):\n",
    "            return currPos == pos\n",
    "        return self.remove(reachedFunc)\n",
    "    \n",
    "    def insertSorted(self, val):\n",
    "        def reachedFunc(currPos, currNode):\n",
    "            return currNode.value >= val\n",
    "        return self.insert(reachedFunc, val)\n",
    "    \n",
    "def driver():\n",
    "    l = LinkedList()\n",
    "    print(l.isEmpty())\n",
    "    l.insertPosition(10,2)\n",
    "    l.insertSorted(1)\n",
    "    l.insertPosition(10,3)\n",
    "    l.insertPosition(10,4)\n",
    "    l.insertPosition(10,5)\n",
    "    l.display()\n",
    "    print(l.isEmpty())\n",
    "    print(l.getPosition(3).value)\n",
    "    l.removePosition(2)\n",
    "    l.display()\n",
    "\n",
    "if __name__ == \"__main__\":\n",
    "    driver()"
   ]
  },
  {
   "cell_type": "code",
   "execution_count": 87,
   "metadata": {},
   "outputs": [
    {
     "name": "stdout",
     "output_type": "stream",
     "text": [
      "Is Empty: True\n",
      "### Addition of Items #############################\n",
      "Start Pointer = 2\n",
      "End Pointer = 3\n",
      "nextFree Pointer = 0\n",
      "Index Content              Next\n",
      "    1 2                       4\n",
      "    2 1                       1\n",
      "    3 5                       0\n",
      "    4 3                       5\n",
      "    5 4                       3\n",
      "Items in order:\n",
      "1\n",
      "2\n",
      "3\n",
      "4\n",
      "5\n",
      "\n",
      "Is Empty: False\n",
      "Is Full: True\n",
      "Data at position 3: 4\n",
      "### Removal of Items #############################\n",
      "Start Pointer = 2\n",
      "End Pointer = 2\n",
      "nextFree Pointer = 1\n",
      "Index Content              Next\n",
      "    1 None                    4\n",
      "    2 1                       5\n",
      "    3 5                       0\n",
      "    4 None                    0\n",
      "    5 4                       3\n",
      "Items in order:\n",
      "1\n",
      "4\n",
      "5\n",
      "Is Empty: False\n",
      "Is Full: False\n"
     ]
    }
   ],
   "source": [
    "class ListNode:\n",
    "    def __init__(self, data=None, next=None):\n",
    "        self.data = data\n",
    "        self.next = next\n",
    "    \n",
    "    def isEmpty(self):\n",
    "        return self.data == None\n",
    "    \n",
    "    def __str__(self):\n",
    "        return f\"Node({self.data}, {self.next})\"\n",
    "\n",
    "class ArrayLinkedList:\n",
    "    def __init__(self, size=10):\n",
    "        self.initialise(size)\n",
    "    \n",
    "    def initialise(self, size=10):\n",
    "        # Use a python list to simulate an array of Nodes\n",
    "        self.size = size\n",
    "        self.array = []\n",
    "        for i in range(self.size + 1): # 1-indexed. 0-indexed goes unused\n",
    "            next = (i + 1) % (self.size + 1)\n",
    "            node = ListNode(None, next)\n",
    "            self.array.append(node)\n",
    "        \n",
    "        # Others\n",
    "        self.start = 0 # Pointer to First element in linked list\n",
    "        self.end = 1 # Pointer to Last element in linked list\n",
    "        self.nextFree = 1 # Pointer to First element in free list\n",
    "    \n",
    "    ### Auxilary Functions #####################################################\n",
    "    def isEmpty(self):\n",
    "        return self.start == 0\n",
    "        \n",
    "    def isFull(self):\n",
    "        # Check for unused nodes\n",
    "        return self.nextFree == 0\n",
    "    \n",
    "    def printStructure(self):\n",
    "        output = \"\"\n",
    "        # Pointers\n",
    "        output += f\"Start Pointer = {self.start}\\n\"\n",
    "        output += f\"End Pointer = {self.end}\\n\"\n",
    "        output += f\"nextFree Pointer = {self.nextFree}\\n\"\n",
    "        # Array Contents\n",
    "        output += f\"{'Index':5} {'Content':20} {'Next':4}\\n\"\n",
    "        for index in range(1,len(self.array)):\n",
    "            content = str(self.array[index].data)\n",
    "            nextPointer = self.array[index].next\n",
    "            output += f\"{index:5} {content:20} {nextPointer:4}\" + \"\\n\"\n",
    "        print(output[:-1])\n",
    "    \n",
    "    ### Generic Traversal #######################################################\n",
    "    def display(self):\n",
    "        output = \"Items in order:\"\n",
    "        prevPos = None\n",
    "        currPos = self.start\n",
    "        currNode = self.array[currPos]\n",
    "        while not currNode.isEmpty():\n",
    "            output += f'\\n{currNode.data}'\n",
    "            prevPos = currPos\n",
    "            currPos = currNode.next\n",
    "            currNode = self.array[currPos]\n",
    "           \n",
    "        print(output)\n",
    "        \n",
    "    def travelToNode(self, reachedFunc):\n",
    "        counter = 0\n",
    "        prevPos = None\n",
    "        currPos = self.start\n",
    "        currNode = self.array[currPos]\n",
    "        while not currNode.isEmpty() and not reachedFunc(counter, currPos, currNode):\n",
    "            prevPos = currPos\n",
    "            currPos = currNode.next\n",
    "            currNode = self.array[currPos]\n",
    "            counter += 1\n",
    "           \n",
    "        if prevPos != None:\n",
    "            prevNode = self.array[prevPos]\n",
    "        else:\n",
    "            prevNode = None\n",
    "            \n",
    "        return prevPos, prevNode, currPos, currNode, counter\n",
    "        \n",
    "    ### Generic Traversal Methods ############################################### \n",
    "    def get(self, reachedFunc):\n",
    "        prevPos, prevNode, currPos, currNode, counter = self.travelToNode(reachedFunc)\n",
    "        return currNode\n",
    "    \n",
    "    def insert(self, reachedFunc, item):\n",
    "        ### Mandatory checks ##################################\n",
    "        if self.isFull():\n",
    "            raise Exception(\"No space left to add new node!\")\n",
    "        \n",
    "        ### Traversal #######################################\n",
    "        prevPos, prevNode, currPos, currNode, counter = self.travelToNode(reachedFunc)\n",
    "        \n",
    "        ### Create new node ##################################\n",
    "        newNodePos = self.nextFree\n",
    "        newNode = self.array[newNodePos] \n",
    "        newNode.data = item\n",
    "        self.nextFree = newNode.next # Get nextFree\n",
    "        \n",
    "        ### Linking ##########################################\n",
    "        ### ---[prev]---[new]---[curr]--- ####################\n",
    "        # Inserting at the front\n",
    "        if prevPos == None:\n",
    "            self.start = newNodePos\n",
    "        # Linking from previous node\n",
    "        else:    \n",
    "            prevNode.next = newNodePos\n",
    "            \n",
    "        # Inserting at the back\n",
    "        if currNode.isEmpty():\n",
    "            self.end = newNodePos\n",
    "        # Linking to next node\n",
    "        newNode.next = currPos\n",
    "    \n",
    "    def remove(self, reachedFunc):\n",
    "        ### Mandatory checks ##################################\n",
    "        if self.isEmpty():\n",
    "            raise Exception(\"Nothing to remove!\")\n",
    "        \n",
    "        ### Traversal #######################################\n",
    "        prevPos, prevNode, currPos, currNode, counter = self.travelToNode(reachedFunc)\n",
    "        nextPos = currNode.next\n",
    "        nextNode = self.array[nextPos]\n",
    "        \n",
    "        ### Freeing up curr node #############################\n",
    "        currNode.next = self.nextFree\n",
    "        currNode.data = None\n",
    "        self.nextFree = currPos\n",
    "        \n",
    "        ### Unlinking ########################################\n",
    "        ## ---[prev]---[curr]---[next]--- ####################\n",
    "        if prevNode == None:\n",
    "            self.start = nextPos\n",
    "        else:\n",
    "            prevNode.next = nextPos  \n",
    "            \n",
    "        # Linking to end (if remove to end)\n",
    "        if currNode.isEmpty():\n",
    "            self.end = prevPos\n",
    "\n",
    "    ### Specific types ########################################\n",
    "    def getPosition(self, pos):\n",
    "        def reachedFunc(currPos, arrayPos, currNode):\n",
    "            return currPos == pos\n",
    "        return self.get(reachedFunc)\n",
    "            \n",
    "    def insertPosition(self, pos, val):\n",
    "        def reachedFunc(currPos, arrayPos, currNode):\n",
    "            return currPos == pos\n",
    "        return self.insert(reachedFunc, val)\n",
    "    \n",
    "    def removePosition(self, pos):\n",
    "        def reachedFunc(currPos, arrayPos, currNode):\n",
    "            return currPos == pos\n",
    "        return self.remove(reachedFunc)\n",
    "    \n",
    "    def insertSorted(self, val):\n",
    "        def reachedFunc(currPos, arrayPos, currNode):\n",
    "            return currNode.data >= val\n",
    "        return self.insert(reachedFunc, val)\n",
    "\n",
    "### Driver ################################################\n",
    "def driver():\n",
    "    l = ArrayLinkedList(5)\n",
    "    print(\"Is Empty:\", l.isEmpty())\n",
    "    print(\"### Addition of Items #############################\")\n",
    "    l.insertPosition(10,2)\n",
    "    l.insertSorted(1)\n",
    "    l.insertPosition(10, 5)\n",
    "    l.insertSorted(3)\n",
    "    l.insertSorted(4)\n",
    "    l.printStructure()\n",
    "    l.display()\n",
    "    print()\n",
    "    print(\"Is Empty:\", l.isEmpty())\n",
    "    print(\"Is Full:\", l.isFull())\n",
    "    print('Data at position 3:', l.getPosition(3).data)\n",
    "    \n",
    "    print(\"### Removal of Items #############################\")\n",
    "    l.removePosition(2)\n",
    "    l.removePosition(1)\n",
    "    #l.removePosition(0)\n",
    "    #l.removePosition(0)\n",
    "    #l.removePosition(0)\n",
    "    l.printStructure()\n",
    "    l.display()\n",
    "    print(\"Is Empty:\", l.isEmpty())\n",
    "    print(\"Is Full:\", l.isFull())\n",
    "\n",
    "if __name__ == \"__main__\":\n",
    "    driver()"
   ]
  },
  {
   "cell_type": "markdown",
   "metadata": {},
   "source": [
    "## Stacks"
   ]
  },
  {
   "cell_type": "code",
   "execution_count": null,
   "metadata": {},
   "outputs": [],
   "source": [
    "class Node:\n",
    "    def __init__(self, data):\n",
    "        self.data = data\n",
    "        self.next = None\n",
    "\n",
    "class LinkedListStack:\n",
    "    def __init__(self):\n",
    "        self.head = None\n",
    "        self.current_size = 0\n",
    "\n",
    "    def is_empty(self):\n",
    "        return self.size() == 0\n",
    "    \n",
    "    def size(self):\n",
    "        return self.current_size\n",
    "    \n",
    "    def push(self, data):\n",
    "        self.current_size += 1\n",
    "        if self.head is None:\n",
    "            self.head = Node(data)\n",
    "        else:\n",
    "            new_node = Node(data)\n",
    "            new_node.next = self.head\n",
    "            self.head = new_node\n",
    "\n",
    "    def pop(self):\n",
    "        if self.head is None:\n",
    "            return None\n",
    "        else:\n",
    "            self.current_size -= 1\n",
    "            popped = self.head.data\n",
    "            self.head = self.head.next\n",
    "            return popped\n",
    "\n",
    "    def peek(self):\n",
    "        if self.head is None:\n",
    "            return None\n",
    "        else:\n",
    "            popped = self.head.data\n",
    "            return popped"
   ]
  },
  {
   "cell_type": "code",
   "execution_count": null,
   "metadata": {},
   "outputs": [],
   "source": [
    "class ArrayStack:\n",
    "    def __init__(self):\n",
    "        self.MAX_SIZE = 30\n",
    "        # Simulate an array in Python\n",
    "        self.array = []\n",
    "        for index in range(self.MAX_SIZE):\n",
    "            self.array.append(None)\n",
    "        self.head = 0 # The first empty index\n",
    "\n",
    "    def is_empty(self):\n",
    "        return self.size() == 0\n",
    "\n",
    "    def size(self):\n",
    "        return self.head\n",
    "    \n",
    "    def push(self, data):\n",
    "        if self.size() >= self.MAX_SIZE:\n",
    "            print(\"Error: the stack is at full capacity!\")\n",
    "        else:\n",
    "            self.array[self.head] = data\n",
    "            self.head += 1\n",
    "            \n",
    "\n",
    "    def pop(self):\n",
    "        if self.is_empty():\n",
    "            return None\n",
    "        else:\n",
    "            self.head -= 1\n",
    "            return self.array[self.head]\n",
    "\n",
    "    def peek(self):\n",
    "        if self.is_empty():\n",
    "            return None\n",
    "        else:\n",
    "            return self.array[self.head - 1]"
   ]
  },
  {
   "cell_type": "code",
   "execution_count": null,
   "metadata": {},
   "outputs": [],
   "source": [
    "class PythonListStack:\n",
    "    def __init__(self):\n",
    "        self.items = []\n",
    "\n",
    "    def is_empty(self):\n",
    "        return self.size() == 0\n",
    "\n",
    "    def size(self):\n",
    "        return len(self.items)\n",
    "    \n",
    "    def push(self, data):\n",
    "        self.items.append(data)\n",
    "\n",
    "    def pop(self):\n",
    "        if self.is_empty():\n",
    "            return None\n",
    "        else:\n",
    "            return self.items.pop()\n",
    "\n",
    "    def peek(self):\n",
    "        if self.is_empty():\n",
    "            return None\n",
    "        else:\n",
    "            return self.items[-1]"
   ]
  },
  {
   "cell_type": "markdown",
   "metadata": {},
   "source": [
    "## Queues"
   ]
  },
  {
   "cell_type": "code",
   "execution_count": 88,
   "metadata": {},
   "outputs": [
    {
     "name": "stdout",
     "output_type": "stream",
     "text": [
      "1\n",
      "2\n",
      "None\n"
     ]
    }
   ],
   "source": [
    "## Pointer Implementation\n",
    "class Node:\n",
    "    def __init__(self, data, next=None):\n",
    "        self.data = data\n",
    "        self.next = next\n",
    "\n",
    "class Queue:\n",
    "    def __init__(self):\n",
    "        self.head = None\n",
    "        self.tail = None\n",
    "    \n",
    "    def enqueue(self, data):\n",
    "        newNode = Node(data, None)\n",
    "        # No node\n",
    "        if self.tail == None:\n",
    "            self.head = newNode\n",
    "            self.tail = newNode\n",
    "        else:\n",
    "            self.tail.next = newNode\n",
    "    \n",
    "    def dequeue(self):\n",
    "        if self.head == None:\n",
    "            return None\n",
    "        else:\n",
    "            data = self.head.data\n",
    "            self.head = self.head.next\n",
    "            return data\n",
    "    \n",
    "def driver():\n",
    "    q = Queue()\n",
    "    q.enqueue(1)\n",
    "    q.enqueue(2)\n",
    "    print(q.dequeue())\n",
    "    print(q.dequeue())\n",
    "    print(q.dequeue())\n",
    "driver()"
   ]
  },
  {
   "cell_type": "code",
   "execution_count": null,
   "metadata": {},
   "outputs": [],
   "source": [
    "# Dual Stack Implementation\n",
    "class Queue:\n",
    "    def __init__(self):\n",
    "        self.inbox = Stack()\n",
    "        self.outbox = Stack()\n",
    "\n",
    "    def is_empty(self):\n",
    "        return (self.inbox.is_empty() and self.outbox.is_empty())\n",
    "\n",
    "    def enqueue(self, data):\n",
    "        self.inbox.push(data)\n",
    "\n",
    "    def dequeue(self):\n",
    "        if self.outbox.is_empty():\n",
    "            while not self.inbox.is_empty():\n",
    "                popped = self.inbox.pop()\n",
    "                self.outbox.push(popped)\n",
    "        return self.outbox.pop()"
   ]
  },
  {
   "cell_type": "code",
   "execution_count": null,
   "metadata": {},
   "outputs": [],
   "source": [
    "class CircularQueue:\n",
    "    #Constructor\n",
    "    def __init__(self):\n",
    "        self.queue = list()\n",
    "        self.head = 0\n",
    "        self.tail = 0\n",
    "        self.maxSize = 2\n",
    "\n",
    "    #Adding elements to the queue\n",
    "    def enqueue(self, data):\n",
    "        if self.size() == self.maxSize:\n",
    "            return (\"Queue Full!\")\n",
    "        self.queue.append(data)\n",
    "        self.tail = (self.tail + 1) % (self.maxSize + 1)\n",
    "        return True\n",
    "\n",
    "    #Removing elements from the queue\n",
    "    def dequeue(self):\n",
    "        if self.size()== 0:\n",
    "            return (\"Queue Empty!\")\n",
    "        data = self.queue[self.head]\n",
    "        self.head = (self.head + 1) % (self.maxSize + 1)\n",
    "        return data\n",
    "    \n",
    "    #Calculating the size of the queue\n",
    "    def size(self):\n",
    "        if self.tail >= self.head:\n",
    "            return (self.tail - self.head)\n",
    "        return (self.maxSize + 1 - (self.head - self.tail))"
   ]
  },
  {
   "cell_type": "markdown",
   "metadata": {},
   "source": [
    "## Binary Search Trees"
   ]
  },
  {
   "cell_type": "code",
   "execution_count": null,
   "metadata": {},
   "outputs": [],
   "source": [
    "# Pointer Implementation\n",
    "class BSTNode:\n",
    "    def __init__(self, key):\n",
    "        self.key = key\n",
    "        self.left = None\n",
    "        self.right = None\n",
    "        self.parent = None\n",
    "\n",
    "    def insert(self, node):\n",
    "        if self.key > node.key:\n",
    "            if self.left is None:\n",
    "                self.left = node\n",
    "                node.parent = self\n",
    "            else:\n",
    "                self.left.insert(node)\n",
    "        elif self.key < node.key:\n",
    "            if self.right is None:\n",
    "                self.right = node\n",
    "                node.parent = self\n",
    "            else:\n",
    "                self.right.insert(node)\n",
    "     \n",
    "    ### Search ##################################\n",
    "    def search(self, key):\n",
    "        if self.key > key:\n",
    "            if self.left is not None:\n",
    "                return self.left.search(key)\n",
    "            else:\n",
    "                return None\n",
    "        elif self.key < key:\n",
    "            if self.right is not None:\n",
    "                return self.right.search(key)\n",
    "            else:\n",
    "                return None\n",
    "        return self\n",
    "    ### Orderings ################################\n",
    "    def inorder(self):\n",
    "        if self.left is not None:\n",
    "            self.left.inorder()\n",
    "            \n",
    "        print(self.key, end='')\n",
    "        \n",
    "        if self.right is not None:\n",
    "            self.right.inorder()\n",
    "\n",
    "    def preorder(self):\n",
    "        print(self.key, end='')\n",
    "        \n",
    "        if self.left is not None:\n",
    "            self.left.inorder()\n",
    "        \n",
    "        if self.right is not None:\n",
    "            self.right.inorder()\n",
    "            \n",
    "    def postorder(self):\n",
    "        if self.left is not None:\n",
    "            self.left.inorder()\n",
    "        \n",
    "        if self.right is not None:\n",
    "            self.right.inorder()\n",
    "        \n",
    "        print(self.key, end='')    \n",
    "\n",
    "class BSTree:\n",
    "    def __init__(self):\n",
    "        self.root = None\n",
    "\n",
    "    def inorder(self):\n",
    "        if self.root is not None:\n",
    "            self.root.inorder()\n",
    "\n",
    "    def add(self, key):\n",
    "        new_node = BSTNode(key)\n",
    "        if self.root is None:\n",
    "            self.root = new_node\n",
    "        else:\n",
    "            self.root.insert(new_node)\n",
    "\n",
    "    def search(self):\n",
    "        if self.root is not None:\n",
    "            return self.root.search()\n"
   ]
  },
  {
   "cell_type": "code",
   "execution_count": 15,
   "metadata": {},
   "outputs": [
    {
     "name": "stdout",
     "output_type": "stream",
     "text": [
      "isEmpty() = True\n",
      "isFull() = False\n",
      "\n",
      "Adding:\n",
      "INDIA\n",
      "NEPAL\n",
      "MALAYSIA\n",
      "SINGAPORE\n",
      "BURMA\n",
      "CANADA\n",
      "LATIVA\n",
      "\n",
      "root = 1\n",
      "nextFreePosition = 0\n",
      "array: \n",
      "Index left  data       right \n",
      "    1     5 INDIA           2\n",
      "    2     3 NEPAL           4\n",
      "    3     7 MALAYSIA        0\n",
      "    4     0 SINGAPORE       0\n",
      "    5     0 BURMA           6\n",
      "    6     0 CANADA          0\n",
      "    7     0 LATIVA          0\n",
      "BURMA\n",
      "CANADA\n",
      "INDIA\n",
      "LATIVA\n",
      "MALAYSIA\n",
      "NEPAL\n",
      "SINGAPORE\n",
      "\n",
      "isEmpty() = False\n",
      "isFull() = True\n"
     ]
    }
   ],
   "source": [
    "# Array Implementation\n",
    "class BSTNode:\n",
    "    def __init__(self, left=0, Data='', right=0):\n",
    "        self.left = int(left)\n",
    "        self.data = Data\n",
    "        self.right = int(right)\n",
    "        \n",
    "    def isEmpty(self):\n",
    "        return self.data == ''\n",
    "        \n",
    "class ArrayBinaryTree:\n",
    "    def __init__(self, size=10):\n",
    "        self.initialise(size)\n",
    "    \n",
    "    def initialise(self, size=10):\n",
    "        # Use a python list to simulate an array of Nodes\n",
    "        self.size = size\n",
    "        self.array = []\n",
    "        for i in range(self.size + 1): # 1-indexed. 0-indexed goes unused\n",
    "            nextPos = (i + 1) % (self.size + 1)\n",
    "            node = BSTNode(nextPos, '', 0)\n",
    "            self.array.append(node)\n",
    "        \n",
    "        # Others\n",
    "        self.root = 0 # Pointer to root of BST\n",
    "        self.nextFree = 1 # Pointer to First element in free list (Linked list of remaining nodes)\n",
    "    \n",
    "    ### Auxilary Functions #####################################################\n",
    "    def isEmpty(self):\n",
    "        return self.root == 0\n",
    "        \n",
    "    def isFull(self):\n",
    "        # Check for unused nodes\n",
    "        return self.nextFree == 0\n",
    "    \n",
    "    def printStructure(self):\n",
    "        output = \"\"\n",
    "        # Pointers\n",
    "        output += f\"root = {self.root}\"\n",
    "        output += f\"\\n\"\n",
    "        output += f\"nextFreePosition = {self.nextFree}\"\n",
    "        \n",
    "        # Array\n",
    "        output += f\"\\n\"\n",
    "        output += f\"array: \"\n",
    "        output += f\"\\n\"\n",
    "        output += f\"{'Index':5} {'left':5} {'data':10} {'right':6}\"\n",
    "        for index in range(1, len(self.array)):\n",
    "            node = self.array[index]\n",
    "            output += f\"\\n\"\n",
    "            output += f\"{index:5} {node.left:5} {node.data:10} {node.right:6}\"\n",
    "        print(output)\n",
    "    \n",
    "    ### Generic Traversal #######################################################\n",
    "    def inOrderTraversal(self, currPos=None):\n",
    "        if currPos == None:\n",
    "            currPos = self.root\n",
    "        ## Base Case: Empty\n",
    "        if currPos == 0:\n",
    "            return\n",
    "        ## Case 2: Not empty\n",
    "        node = self.array[currPos]\n",
    "        # In order\n",
    "        self.inOrderTraversal(node.left)\n",
    "        print(node.data)\n",
    "        self.inOrderTraversal(node.right)\n",
    "        \n",
    "        '''\n",
    "        # Pre-order\n",
    "        print(node.data)\n",
    "        self.inOrderTraversal(node.left)\n",
    "        self.inOrderTraversal(node.right)\n",
    "        \n",
    "        # Post-order\n",
    "        self.inOrderTraversal(node.left)\n",
    "        self.inOrderTraversal(node.right)\n",
    "        print(node.data)\n",
    "        '''\n",
    "        \n",
    "    ### Basic Functions ##################################################\n",
    "    def addNodeOnly(self, item):\n",
    "        ### Create new node ##################################\n",
    "        newNodePos = self.nextFree\n",
    "        newNode = self.array[newNodePos] \n",
    "        newNode.data = item\n",
    "        self.nextFree = newNode.left # Get nextFree\n",
    "        newNode.left = 0\n",
    "        newNode.right = 0\n",
    "        return newNodePos\n",
    "    \n",
    "    def addRecursive(self, item, currPos=None):\n",
    "        if currPos == None:\n",
    "            currPos = self.root\n",
    "            \n",
    "        node = self.array[currPos]\n",
    "        \n",
    "        ### Case 1: Root does not have anything ###########################\n",
    "        if currPos == 0:\n",
    "            newNodePos = self.addNodeOnly(item) # Create new node\n",
    "            self.root = newNodePos\n",
    "            return\n",
    "            \n",
    "        ### Case 2: Root has element ######################################\n",
    "        # Insert to left\n",
    "        if item < node.data:\n",
    "            if node.left == 0:\n",
    "                newNodePos = self.addNodeOnly(item) # Create new node\n",
    "                node.left = newNodePos # Insert Position \n",
    "            else:\n",
    "                self.addRecursive(item, node.left)\n",
    "        elif item >= node.data:\n",
    "            if node.right == 0: #Empty\n",
    "                newNodePos = self.addNodeOnly(item) # Create new node\n",
    "                node.right = newNodePos # Insert Position \n",
    "            else:\n",
    "                self.addRecursive(item, node.right)\n",
    "        \n",
    "    def addIterative(self, item):\n",
    "        ### Create new node ##################################\n",
    "        newNodePos = self.addNodeOnly(item)\n",
    "        \n",
    "        ### Root position ####################################\n",
    "        if self.array[self.root].isEmpty():\n",
    "            self.root = newNodePos\n",
    "            return\n",
    "            \n",
    "        ### Binary Search for Position #######################\n",
    "        prevPos = None\n",
    "        prevNode = None\n",
    "        currPos = self.root\n",
    "        currNode = self.array[currPos]\n",
    "        lastMove = 'X'\n",
    "        while not currPos == 0: # and currNode.data != item:\n",
    "            prevPos = currPos\n",
    "            prevNode = currNode\n",
    "            if item < currNode.data:\n",
    "                currPos = currNode.left\n",
    "                lastMove = 'L'\n",
    "            elif item >= currNode.data:\n",
    "                currPos = currNode.right\n",
    "                lastMove = 'R'\n",
    "            currNode = self.array[currPos]\n",
    "        \n",
    "        ### Linking ##########################################\n",
    "        if lastMove == 'L':\n",
    "            prevNode.left = newNodePos\n",
    "        else:\n",
    "            prevNode.right = newNodePos\n",
    "            \n",
    "            \n",
    "### Driver #################################################################################\n",
    "def driver(addList=[]):\n",
    "    bintree = ArrayBinaryTree(len(addList)) \n",
    "    \n",
    "    print(\"isEmpty() =\",bintree.isEmpty())\n",
    "    print(\"isFull() =\",bintree.isFull())\n",
    "    print()\n",
    "    \n",
    "    # Add Item to list\n",
    "    print(\"Adding:\")\n",
    "    for item in addList:\n",
    "        print(item)\n",
    "        bintree.addRecursive(item)\n",
    "        #bintree.addIterative(item)\n",
    "            \n",
    "    # Output\n",
    "    print()\n",
    "    bintree.printStructure()\n",
    "    bintree.inOrderTraversal()\n",
    "    print()\n",
    "    print(\"isEmpty() =\",bintree.isEmpty())\n",
    "    print(\"isFull() =\",bintree.isFull())\n",
    "\n",
    "driver(['INDIA', 'NEPAL', 'MALAYSIA', 'SINGAPORE', 'BURMA', 'CANADA', 'LATIVA'])"
   ]
  },
  {
   "cell_type": "markdown",
   "metadata": {},
   "source": [
    "# Databases"
   ]
  },
  {
   "cell_type": "markdown",
   "metadata": {},
   "source": [
    "## SQL"
   ]
  },
  {
   "cell_type": "code",
   "execution_count": null,
   "metadata": {},
   "outputs": [],
   "source": [
    "## Insertion into database\n",
    "# https://github.com/Hackin7/Programming-Crappy-Solutions/blob/master/Basic%20Exercises/NYJC%20A%20Level%20Computing%202019-2020/Tests%20and%20Exams/JC2/4%20Mid%20Year%20Common%20Test/TASK4_2_Chan%20Zun%20Mun%20Terence.py\n",
    "# https://github.com/Hackin7/Programming-Crappy-Solutions/blob/master/Basic%20Exercises/NYJC%20A%20Level%20Computing%202019-2020/Other%20School%20Practices/RVHS%20JC2%20CT3%20P2%202020/Task_4_2.py\n",
    "\n",
    "'''\n",
    "import sqlite3\n",
    "conn = sqlite3.connect('test.db')\n",
    "'''\n",
    "def refresh(filename):\n",
    "    # Clear \n",
    "    tables = ['Result', 'Test', 'Student']\n",
    "    for table in tables:\n",
    "        try:\n",
    "            conn.execute(f\"DROP TABLE '{table}'\")\n",
    "        except Exception as e:\n",
    "            print(e)\n",
    "    #\n",
    "    file = open(filename, 'r')\n",
    "    statements = f.read().split(\"\\n\\n\")\n",
    "    file.close()\n",
    "    for i in statements:\n",
    "        conn.execute(i)\n",
    "\n",
    "import csv\n",
    "def read(filename, insert): #pass in function into `insert`\n",
    "    file = open(filename, 'r') # Read mode\n",
    "    reader = csv.reader(file)\n",
    "    \n",
    "    header = None # Change to a value if the file has no header\n",
    "    for data in reader:\n",
    "        if header == None:\n",
    "            header = data\n",
    "        else:\n",
    "            insert(header, data)\n",
    "            \n",
    "    file.close()\n",
    "\n",
    "def insertSpecific(header, record):\n",
    "    # Data Conversion\n",
    "    record[3] = int(record[3])\n",
    "    # Insertion\n",
    "    conn.execute(\"INSERT INTO Printer(SerialNumber, Toner, DateChanged)\"\n",
    "                 \"VALUES (?,?,?)\", record)\n",
    "    # insert(\"Table\", header, record) # alternative if you have time to code\n",
    "    \n",
    "#################################################################################\n",
    "\n",
    "# Code this if you are lazy to read the column headings\n",
    "def insert(table, header, record):\n",
    "    # For Columns\n",
    "    columns = \"\"\n",
    "    for h in header:\n",
    "        if columns != \"\":\n",
    "            columns += \",\"\n",
    "        columns += h\n",
    "        \n",
    "    # Parametrised queries\n",
    "    placeholder = \"\"\n",
    "    for r in record:\n",
    "        if placeholder != \"\":\n",
    "            placeholder += \",\"\n",
    "        placeholder += \"?\"\n",
    "    \n",
    "    statement = f\"INSERT INTO {table}({columns}) VALUES({placeholder})\"\n",
    "    #print(statement, record)\n",
    "    conn.execute(statement, tuple(record))\n",
    "    \n",
    "\n",
    "'''\n",
    "refresh(\"TASK4_1.sql\")\n",
    "readCSV(\"students.csv\", insertSpecific)\n",
    "'''"
   ]
  },
  {
   "cell_type": "markdown",
   "metadata": {},
   "source": [
    "## MongoDB"
   ]
  },
  {
   "cell_type": "code",
   "execution_count": 9,
   "metadata": {},
   "outputs": [],
   "source": [
    "import pymongo\n",
    "\n",
    "### Open Connection ####################################################\n",
    "# Remember to open mongod in shell first\n",
    "client = pymongo.MongoClient(\"127.0.0.1\",27017) # Address, Port\n",
    "\n",
    "### Create a database ##################################################\n",
    "db_name = \"database\"\n",
    "coll_name = \"collection\"\n",
    "\n",
    "db = client.get_database(db_name) # Creates if doesn't exist\n",
    "coll = db.get_collection(coll_name)\n",
    "\n",
    "sample_data = [\n",
    "    {\n",
    "        \"number\":1,\n",
    "        \"text\":\"Item 1\",\n",
    "        \"array\": [1,2,3,4],\n",
    "        \"document\": {\"key\":\"value\",\"n\":1}\n",
    "    },\n",
    "    {\n",
    "        \"number\":2,\n",
    "        \"text\":\"Item 2\",\n",
    "        \"array\": [3,4,5,6]\n",
    "    },\n",
    "    {\n",
    "        \"number\":3,\n",
    "        \"text\":\"Item 3, No array\",\n",
    "    },\n",
    "    {\n",
    "        \"number\":3,\n",
    "        \"text\":\"Item 3 duplicate\",\n",
    "        \"document\":{\"key\":\"I'm better\",\"n\":4}\n",
    "    },\n",
    "    {\n",
    "        \"number\":5,\n",
    "        \"text\":\"Item 5\",\n",
    "        \"array\": [3,4,5,6]\n",
    "    },\n",
    "]\n",
    "\n",
    "#coll.insert_one(sample_data[0])\n",
    "coll.insert_many(sample_data)\n",
    "\n",
    "### Search for items ###################################################\n",
    "\n",
    "def show_in_query(query=None):\n",
    "    for i in coll.find(query):\n",
    "        print(i)\n",
    "    \n",
    "#### Shows the thing in a nice table format ############\n",
    "def nice_show_in_query(query=None):\n",
    "    output = \"\"\n",
    "    ### Header #####################################\n",
    "    header = [\"number\",\"text\",\"array\",\"document\"]\n",
    "    colwidth = [7,30,20,30]\n",
    "    for j in range(len(header)):\n",
    "        output+=f\"{header[j]:<{colwidth[j]}} \"\n",
    "    output += \"\\n\"\n",
    "    \n",
    "    ### Border #####################################\n",
    "    border = \"\"\n",
    "    for j in range(len(header)):\n",
    "        border += \"-\" * (colwidth[j]+1)\n",
    "    border += \"\\n\"\n",
    "    output = border+output+border\n",
    "    \n",
    "    ### Values #####################################\n",
    "    for i in coll.find(query):\n",
    "        ### Per value ##########\n",
    "        for j in range(len(header)):\n",
    "            output += f\"{str(i.get(header[j])):<{colwidth[j]}} \"\n",
    "        output += \"\\n\"\n",
    "    \n",
    "    print(output+\"\\n\")\n",
    "\n",
    "def showcase_query(statement,cond_query):\n",
    "    print(statement,cond_query)\n",
    "    nice_show_in_query(cond_query)\n"
   ]
  },
  {
   "cell_type": "code",
   "execution_count": 10,
   "metadata": {},
   "outputs": [
    {
     "name": "stdout",
     "output_type": "stream",
     "text": [
      "Selecting 1 item\n",
      "    {'_id': ObjectId('5f662052c4e658c8ac42489e'), 'number': 1, 'text': 'Item 1', 'array': [1, 2, 3, 4], 'document': {'key': 'value', 'n': 1}}\n",
      "Selecting all Items in Collection\n",
      "{'_id': ObjectId('5f662052c4e658c8ac42489e'), 'number': 1, 'text': 'Item 1', 'array': [1, 2, 3, 4], 'document': {'key': 'value', 'n': 1}}\n",
      "{'_id': ObjectId('5f662052c4e658c8ac42489f'), 'number': 2, 'text': 'Item 2', 'array': [3, 4, 5, 6]}\n",
      "{'_id': ObjectId('5f662052c4e658c8ac4248a0'), 'number': 3, 'text': 'Item 3, No array'}\n",
      "{'_id': ObjectId('5f662052c4e658c8ac4248a1'), 'number': 3, 'text': 'Item 3 duplicate', 'document': {'key': \"I'm better\", 'n': 4}}\n",
      "{'_id': ObjectId('5f662052c4e658c8ac4248a2'), 'number': 5, 'text': 'Item 5', 'array': [3, 4, 5, 6]}\n",
      "\n",
      "-------------------------------------------------------------------------------------------\n",
      "number  text                           array                document                       \n",
      "-------------------------------------------------------------------------------------------\n",
      "1       Item 1                         [1, 2, 3, 4]         {'key': 'value', 'n': 1}       \n",
      "2       Item 2                         [3, 4, 5, 6]         None                           \n",
      "3       Item 3, No array               None                 None                           \n",
      "3       Item 3 duplicate               None                 {'key': \"I'm better\", 'n': 4}  \n",
      "5       Item 5                         [3, 4, 5, 6]         None                           \n",
      "\n",
      "\n",
      "Selecting by matching fields: {'number': 1, 'text': 'Item 1'}\n",
      "-------------------------------------------------------------------------------------------\n",
      "number  text                           array                document                       \n",
      "-------------------------------------------------------------------------------------------\n",
      "1       Item 1                         [1, 2, 3, 4]         {'key': 'value', 'n': 1}       \n",
      "\n",
      "\n",
      "Selecting by comparions: {'number': {'$gt': 1}}\n",
      "-------------------------------------------------------------------------------------------\n",
      "number  text                           array                document                       \n",
      "-------------------------------------------------------------------------------------------\n",
      "2       Item 2                         [3, 4, 5, 6]         None                           \n",
      "3       Item 3, No array               None                 None                           \n",
      "3       Item 3 duplicate               None                 {'key': \"I'm better\", 'n': 4}  \n",
      "5       Item 5                         [3, 4, 5, 6]         None                           \n",
      "\n",
      "\n",
      "Selecting by comparing in array: {'number': {'$in': [1, 2]}}\n",
      "-------------------------------------------------------------------------------------------\n",
      "number  text                           array                document                       \n",
      "-------------------------------------------------------------------------------------------\n",
      "1       Item 1                         [1, 2, 3, 4]         {'key': 'value', 'n': 1}       \n",
      "2       Item 2                         [3, 4, 5, 6]         None                           \n",
      "\n",
      "\n",
      "Selecting with Boolean Operators: {'$and': [{'number': {'$not': {'$gte': 5}}}, {'array': {'$gt': 4}}]}\n",
      "-------------------------------------------------------------------------------------------\n",
      "number  text                           array                document                       \n",
      "-------------------------------------------------------------------------------------------\n",
      "2       Item 2                         [3, 4, 5, 6]         None                           \n",
      "\n",
      "\n",
      "Selecting with $not Operators: {'array': {'$not': {'$gt': 4}}}\n",
      "-------------------------------------------------------------------------------------------\n",
      "number  text                           array                document                       \n",
      "-------------------------------------------------------------------------------------------\n",
      "1       Item 1                         [1, 2, 3, 4]         {'key': 'value', 'n': 1}       \n",
      "3       Item 3, No array               None                 None                           \n",
      "3       Item 3 duplicate               None                 {'key': \"I'm better\", 'n': 4}  \n",
      "\n",
      "\n",
      "Selecting by comparing items in documents' array: {'array': {'$gte': 5}}\n",
      "-------------------------------------------------------------------------------------------\n",
      "number  text                           array                document                       \n",
      "-------------------------------------------------------------------------------------------\n",
      "2       Item 2                         [3, 4, 5, 6]         None                           \n",
      "5       Item 5                         [3, 4, 5, 6]         None                           \n",
      "\n",
      "\n",
      "Selecting by comparing items in nested documents: {'document.n': {'$gt': 1}}\n",
      "-------------------------------------------------------------------------------------------\n",
      "number  text                           array                document                       \n",
      "-------------------------------------------------------------------------------------------\n",
      "3       Item 3 duplicate               None                 {'key': \"I'm better\", 'n': 4}  \n",
      "\n",
      "\n"
     ]
    }
   ],
   "source": [
    "print(\"Selecting 1 item\")\n",
    "print(\"   \",coll.find_one({\"number\":1}))# Select 1 item\n",
    "\n",
    "print(\"Selecting all Items in Collection\")\n",
    "show_in_query()\n",
    "print()\n",
    "nice_show_in_query()\n",
    "\n",
    "### Matching Fields ###################\n",
    "cond_query = {\"number\":1, \"text\":\"Item 1\"}\n",
    "showcase_query(\"Selecting by matching fields:\",cond_query)\n",
    "\n",
    "### Comparisons ########################\n",
    "cond_query = {\"number\":{\"$gt\":1}}\n",
    "# Has $gt, $gte, $lt, $lte, $ne, $eq, $ne, $exists:True/False\n",
    "showcase_query(\"Selecting by comparions:\",cond_query)\n",
    "\n",
    "\n",
    "### $in/$nin ###################\n",
    "cond_query = {\"number\":{\"$in\":[1,2]}}\n",
    "showcase_query(\"Selecting by comparing in array:\",cond_query)\n",
    "\n",
    "### Boolean ###################\n",
    "cond_query =  { \"$and\": # Has $and, $or\n",
    "    [\n",
    "        {\"number\": {\"$not\":{\"$gte\":5} } },\n",
    "        {\"array\":{\"$gt\":4}}\n",
    "    ] \n",
    "}\n",
    "showcase_query(\"Selecting with Boolean Operators:\",cond_query)\n",
    "\n",
    "### $not #########################\n",
    "#$not selects those that don't meet condition OR the field doesn't exist\n",
    "cond_query =  {\"array\":{\"$not\":{\"$gt\":4}}}\n",
    "showcase_query(\"Selecting with $not Operators:\",cond_query) \n",
    "\n",
    "### With items in an array ##################\n",
    "# All normal operators should work\n",
    "cond_query = {\"array\":{\"$gte\":5}}\n",
    "showcase_query(\"Selecting by comparing items in documents' array:\",cond_query)\n",
    "\n",
    "### Nested Documents #########################\n",
    "# All normal operators should work\n",
    "cond_query = {\"document.n\":{\"$gt\":1}}\n",
    "showcase_query(\"Selecting by comparing items in nested documents:\",cond_query)\n"
   ]
  },
  {
   "cell_type": "code",
   "execution_count": 11,
   "metadata": {},
   "outputs": [
    {
     "name": "stdout",
     "output_type": "stream",
     "text": [
      "Updating first item that matches condition: {'number': 3} {'$set': {'document': {'key': 'yes'}}}\n",
      "-------------------------------------------------------------------------------------------\n",
      "number  text                           array                document                       \n",
      "-------------------------------------------------------------------------------------------\n",
      "1       Item 1                         [1, 2, 3, 4]         {'key': 'value', 'n': 1}       \n",
      "2       Item 2                         [3, 4, 5, 6]         None                           \n",
      "3       Item 3, No array               None                 {'key': 'yes'}                 \n",
      "3       Item 3 duplicate               None                 {'key': \"I'm better\", 'n': 4}  \n",
      "5       Item 5                         [3, 4, 5, 6]         None                           \n",
      "\n",
      "\n",
      "Updating some items: {'number': 3} {'$set': {'text': 'erosion of local culture'}}\n",
      "-------------------------------------------------------------------------------------------\n",
      "number  text                           array                document                       \n",
      "-------------------------------------------------------------------------------------------\n",
      "1       Item 1                         [1, 2, 3, 4]         {'key': 'value', 'n': 1}       \n",
      "2       Item 2                         [3, 4, 5, 6]         None                           \n",
      "3       erosion of local culture       None                 {'key': 'yes'}                 \n",
      "3       erosion of local culture       None                 {'key': \"I'm better\", 'n': 4}  \n",
      "5       Item 5                         [3, 4, 5, 6]         None                           \n",
      "\n",
      "\n",
      "Updating and creating new properties for all items: {} {'$set': {'array': [1, 2, 3, 4]}}\n",
      "-------------------------------------------------------------------------------------------\n",
      "number  text                           array                document                       \n",
      "-------------------------------------------------------------------------------------------\n",
      "1       Item 1                         [1, 2, 3, 4]         {'key': 'value', 'n': 1}       \n",
      "2       Item 2                         [1, 2, 3, 4]         None                           \n",
      "3       erosion of local culture       [1, 2, 3, 4]         {'key': 'yes'}                 \n",
      "3       erosion of local culture       [1, 2, 3, 4]         {'key': \"I'm better\", 'n': 4}  \n",
      "5       Item 5                         [1, 2, 3, 4]         None                           \n",
      "\n",
      "\n",
      "$unset proporties of items: {} {'$unset': {'array': 'value'}}\n",
      "-------------------------------------------------------------------------------------------\n",
      "number  text                           array                document                       \n",
      "-------------------------------------------------------------------------------------------\n",
      "1       Item 1                         None                 {'key': 'value', 'n': 1}       \n",
      "2       Item 2                         None                 None                           \n",
      "3       erosion of local culture       None                 {'key': 'yes'}                 \n",
      "3       erosion of local culture       None                 {'key': \"I'm better\", 'n': 4}  \n",
      "5       Item 5                         None                 None                           \n",
      "\n",
      "\n",
      "$inc of items: {} {'$inc': {'number': 1}}\n",
      "-------------------------------------------------------------------------------------------\n",
      "number  text                           array                document                       \n",
      "-------------------------------------------------------------------------------------------\n",
      "2       Item 1                         None                 {'key': 'value', 'n': 1}       \n",
      "3       Item 2                         None                 None                           \n",
      "4       erosion of local culture       None                 {'key': 'yes'}                 \n",
      "4       erosion of local culture       None                 {'key': \"I'm better\", 'n': 4}  \n",
      "6       Item 5                         None                 None                           \n",
      "\n",
      "\n"
     ]
    },
    {
     "data": {
      "text/plain": [
       "'\\nMany other operators such as\\n{\"$rename\" : {field_name: new_field_name}}\\n{\"$min\" : {field_name: value_if_curr_value_lower}}\\n{\"$max\" : {field_name: value_if_curr_value_higher}}\\n\\nhttps://docs.mongodb.com/manual/reference/operator/update-array/\\n'"
      ]
     },
     "execution_count": 11,
     "metadata": {},
     "output_type": "execute_result"
    }
   ],
   "source": [
    "### Update items #######################################################\n",
    "cond_update = {\"number\":3}\n",
    "modifier = {\"$set\":{\"document\":{\"key\":\"yes\"}}}\n",
    "print(\"Updating first item that matches condition:\",cond_update,modifier)\n",
    "coll.update_one(cond_update,modifier)\n",
    "nice_show_in_query()\n",
    "\n",
    "cond_update = {\"number\":3}\n",
    "modifier = {\"$set\":{\"text\":\"erosion of local culture\"}}\n",
    "print(\"Updating some items:\",cond_update,modifier)\n",
    "coll.update_many(cond_update,modifier)\n",
    "nice_show_in_query()\n",
    "\n",
    "cond_update = {}\n",
    "modifier = {\"$set\":{\"array\":[1,2,3,4]}}\n",
    "print(\"Updating and creating new properties for all items:\",cond_update,modifier)\n",
    "coll.update_many(cond_update,modifier)\n",
    "nice_show_in_query()\n",
    "\n",
    "cond_update = {}\n",
    "modifier = {\"$unset\":{\"array\":\"value\"}} # The \"value\" doesn't matter\n",
    "print(\"$unset proporties of items:\",cond_update,modifier)\n",
    "coll.update_many(cond_update,modifier)\n",
    "nice_show_in_query()\n",
    "\n",
    "\n",
    "cond_update = {}\n",
    "modifier = {\"$inc\":{\"number\":1}} # Also has $mul\n",
    "print(\"$inc of items:\",cond_update,modifier)\n",
    "coll.update_many(cond_update,modifier)\n",
    "nice_show_in_query()\n",
    "\n",
    "'''\n",
    "Many other operators such as\n",
    "{\"$rename\" : {field_name: new_field_name}}\n",
    "{\"$min\" : {field_name: value_if_curr_value_lower}}\n",
    "{\"$max\" : {field_name: value_if_curr_value_higher}}\n",
    "\n",
    "https://docs.mongodb.com/manual/reference/operator/update-array/\n",
    "'''"
   ]
  },
  {
   "cell_type": "code",
   "execution_count": 12,
   "metadata": {},
   "outputs": [
    {
     "name": "stdout",
     "output_type": "stream",
     "text": [
      "Deleting first item that matches query {\"number\":3}\n",
      "-------------------------------------------------------------------------------------------\n",
      "number  text                           array                document                       \n",
      "-------------------------------------------------------------------------------------------\n",
      "2       Item 1                         None                 {'key': 'value', 'n': 1}       \n",
      "4       erosion of local culture       None                 {'key': 'yes'}                 \n",
      "4       erosion of local culture       None                 {'key': \"I'm better\", 'n': 4}  \n",
      "6       Item 5                         None                 None                           \n",
      "\n",
      "\n",
      "Deleting many items with query {\"document\":{\"$exists\":True}}\n",
      "-------------------------------------------------------------------------------------------\n",
      "number  text                           array                document                       \n",
      "-------------------------------------------------------------------------------------------\n",
      "6       Item 5                         None                 None                           \n",
      "\n",
      "\n",
      "Deleting rest of collection\n"
     ]
    }
   ],
   "source": [
    "### Delete items #######################################################\n",
    "print('Deleting first item that matches query {\"number\":3}')\n",
    "coll.delete_one({\"number\":3})\n",
    "nice_show_in_query()\n",
    "\n",
    "print('Deleting many items with query {\"document\":{\"$exists\":True}}')\n",
    "coll.delete_many({\"document\":{\"$exists\":True}})\n",
    "nice_show_in_query()\n",
    "\n",
    "print(\"Deleting rest of collection\")\n",
    "db.drop_collection(coll_name)\n",
    "client.drop_database(db_name)"
   ]
  },
  {
   "cell_type": "code",
   "execution_count": 8,
   "metadata": {},
   "outputs": [],
   "source": [
    "### Close Connection ###################################################\n",
    "client.close()"
   ]
  },
  {
   "cell_type": "markdown",
   "metadata": {},
   "source": [
    "# Socket Programming\n"
   ]
  },
  {
   "cell_type": "code",
   "execution_count": null,
   "metadata": {},
   "outputs": [],
   "source": [
    "import socket\n",
    "\n",
    "# An overengineered socket class for A Levels\n",
    "class Connection: \n",
    "    def __init__(self, ip, port, server=False):\n",
    "        self.net = (ip, port)\n",
    "        self.isServer = server\n",
    "        if server == True:\n",
    "            self.set_server()\n",
    "        else:\n",
    "            self.set_client()\n",
    "\n",
    "    def set_server(self):\n",
    "        self.socket = socket.socket()\n",
    "        self.socket.bind(self.net)\n",
    "        self.socket.listen()\n",
    "        print('Listening on',self.net)\n",
    "        \n",
    "        self.conn, self.conn_addr = self.socket.accept()\n",
    "        print('Accepted connection from', self.conn_addr)\n",
    "\n",
    "    def set_client(self):\n",
    "        print(\"Connecting to\",self.net)\n",
    "        self.conn = socket.socket()\n",
    "        self.conn.connect(self.net)\n",
    "        print(\"Connected\")\n",
    "        \n",
    "    ### Basic I/O #####################################################\n",
    "    def send(self, message):\n",
    "        self.conn.sendall(message.encode('ascii'))\n",
    "\n",
    "    def recieve(self):\n",
    "        return self.conn.recv(1024).decode('ascii') # 1024 is max size\n",
    "\n",
    "    def close(self):\n",
    "        return self.conn.close()\n",
    "\n",
    "    ### Unnecessary but useful ########################################\n",
    "    def client_prompt(self):\n",
    "        # Loop      \n",
    "        connected = True\n",
    "        while connected:\n",
    "            output = self.receive()\n",
    "            if output == 'Exit':\n",
    "                connected = False\n",
    "            else:\n",
    "                print(output)\n",
    "                self.send(input())\n",
    "            \n",
    "        self.close()\n",
    "\n",
    "'''\n",
    "server = Connection('127.0.0.1',1234, True)\n",
    "for i in range(10):\n",
    "    server.send('Send a message:') #Use like a print function\n",
    "    print(server.receive())\n",
    "server.send('Exit')\n",
    "\n",
    "server.close()\n",
    "\n",
    "# Or\n",
    "\n",
    "client = Connection('127.0.0.1', 1234)\n",
    "client.interactive()\n",
    "'''"
   ]
  },
  {
   "cell_type": "markdown",
   "metadata": {},
   "source": [
    "# Web Application Programming"
   ]
  },
  {
   "cell_type": "markdown",
   "metadata": {},
   "source": [
    "## HTML"
   ]
  },
  {
   "cell_type": "code",
   "execution_count": 1,
   "metadata": {},
   "outputs": [
    {
     "data": {
      "text/html": [
       "<!-- Basic HTML File Boilerplate -->\n",
       "<!doctype html>\n",
       "<html>\n",
       "    <head>\n",
       "        <title>Title</title>\n",
       "    </head>\n",
       "    <body>\n",
       "        This is a basic boilerplate: Insert your Content here\n",
       "    </body>\n",
       "</html>\n"
      ],
      "text/plain": [
       "<IPython.core.display.HTML object>"
      ]
     },
     "metadata": {},
     "output_type": "display_data"
    }
   ],
   "source": [
    "%%html\n",
    "<!-- Basic HTML File Boilerplate -->\n",
    "<!doctype html>\n",
    "<html>\n",
    "    <head>\n",
    "        <title>Title</title>\n",
    "    </head>\n",
    "    <body>\n",
    "        This is a basic boilerplate: Insert your Content here\n",
    "    </body>\n",
    "</html>"
   ]
  },
  {
   "cell_type": "code",
   "execution_count": 1,
   "metadata": {},
   "outputs": [
    {
     "data": {
      "text/html": [
       "<h3>Possible Form Options</h3>\n",
       "<form action='' method='GET'>\n",
       "    <label for=\"textfield\">TextField</label> \n",
       "    <input type='text' name='textfield'>\n",
       "    \n",
       "    <div>\n",
       "        <input type=\"radio\" name=\"radio\" value=\"choice1\">\n",
       "        <label for=\"choice1\">Choice 1</label>\n",
       "        <input type=\"radio\" name=\"radio\" value=\"choice2\">\n",
       "        <label for=\"choice1\">Choice 2</label>\n",
       "    </div>\n",
       "    \n",
       "    <input type=\"checkbox\">\n",
       "    <br>\n",
       "    \n",
       "    <select name=\"dropdown\">\n",
       "        <option value=\"option1\">Option 1</option>\n",
       "    </select>\n",
       "    <br><br>\n",
       "    \n",
       "    \n",
       "    <input type='submit'>\n",
       "</form>\n"
      ],
      "text/plain": [
       "<IPython.core.display.HTML object>"
      ]
     },
     "metadata": {},
     "output_type": "display_data"
    }
   ],
   "source": [
    "%%html\n",
    "<h3>Possible Form Options</h3>\n",
    "<form action='' method='GET'>\n",
    "    <label for=\"textfield\">TextField</label> \n",
    "    <input type='text' name='textfield'>\n",
    "    \n",
    "    <div>\n",
    "        <input type=\"radio\" name=\"radio\" value=\"choice1\">\n",
    "        <label for=\"choice1\">Choice 1</label>\n",
    "        <input type=\"radio\" name=\"radio\" value=\"choice2\">\n",
    "        <label for=\"choice1\">Choice 2</label>\n",
    "    </div>\n",
    "    \n",
    "    <input type=\"checkbox\">\n",
    "    <br>\n",
    "    \n",
    "    <select name=\"dropdown\">\n",
    "        <option value=\"option1\">Option 1</option>\n",
    "    </select>\n",
    "    <br><br>\n",
    "    \n",
    "    \n",
    "    <input type='submit'>\n",
    "</form>"
   ]
  },
  {
   "cell_type": "code",
   "execution_count": 6,
   "metadata": {},
   "outputs": [
    {
     "data": {
      "text/html": [
       "<form action=\"/upload\" method=\"post\" enctype=\"multipart/form-data\">\n",
       "    <input type=\"file\" name=\"file\" id=\"file\">\n",
       "    <input type=\"submit\"/>\n",
       "</form>\n"
      ],
      "text/plain": [
       "<IPython.core.display.HTML object>"
      ]
     },
     "metadata": {},
     "output_type": "display_data"
    }
   ],
   "source": [
    "%%html\n",
    "<form action=\"/upload\" method=\"post\" enctype=\"multipart/form-data\">\n",
    "    <input type=\"file\" name=\"file\" id=\"file\">\n",
    "    <input type=\"submit\"/>\n",
    "</form>"
   ]
  },
  {
   "cell_type": "code",
   "execution_count": 35,
   "metadata": {},
   "outputs": [
    {
     "data": {
      "text/html": [
       "<style>\n",
       "table,td,th{\n",
       "    border:1px solid black;\n",
       "    border-collapse: collapse;  /* Add to combine borders */\n",
       "    background-color:gray;\n",
       "}\n",
       "\n",
       "th{\n",
       "    color:white;\n",
       "    background-color:black;\n",
       "}\n",
       "</style>\n",
       "\n",
       "<h3>Table</h3>\n",
       "<table border=\"10\">\n",
       "    <tr>\n",
       "        <th>Header 1</th>\n",
       "        <th>Header 2</th>\n",
       "    </tr>\n",
       "    <tr>\n",
       "        <td>Value 1</td>\n",
       "        <td>Value 2</td>\n",
       "    </tr>\n",
       "</table>\n"
      ],
      "text/plain": [
       "<IPython.core.display.HTML object>"
      ]
     },
     "metadata": {},
     "output_type": "display_data"
    }
   ],
   "source": [
    "%%html\n",
    "<style>\n",
    "table,td,th{\n",
    "    border:1px solid black;\n",
    "    border-collapse: collapse;  /* Add to combine borders */\n",
    "    background-color:gray;\n",
    "}\n",
    "\n",
    "th{\n",
    "    color:white;\n",
    "    background-color:black;\n",
    "}\n",
    "</style>\n",
    "\n",
    "<h3>Table</h3>\n",
    "<table border=\"10\">\n",
    "    <tr>\n",
    "        <th>Header 1</th>\n",
    "        <th>Header 2</th>\n",
    "    </tr>\n",
    "    <tr>\n",
    "        <td>Value 1</td>\n",
    "        <td>Value 2</td>\n",
    "    </tr>\n",
    "</table>"
   ]
  },
  {
   "cell_type": "code",
   "execution_count": 3,
   "metadata": {},
   "outputs": [
    {
     "data": {
      "text/html": [
       "<img src=\"https://www.google.com.sg/images/branding/googlelogo/1x/googlelogo_color_272x92dp.png\" alt=\"Google image\">\n"
      ],
      "text/plain": [
       "<IPython.core.display.HTML object>"
      ]
     },
     "metadata": {},
     "output_type": "display_data"
    }
   ],
   "source": [
    "%%html\n",
    "<img src=\"https://www.google.com.sg/images/branding/googlelogo/1x/googlelogo_color_272x92dp.png\" alt=\"Google image\">"
   ]
  },
  {
   "cell_type": "markdown",
   "metadata": {},
   "source": [
    "## Flask"
   ]
  },
  {
   "cell_type": "code",
   "execution_count": 41,
   "metadata": {},
   "outputs": [
    {
     "name": "stderr",
     "output_type": "stream",
     "text": [
      "A subdirectory or file templates already exists.\n"
     ]
    }
   ],
   "source": [
    "!mkdir templates || mkdir static"
   ]
  },
  {
   "cell_type": "markdown",
   "metadata": {},
   "source": [
    "### Form to Table "
   ]
  },
  {
   "cell_type": "code",
   "execution_count": 8,
   "metadata": {},
   "outputs": [
    {
     "name": "stdout",
     "output_type": "stream",
     "text": [
      "Overwriting static/style.css\n"
     ]
    }
   ],
   "source": [
    "%%writefile static/style.css\n",
    "table,td,th{\n",
    "    border-collapse: collapse;  /* Add to combine borders */\n",
    "    border:1px solid black;\n",
    "    background-color:gray;\n",
    "}\n",
    "\n",
    "/*\n",
    "table{\n",
    "    width:40vw;\n",
    "    height:40vh;\n",
    "}\n",
    "*/\n",
    "td,th{\n",
    "    padding:10px;\n",
    "}\n",
    "th{\n",
    "    color:white;\n",
    "    background-color:black; /* Overriding Styles */\n",
    "}"
   ]
  },
  {
   "cell_type": "code",
   "execution_count": 11,
   "metadata": {},
   "outputs": [
    {
     "name": "stdout",
     "output_type": "stream",
     "text": [
      "Overwriting templates/table.html\n"
     ]
    }
   ],
   "source": [
    "%%writefile templates/table.html\n",
    "\n",
    "<!doctype html>\n",
    "<html>\n",
    "    <head>\n",
    "        <title>Table</title>\n",
    "        <link rel=\"stylesheet\" href=\"{{url_for('static', filename='style.css')}}\"></link>\n",
    "    </head>\n",
    "    <body>\n",
    "        <h1>Table</h1>\n",
    "        <table>\n",
    "            <tr>\n",
    "                {% for header in headers %}\n",
    "                <th>{{header}}</th>\n",
    "                {% endfor %}\n",
    "            </tr>\n",
    "            {% for record in data %}\n",
    "            <tr>\n",
    "                {% for i in record %}\n",
    "                <td>{{i}}</td>\n",
    "                {% endfor %}\n",
    "            </tr>\n",
    "            {% endfor %}\n",
    "        </table>\n",
    "    </body>\n",
    "</html>\n",
    "\n"
   ]
  },
  {
   "cell_type": "code",
   "execution_count": 13,
   "metadata": {},
   "outputs": [
    {
     "name": "stdout",
     "output_type": "stream",
     "text": [
      "Overwriting templates/form.html\n"
     ]
    }
   ],
   "source": [
    "%%writefile templates/form.html\n",
    "<!doctype html>\n",
    "<html>\n",
    "    <head>\n",
    "        <title>Form</title>\n",
    "        <link rel=\"stylesheet\" href=\"{{url_for('static', filename='style.css')}}\"></link>\n",
    "    </head>\n",
    "    <body>\n",
    "        \n",
    "        <h1>Form</h1>\n",
    "        <form action=\"{{url_for('table')}}\" method='get' enctype='multipart/form-data'>\n",
    "            <span>Text Field</span>\n",
    "            <input type='text' name='textfield'>\n",
    "            <input type='submit'>\n",
    "        </form>\n",
    "        \n",
    "    </body>\n",
    "</html>"
   ]
  },
  {
   "cell_type": "code",
   "execution_count": 10,
   "metadata": {
    "scrolled": true
   },
   "outputs": [
    {
     "name": "stdout",
     "output_type": "stream",
     "text": [
      "Overwriting table.py\n"
     ]
    }
   ],
   "source": [
    "%%writefile table.py\n",
    "import flask\n",
    "app = flask.Flask(__name__)\n",
    "\n",
    "@app.route('/')\n",
    "def main():\n",
    "    return flask.render_template('form.html')\n",
    "\n",
    "@app.route('/table', methods=['GET'])\n",
    "def table():\n",
    "    form_stuff = flask.request.args['textfield']\n",
    "    # for POST use flask.request.form\n",
    "    \n",
    "    # Templating\n",
    "    headers = ['Name','Value']\n",
    "    data = [\n",
    "        ['Text Field', form_stuff]\n",
    "    ]\n",
    "    return flask.render_template('table.html',\n",
    "                                 headers=headers,\n",
    "                                 data=data)\n",
    "    \n",
    "@app.route('/quit')\n",
    "def quit():\n",
    "    exit()\n",
    "\n",
    "if __name__ == \"__main__\":\n",
    "    app.run('0.0.0.0', 3000, debug=True)"
   ]
  },
  {
   "cell_type": "code",
   "execution_count": 15,
   "metadata": {},
   "outputs": [],
   "source": [
    "#!python table.py"
   ]
  },
  {
   "cell_type": "markdown",
   "metadata": {},
   "source": [
    "### Basic File Uploading"
   ]
  },
  {
   "cell_type": "code",
   "execution_count": 7,
   "metadata": {},
   "outputs": [
    {
     "name": "stdout",
     "output_type": "stream",
     "text": [
      "Writing file_upload_download.py\n"
     ]
    }
   ],
   "source": [
    "%%writefile file_upload_download.py\n",
    "\n",
    "## File Uploading Template\n",
    "import flask\n",
    "app = flask.Flask(__name__)\n",
    "\n",
    "@app.route(\"/\", methods=[\"GET\"])\n",
    "def page():\n",
    "    return \"\"\"\n",
    "    <form action=\"/upload\" method=\"post\" enctype=\"multipart/form-data\">\n",
    "        <input type=\"file\" name=\"file\" id=\"file\">\n",
    "        <input type=\"submit\"/>\n",
    "    </form>\n",
    "    \"\"\"\n",
    "\n",
    "from werkzeug.utils import secure_filename\n",
    "@app.route(\"/upload\", methods=[\"POST\"])\n",
    "def upload():\n",
    "    if flask.request.files:\n",
    "        file = flask.request.files['file']\n",
    "        filename = secure_filename(file.filename)\n",
    "        file.save('./'+filename)\n",
    "        return \"Uploaded \"+file.filename\n",
    "    else:\n",
    "        return \"Nothing to upload\"\n",
    "\n",
    "@app.route(\"/download\", methods=[\"GET\"])\n",
    "def download():\n",
    "    return flask.send_from_directory('./','file_upload_download.py')\n",
    "\n",
    "app.run('0.0.0.0', port=5000, debug=True)"
   ]
  },
  {
   "cell_type": "markdown",
   "metadata": {},
   "source": [
    "## Overall"
   ]
  },
  {
   "cell_type": "code",
   "execution_count": 38,
   "metadata": {},
   "outputs": [
    {
     "name": "stdout",
     "output_type": "stream",
     "text": [
      "Overwriting templates/main.html\n"
     ]
    }
   ],
   "source": [
    "%%writefile templates/main.html\n",
    "<!doctype html>\n",
    "<html>\n",
    "<head>\n",
    "    <title>Flask Demo</title>\n",
    "</head>\n",
    "<body>\n",
    "    <h1>Flask Demo</h1>\n",
    "\n",
    "    <h2>HTTP Requests and Routing</h2>\n",
    "    <ol>\n",
    "        <li><a href=\"{{url_for('simple')}}\">Simple Routing</a></li>\n",
    "        <li><a href=\"{{url_for('simple_data', data=1.2)}}\">Passing in Value as Path</a></li>\n",
    "        <li><a href=\"{{url_for('simple_integer', integer=1)}}\">Passing in Value of <b>Specific Data Type</b> as Path</a></li>\n",
    "        <li><a href=\"{{url_for('func_name_paths')}}\">Get Paths By Function name</a></li>\n",
    "    </ol>\n",
    "\n",
    "    <h2>HTTP Responses and Status Code</h2>\n",
    "    <ol>\n",
    "        <li><a href=\"{{url_for('get_500')}}\">Give Status Code 500</a></li>\n",
    "        <li><a href=\"{{url_for('header')}}\">Modifying header to show <code>text/plain</code> </a></li>\n",
    "        <li><a href=\"{{url_for('redirect')}}\">Redirect back here lol</a></li>\n",
    "    </ol>\n",
    "\n",
    "    <h2>Templating and Rendering</h2>\n",
    "    <ol>\n",
    "        <li><a href=\"{{url_for('templating')}}\">Templating sample</a></li>\n",
    "    </ol>\n",
    "\n",
    "    <h2>Form</h2>\n",
    "    <h3>GET Request Form</h3>\n",
    "    <form method=\"GET\" action=\"/form\">\n",
    "        <input type=\"text\" name=\"data\">\n",
    "        <input type=\"submit\">\n",
    "    </form>\n",
    "\n",
    "    <h3>POST Request Form</h3>\n",
    "    <form method=\"POST\" action=\"/form\">\n",
    "        <input type=\"text\" name=\"data\">\n",
    "        <input type=\"submit\">\n",
    "    </form>\n",
    "\n",
    "    <h3>Upload Photos</h3>\n",
    "    <form method=\"post\" enctype=\"multipart/form-data\" action=\"/upload\">\n",
    "        <input type=\"file\" name=\"file\">\n",
    "        <input type=\"submit\">\n",
    "    </form>\n",
    "\n",
    "    <h3>Download Source Code</h3>\n",
    "    <a href=\"{{url_for('download')}}\">Download app.py</a>\n",
    "</body>\n",
    "</html>"
   ]
  },
  {
   "cell_type": "code",
   "execution_count": 39,
   "metadata": {},
   "outputs": [
    {
     "name": "stdout",
     "output_type": "stream",
     "text": [
      "Writing templates/template.html\n"
     ]
    }
   ],
   "source": [
    "%%writefile templates/template.html\n",
    "<!doctype html>\n",
    "<html>\n",
    "<head>\n",
    "    <title>Jinja Template</title>\n",
    "    <!-- Getting static files -->\n",
    "    <link rel=\"stylesheet\" href=\"{{url_for('static', filename='styles.css')}}\"></link>\n",
    "</head>\n",
    "<body>\n",
    "    <h1>Jinja Templating</h1>\n",
    "\n",
    "    <h2>Passing in Values</h2>\n",
    "    Values: {{value}}<br/>\n",
    "    Length: {{value|length}}<br/>\n",
    "    Safe HTML: {{safe_html|safe}}\n",
    "\n",
    "    <h2>Jinja Statements</h2>\n",
    "\n",
    "    <b>if-else statement</b>\n",
    "    Current Choice value: {{choice}} <br/>\n",
    "    {% if choice == 1 %}\n",
    "        <span>1st class honors that no one cares about</span>\n",
    "    {% elif choice == 2 %}\n",
    "        <span>2nd class honors that you feel bad because it isn't 1st</span>\n",
    "    {% else %}\n",
    "        <span>Useless choice value here</span>\n",
    "    {% endif%}\n",
    "    <br><br>\n",
    "\n",
    "    <b>for-in statement</b>\n",
    "    Given Dictionary: {{dictionary}} <br/>\n",
    "    <table>\n",
    "    <tr><th>Key</th><th>Value</th></tr>\n",
    "    {% for key, value in dictionary.items() %}\n",
    "        <tr><td>{{key}}</td><td>{{value}}</td></tr>\n",
    "    {% endfor %}\n",
    "    </table>\n",
    "\n",
    "</body>\n",
    "</html>"
   ]
  },
  {
   "cell_type": "code",
   "execution_count": 42,
   "metadata": {},
   "outputs": [
    {
     "name": "stdout",
     "output_type": "stream",
     "text": [
      "Writing static/style.css\n"
     ]
    }
   ],
   "source": [
    "%%writefile static/style.css\n",
    "table{border-collapse:collapse;}\n",
    "tr,td,th{border-style:solid;border-width:1px;padding:1em;}"
   ]
  },
  {
   "cell_type": "code",
   "execution_count": 43,
   "metadata": {},
   "outputs": [
    {
     "name": "stdout",
     "output_type": "stream",
     "text": [
      "Writing app.py\n"
     ]
    }
   ],
   "source": [
    "%%writefile app.py\n",
    "import flask\n",
    "app = flask.Flask(__name__)\n",
    "\n",
    "@app.route('/')\n",
    "def main():\n",
    "    return flask.render_template('main.html')\n",
    "\n",
    "### 3: HTTP Requests and Routing ##################################\n",
    "base = '/simple'\n",
    "@app.route(base + '/') # Path name\n",
    "def simple():\n",
    "    return 'Simple stuff. Try passing in longer paths next time?'\n",
    "\n",
    "## Variable Routes\n",
    "@app.route(base + '/greet/<data>') # More complex paths\n",
    "def simple_data(data):\n",
    "    return f'You gave the data {data}'\n",
    "\n",
    "@app.route(base + '/<int:integer>') # Get Path <data_type:identifier>\n",
    "def simple_integer(integer):\n",
    "    return f'You gave the integer {integer}'\n",
    "\n",
    "## Generate Paths from function names\n",
    "@app.route(base + '/func_paths')\n",
    "def func_name_paths():\n",
    "    return '<b>Paths</b>:' + '<br/>' + \\\n",
    "            f'General path: {flask.url_for(\"simple\")}' + '<br/>' + \\\n",
    "            f'Path and passing in arguments: {flask.url_for(\"simple_integer\", integer=1)}'\n",
    "\n",
    "## Methods\n",
    "@app.route('/data/', methods=['POST'])\n",
    "def post_data():\n",
    "    return 'You are using POST'\n",
    "\n",
    "@app.route('/data/', methods=['GET'])\n",
    "def get_data():\n",
    "    return 'You are using GET'\n",
    "\n",
    "### 4: HTTP Responses and Status Codes ##############################\n",
    "base = '/responses'\n",
    "\n",
    "## Changing Status Code\n",
    "@app.route(base + '/get_500')            \n",
    "def get_500():\n",
    "    return ('', 500)\n",
    "\n",
    "@app.route(base + '/header')\n",
    "def header():\n",
    "    headers = {'Content-Type': 'text/plain'}\n",
    "    return ('<b>This is not HTML!</b>', 200, headers)\n",
    "\n",
    "@app.route(base + '/redirect')\n",
    "def redirect():\n",
    "    return flask.redirect(flask.url_for('main'))\n",
    "\n",
    "### 5 & 6: Templating and Rendering #################################\n",
    "@app.route('/templating') # Path name\n",
    "def templating():\n",
    "    dictionary = {'Key 1':'Value 1', 'Key 2':'Value 2'}\n",
    "    return flask.render_template('template.html',\n",
    "                                 value=\"sample_value\",\n",
    "                                 safe_html=\"<i>This is html stuff</i>\",\n",
    "                                 choice=1,\n",
    "                                 dictionary=dictionary)\n",
    "\n",
    "### 7 & 8: Forms\n",
    "@app.route('/form', methods=['GET','POST'])\n",
    "def form():\n",
    "    if flask.request.method == \"GET\":\n",
    "        return f\" The data is given in <code>flask.request.args</code> like this: <code>{flask.request.args}</code>\"\n",
    "    elif flask.request.method == \"POST\":\n",
    "        print(flask.request.form)\n",
    "        return f\"The data is given in <code>flask.request.form</code> like this: <code>{flask.request.form}</code>\"\n",
    "\n",
    "from werkzeug.utils import secure_filename\n",
    "import os\n",
    "@app.route('/upload', methods=['POST'])\n",
    "def upload():\n",
    "    if flask.request.files:\n",
    "        print(flask.request.files)\n",
    "        file = flask.request.files['file']\n",
    "        filename = secure_filename(file.filename)\n",
    "        path = './' + filename\n",
    "        file.save(path)\n",
    "        return f'<h1>Uploaded {file.filename}</h1>'\n",
    "    else:\n",
    "        return '<h1>Nothing uploaded</h1>'\n",
    "\n",
    "@app.route('/download')    \n",
    "def download():\n",
    "    return flask.send_from_directory(\"./\",\"app.py\")\n",
    "\n",
    "\n",
    "### Running Code ##################################################\n",
    "if __name__ == '__main__':\n",
    "    app.run(host=\"0.0.0.0\", port=5000, debug=True)\n"
   ]
  },
  {
   "cell_type": "markdown",
   "metadata": {},
   "source": [
    "## Cleanup"
   ]
  },
  {
   "cell_type": "code",
   "execution_count": 45,
   "metadata": {},
   "outputs": [],
   "source": [
    "! rm -rf templates | rm -rf static | rm -rf table.py | rm -rf file_upload_download.py"
   ]
  }
 ],
 "metadata": {
  "kernelspec": {
   "display_name": "Python 3",
   "language": "python",
   "name": "python3"
  },
  "language_info": {
   "codemirror_mode": {
    "name": "ipython",
    "version": 3
   },
   "file_extension": ".py",
   "mimetype": "text/x-python",
   "name": "python",
   "nbconvert_exporter": "python",
   "pygments_lexer": "ipython3",
   "version": "3.6.7"
  }
 },
 "nbformat": 4,
 "nbformat_minor": 2
}
