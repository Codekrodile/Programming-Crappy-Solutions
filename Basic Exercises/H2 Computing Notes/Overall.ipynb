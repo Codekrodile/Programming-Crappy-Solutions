{
 "cells": [
  {
   "cell_type": "markdown",
   "metadata": {},
   "source": [
    "# H2 Computing Notes\n",
    "Basic Knowledge on Python assumed, including but not limited to\n",
    "* if-else, loops, functions\n",
    "* try-except\n",
    "\n",
    "This is a series of common algorithms/ data structures/ pieces of code to refer to, which could be useful in examinations. This includes basic example/ boilerplate code as well as template code for easy memorisation and regurgitation.\n",
    "\n",
    "## Contents\n",
    "1. Common Algorithms/ Libraries\n",
    "2. Sorting Algorithms\n",
    "3. Searching\n",
    "4. Data Structures\n",
    "5. Databases\n",
    "6. Socket Programming\n",
    "7. Web Applications"
   ]
  },
  {
   "cell_type": "markdown",
   "metadata": {},
   "source": [
    "# Common Algorithms/ Libraries"
   ]
  },
  {
   "cell_type": "markdown",
   "metadata": {},
   "source": [
    "## File I/O"
   ]
  },
  {
   "cell_type": "code",
   "execution_count": 112,
   "metadata": {},
   "outputs": [],
   "source": [
    "## Write mode\n",
    "file = open('TEST.txt', 'w')\n",
    "file.write('This is some test data\\nAnd this is another line')\n",
    "file.close()"
   ]
  },
  {
   "cell_type": "code",
   "execution_count": 113,
   "metadata": {},
   "outputs": [
    {
     "name": "stdout",
     "output_type": "stream",
     "text": [
      "This is some test data\n",
      "And this is another line\n"
     ]
    }
   ],
   "source": [
    "## Read mode\n",
    "file = open('TEST.txt') #,'r')\n",
    "for line in file:\n",
    "    print(line.strip())\n",
    "file.close()"
   ]
  },
  {
   "cell_type": "code",
   "execution_count": 89,
   "metadata": {},
   "outputs": [],
   "source": [
    "## Append mode\n",
    "file = open('TEST.txt', 'a')\n",
    "file.write('\\nAnd this is another appended line')\n",
    "file.close()"
   ]
  },
  {
   "cell_type": "code",
   "execution_count": 107,
   "metadata": {},
   "outputs": [],
   "source": [
    "## CSV Writer\n",
    "data = [\n",
    "    ['Alice', 'H1GP', 'H2MATH', 'H2ECONS', 'H2PHY', 'H2COMP'],\n",
    "    ['Bobby', 'H1GP', 'H2MATH', 'H2ECONS', 'H2PHY', 'H2CLL'],\n",
    "    ['Charlie', 'H1GP', 'H2MATH', 'H2ECONS', 'H2CHEM', 'H2COMP'],\n",
    "    ['Danny', 'H1GP', 'H2MATH', 'H2PHY', 'H2CHEM', 'H2COMP'],\n",
    "    ['Ernest', 'H1GP', 'H2MATH', 'H2PHY', 'H2COMP', 'H2ELL']\n",
    "]\n",
    "\n",
    "import csv\n",
    "file = open('studentsubjects.csv','w', newline='') # Newline\n",
    "writer = csv.writer(file)# , delimiter=' ',quotechar='|', quoting=csv.QUOTE_MINIMAL)\n",
    "\n",
    "#for record in data: writer.writerow(record)\n",
    "writer.writerows(data)\n",
    "file.close()"
   ]
  },
  {
   "cell_type": "code",
   "execution_count": 108,
   "metadata": {},
   "outputs": [
    {
     "name": "stdout",
     "output_type": "stream",
     "text": [
      "['Alice', 'H1GP', 'H2MATH', 'H2ECONS', 'H2PHY', 'H2COMP']\n",
      "['Bobby', 'H1GP', 'H2MATH', 'H2ECONS', 'H2PHY', 'H2CLL']\n",
      "['Charlie', 'H1GP', 'H2MATH', 'H2ECONS', 'H2CHEM', 'H2COMP']\n",
      "['Danny', 'H1GP', 'H2MATH', 'H2PHY', 'H2CHEM', 'H2COMP']\n",
      "['Ernest', 'H1GP', 'H2MATH', 'H2PHY', 'H2COMP', 'H2ELL']\n"
     ]
    }
   ],
   "source": [
    "## CSV Reader\n",
    "import csv\n",
    "file = open('studentsubjects.csv') #,'r')\n",
    "reader = csv.reader(file)\n",
    "for record in reader:\n",
    "    print(record)\n",
    "file.close()"
   ]
  },
  {
   "cell_type": "code",
   "execution_count": 22,
   "metadata": {},
   "outputs": [
    {
     "name": "stderr",
     "output_type": "stream",
     "text": [
      "rm: cannot remove 'studentsubjects.csv': No such file or directory\n"
     ]
    }
   ],
   "source": [
    "! rm studentsubjects.csv | rm TEST.txt"
   ]
  },
  {
   "cell_type": "markdown",
   "metadata": {},
   "source": [
    "## F-Strings"
   ]
  },
  {
   "cell_type": "code",
   "execution_count": 59,
   "metadata": {},
   "outputs": [
    {
     "name": "stdout",
     "output_type": "stream",
     "text": [
      "| hello      |\n",
      "|   hello    |\n",
      "|      hello |\n",
      "| -----hello |\n",
      "|               Variable spacing |\n"
     ]
    }
   ],
   "source": [
    "## Justification and spacing\n",
    "print(\"|\", f\"{'hello':<10}\", \"|\")\n",
    "print(\"|\", f\"{'hello':^10}\", \"|\")\n",
    "print(\"|\", f\"{'hello':>10}\", \"|\")\n",
    "print(\"|\", f\"{'hello':->10}\", \"|\") # Fill empty space with extra stuff\n",
    "\n",
    "spacing = 30\n",
    "print(\"|\", f\"{'Variable spacing':>{spacing}}\", \"|\")"
   ]
  },
  {
   "cell_type": "code",
   "execution_count": 47,
   "metadata": {},
   "outputs": [
    {
     "name": "stdout",
     "output_type": "stream",
     "text": [
      "2 Decimal places: 1.00\n",
      "2 Signicant figures: 1\n",
      "\n",
      "Binary form:  1\n",
      "\n",
      "Show sign:  1\n",
      "Show sign: +1\n",
      "Show sign: +1\n"
     ]
    }
   ],
   "source": [
    "## Number Formatting\n",
    "num = 1 # Set as you like\n",
    "\n",
    "# Significant figures\n",
    "print(\"2 Decimal places:\", f\"{num:.2f}\")\n",
    "print(\"2 Signicant figures:\", f\"{num:.2g}\")\n",
    "\n",
    "# Formats\n",
    "print()\n",
    "print(\"Binary form:\", f\"{num:2b}\")\n",
    "\n",
    "# Signs\n",
    "print()\n",
    "print(\"Show sign:\", f\"{num: 2}\")# Leading space in front of positive numbers only\n",
    "print(\"Show sign:\", f\"{num:+2}\") # Always Show sign\n",
    "print(\"Show sign:\", f\"{num:+2}\")# Only for negative numbers\n"
   ]
  },
  {
   "cell_type": "code",
   "execution_count": 55,
   "metadata": {},
   "outputs": [
    {
     "name": "stdout",
     "output_type": "stream",
     "text": [
      "| +1010.00   |\n"
     ]
    }
   ],
   "source": [
    "## Combination\n",
    "print(\"|\", f\"{1010:<+10.2f}\", \"|\")"
   ]
  },
  {
   "cell_type": "code",
   "execution_count": 17,
   "metadata": {
    "scrolled": true
   },
   "outputs": [],
   "source": [
    "#help('FORMATTING') # Run this command for more information about f-strings"
   ]
  },
  {
   "cell_type": "code",
   "execution_count": 11,
   "metadata": {},
   "outputs": [
    {
     "name": "stdout",
     "output_type": "stream",
     "text": [
      "A         B         C         D         \n",
      "0         1         2         3         \n",
      "1         2         3         4         \n",
      "2         3         4         5         \n",
      "3         4         5         6         \n",
      "4         5         6         7         \n",
      "5         6         7         8         \n",
      "6         7         8         9         \n",
      "7         8         9         10        \n",
      "8         9         10        11        \n",
      "9         10        11        12        \n"
     ]
    }
   ],
   "source": [
    "## Generating a table\n",
    "\n",
    "def table(header, spacings, data):\n",
    "    output = ''\n",
    "    for index in range(len(header)):\n",
    "        output += f'{header[index]:<{spacings[index]}}'\n",
    "    \n",
    "    for record in data:\n",
    "        output += '\\n'\n",
    "        for index in range(len(record)):\n",
    "            item = record[index]\n",
    "            output += f'{item:<{spacings[index]}}'\n",
    "        \n",
    "    print(output)\n",
    "\n",
    "header = ['A','B','C','D']\n",
    "spacings = [10,10,10,10]\n",
    "data = [[j for j in range(i,i+4)] for i in range(10)]\n",
    "table(header, spacings, data)"
   ]
  },
  {
   "cell_type": "markdown",
   "metadata": {},
   "source": [
    "## Base Conversion"
   ]
  },
  {
   "cell_type": "code",
   "execution_count": 19,
   "metadata": {},
   "outputs": [],
   "source": [
    "def baseToDenary(number, base):\n",
    "    mapping = {}\n",
    "    \n",
    "    for digit in range(0, 9+1):\n",
    "        mapping[str(digit)] = digit\n",
    "        \n",
    "    for value in range(0, 26):\n",
    "        mapping[chr(65+value)] = 10+value\n",
    "        mapping[chr(97+value)] = 10+value\n",
    "        \n",
    "    value = 0\n",
    "    for i in range(len(number)):\n",
    "        currDigit = number[-1-i]\n",
    "        value += mapping[currDigit] * (base**i)\n",
    "\n",
    "    return value\n",
    "\n",
    "def denaryToBase(number, base):\n",
    "    reference = \"0123456789ABCDEFGHIJKLMNOPQRSTUVWXYZ\"\n",
    "\n",
    "    ans = \"\"\n",
    "    remaining = number\n",
    "    while remaining // base > 0:\n",
    "        currPlaceValue = remaining % base\n",
    "        currDigit = reference[currPlaceValue]\n",
    "        ans = currDigit + ans\n",
    "        remaining = remaining // base\n",
    "    # For the last place\n",
    "    currPlaceValue = remaining % base\n",
    "    if currPlaceValue != 0:\n",
    "        currDigit = reference[currPlaceValue]\n",
    "        ans = currDigit + ans\n",
    "    \n",
    "    return ans"
   ]
  },
  {
   "cell_type": "code",
   "execution_count": 20,
   "metadata": {},
   "outputs": [
    {
     "data": {
      "text/plain": [
       "171"
      ]
     },
     "execution_count": 20,
     "metadata": {},
     "output_type": "execute_result"
    }
   ],
   "source": [
    "baseToDenary('AB',16)"
   ]
  },
  {
   "cell_type": "code",
   "execution_count": 4,
   "metadata": {},
   "outputs": [
    {
     "data": {
      "text/plain": [
       "'A'"
      ]
     },
     "execution_count": 4,
     "metadata": {},
     "output_type": "execute_result"
    }
   ],
   "source": [
    "denaryToBase(10, 16)"
   ]
  },
  {
   "cell_type": "markdown",
   "metadata": {},
   "source": [
    "## Datetime"
   ]
  },
  {
   "cell_type": "code",
   "execution_count": 62,
   "metadata": {},
   "outputs": [
    {
     "name": "stdout",
     "output_type": "stream",
     "text": [
      "Object now: \n",
      " 2020-08-22 15:51:16.839316 \n",
      "\n",
      "Get Current date, time and weekday: \n",
      " 2020-08-22 15:51:16.839316 5 \n",
      "\n",
      "Get min and max date and time: \n",
      " 0001-01-01 00:00:00 9999-12-31 23:59:59.999999 \n",
      "\n",
      "Get date attributes: \n",
      " 2020 8 22 \n",
      "\n",
      "Get time attributes: \n",
      " 15 51 16 839316 \n",
      "\n"
     ]
    }
   ],
   "source": [
    "from datetime import datetime\n",
    "now = datetime.now()\n",
    "\n",
    "## Accessing attributes\n",
    "print(\"Object now: \\n\", now, \"\\n\")\n",
    "print(\"Get Current date, time and weekday: \\n\", now.date(), now.time(), now.weekday(), \"\\n\")\n",
    "print(\"Get min and max date and time: \\n\", now.min, now.max, \"\\n\")\n",
    "print(\"Get date attributes: \\n\", now.year, now.month, now.day, \"\\n\")\n",
    "print(\"Get time attributes: \\n\", now.hour, now.minute, now.second, now.microsecond, \"\\n\")"
   ]
  },
  {
   "cell_type": "code",
   "execution_count": 67,
   "metadata": {},
   "outputs": [
    {
     "data": {
      "text/plain": [
       "datetime.datetime(2017, 11, 28, 23, 55, 59, 342380)"
      ]
     },
     "execution_count": 67,
     "metadata": {},
     "output_type": "execute_result"
    }
   ],
   "source": [
    "## Create your own dates\n",
    "datetime(2017, 11, 28, 23, 55, 59, 342380)"
   ]
  },
  {
   "cell_type": "code",
   "execution_count": 63,
   "metadata": {},
   "outputs": [
    {
     "name": "stdout",
     "output_type": "stream",
     "text": [
      "Past: \n",
      " 2020-08-15 14:51:16.839316 \n",
      "\n",
      "Future: \n",
      " 2020-08-29 16:51:16.839316 \n",
      "\n"
     ]
    }
   ],
   "source": [
    "## DateTime Arithmetic\n",
    "\n",
    "from datetime import timedelta\n",
    "diff = timedelta( weeks=1, days=0, hours=1, minutes=0, seconds=0, microseconds=0)\n",
    "print(\"Past: \\n\",now-diff, \"\\n\")\n",
    "print(\"Future: \\n\",now+diff, \"\\n\")"
   ]
  },
  {
   "cell_type": "markdown",
   "metadata": {},
   "source": [
    "# Sorting Algorithms"
   ]
  },
  {
   "cell_type": "markdown",
   "metadata": {},
   "source": [
    "## Bubble Sort"
   ]
  },
  {
   "cell_type": "code",
   "execution_count": 4,
   "metadata": {},
   "outputs": [
    {
     "data": {
      "text/plain": [
       "[0, 1, 2, 3, 3, 6, 45]"
      ]
     },
     "execution_count": 4,
     "metadata": {},
     "output_type": "execute_result"
    }
   ],
   "source": [
    "## Iterative\n",
    "def bubbleSort(arr):\n",
    "    noswap = False\n",
    "    while noswap == False:\n",
    "        noswap = True\n",
    "        for i in range(1,len(arr)):\n",
    "            if not(arr[i-1] <= arr[i]):\n",
    "                # Swapping\n",
    "                temp = arr[i]\n",
    "                arr[i] = arr[i-1]\n",
    "                arr[i-1] = temp\n",
    "                noswap = False\n",
    "\n",
    "arr = [1,0,3,6,3,45,2]\n",
    "bubbleSort(arr)\n",
    "arr"
   ]
  },
  {
   "cell_type": "code",
   "execution_count": 6,
   "metadata": {},
   "outputs": [
    {
     "data": {
      "text/plain": [
       "[0, 1, 3, 2, 3, 6, 45]"
      ]
     },
     "execution_count": 6,
     "metadata": {},
     "output_type": "execute_result"
    }
   ],
   "source": [
    "## Recursive\n",
    "\n",
    "def recursiveBubbleSort(arr, low, high):\n",
    "    noswap = True\n",
    "    for i in range(low+1, high):\n",
    "        if not(arr[i-1] <= arr[i]):\n",
    "            # Swapping\n",
    "            temp = arr[i]\n",
    "            arr[i] = arr[i-1]\n",
    "            arr[i-1] = temp\n",
    "            noswap = False\n",
    "    if noswap == False:\n",
    "        recursiveBubbleSort(arr, low+1, high)\n",
    "    \n",
    "arr = [1,0,3,6,3,45,2]\n",
    "recursiveBubbleSort(arr,0,len(arr))\n",
    "arr"
   ]
  },
  {
   "cell_type": "markdown",
   "metadata": {},
   "source": [
    "## Insertion Sort"
   ]
  },
  {
   "cell_type": "code",
   "execution_count": 124,
   "metadata": {},
   "outputs": [
    {
     "data": {
      "text/plain": [
       "[0, 1, 2, 3, 3, 6, 45]"
      ]
     },
     "execution_count": 124,
     "metadata": {},
     "output_type": "execute_result"
    }
   ],
   "source": [
    "## Iterative\n",
    "def insertionSort(arr):\n",
    "    for key_pos in range(len(arr)):\n",
    "        ## Shifting\n",
    "        key = arr[key_pos]\n",
    "        shift_pos = key_pos - 1\n",
    "        while shift_pos >= 0 and arr[shift_pos] >= key:\n",
    "            arr[shift_pos+1] = arr[shift_pos]\n",
    "            shift_pos -= 1\n",
    "        \n",
    "        ## Insertion\n",
    "        arr[shift_pos+1] = key\n",
    "        \n",
    "        \n",
    "arr = [1,0,3,6,3,45,2]\n",
    "insertionSort(arr)\n",
    "arr"
   ]
  },
  {
   "cell_type": "code",
   "execution_count": 8,
   "metadata": {},
   "outputs": [
    {
     "data": {
      "text/plain": [
       "[0, 1, 2, 3, 3, 6, 45]"
      ]
     },
     "execution_count": 8,
     "metadata": {},
     "output_type": "execute_result"
    }
   ],
   "source": [
    "## Recursive\n",
    "\n",
    "def recursiveInsertionSort(arr, curr_pass=1):\n",
    "    ### Base Case #########################\n",
    "    if curr_pass >= len(arr):\n",
    "        return\n",
    "    \n",
    "    ### Recursive Process #################\n",
    "    key_pos = curr_pass\n",
    "    \n",
    "    ## Shifting\n",
    "    key = arr[key_pos]\n",
    "    shift_pos = key_pos - 1\n",
    "    while shift_pos >= 0 and arr[shift_pos] >= key:\n",
    "        arr[shift_pos+1] = arr[shift_pos]\n",
    "        shift_pos -= 1\n",
    "    \n",
    "    ## Insertion\n",
    "    arr[shift_pos+1] = key\n",
    "    \n",
    "    ### Recursive Case ####################\n",
    "    recursiveInsertionSort(arr, curr_pass+1)\n",
    "\n",
    "arr = [1,0,3,6,3,45,2]\n",
    "recursiveInsertionSort(arr)\n",
    "arr"
   ]
  },
  {
   "cell_type": "markdown",
   "metadata": {},
   "source": [
    "## Merge Sort"
   ]
  },
  {
   "cell_type": "code",
   "execution_count": null,
   "metadata": {},
   "outputs": [],
   "source": [
    "## General Steps\n",
    "def cmp(a, b):\n",
    "    return a < b # Ascending\n",
    "    \n",
    "def merge(left, right):\n",
    "    result = []\n",
    "    l = 0 # Index of left array\n",
    "    r = 0 # Index of right array\n",
    "    while l + r < len(left) + len(right):\n",
    "        bothIndexesInRange = l < len(left) and r < len(right)\n",
    "        if (bothIndexesInRange and cmp(left[l],right[r])) or \\\n",
    "            r >= len(right):\n",
    "            result.append(left[l])\n",
    "            l += 1\n",
    "        else:\n",
    "            result.append(right[r])\n",
    "            r += 1\n",
    "    return result"
   ]
  },
  {
   "cell_type": "code",
   "execution_count": null,
   "metadata": {},
   "outputs": [],
   "source": [
    "## Recursive\n",
    "\n",
    "def MergeSort(array):\n",
    "    # Base case\n",
    "    if len(array) <= 1: # Already sorted\n",
    "        return array\n",
    "    else:\n",
    "        # Divide\n",
    "        mid = len(array) // 2\n",
    "        left = array[:mid]\n",
    "        right = array[mid:]\n",
    "        \n",
    "        # Sort\n",
    "        left = MergeSort(left)\n",
    "        right = MergeSort(right)\n",
    "        \n",
    "        # Merge\n",
    "        return merge(left, right)"
   ]
  },
  {
   "cell_type": "code",
   "execution_count": null,
   "metadata": {},
   "outputs": [],
   "source": [
    "## Iterative\n",
    "\n",
    "def MergeSortPass(Array, sz, SortOrder): # Working\n",
    "    # Sort the smaller subarrays\n",
    "    index = 0\n",
    "    while index < len(Array):\n",
    "        low = index\n",
    "        mid = index + sz\n",
    "        high = index + 2 * sz\n",
    "        left = Array[low:mid]\n",
    "        right = Array[mid:high]\n",
    "\n",
    "        result = merge(left, right, SortOrder)\n",
    "        for index in range(len(result)):\n",
    "            Array[low + index] = result[index] \n",
    "\n",
    "        index = high # Sort the next subarray\n",
    "        \n",
    "def MergeSortLoop(Array, SortOrder):\n",
    "    sz = 1 # Size of subarray to sort\n",
    "    while sz < len(Array):\n",
    "        MergeSortPass(Array, sz, SortOrder)\n",
    "        sz *= 2 # Double the array size\n",
    "    return Array"
   ]
  },
  {
   "cell_type": "markdown",
   "metadata": {},
   "source": [
    "## Quick Sort"
   ]
  },
  {
   "cell_type": "code",
   "execution_count": 6,
   "metadata": {},
   "outputs": [
    {
     "name": "stdout",
     "output_type": "stream",
     "text": [
      "[1, 2, 3, 1, 4, 7, 5, 9, 7, 6] 0 5 4 9\n",
      "[1, 2, 3, 1, 4, 7, 5, 9, 7, 6] 0 1 0 3\n",
      "[1, 1, 2, 3, 4, 7, 5, 9, 7, 6] 1 3 2 3\n",
      "[1, 1, 2, 3, 4, 7, 5, 6, 7, 9] 5 9 8 9\n",
      "[1, 1, 2, 3, 4, 6, 5, 7, 7, 9] 5 8 7 7\n",
      "[1, 1, 2, 3, 4, 5, 6, 7, 7, 9] 5 7 6 6\n"
     ]
    },
    {
     "data": {
      "text/plain": [
       "True"
      ]
     },
     "execution_count": 6,
     "metadata": {},
     "output_type": "execute_result"
    }
   ],
   "source": [
    "# Recursive, in place\n",
    "def quicksort(arr, s, e):\n",
    "    if not s<e: \n",
    "        return\n",
    "    pivot,l,r = arr[s],s+1,e\n",
    "    while l <= r:\n",
    "        while l <= r and arr[l] <= pivot:\n",
    "            l+=1\n",
    "        while l <= r and arr[r] >= pivot:\n",
    "            r-=1\n",
    "        if l<=r:\n",
    "            temp = arr[l]\n",
    "            arr[l] = arr[r]\n",
    "            arr[r] = temp\n",
    "            \n",
    "    temp = arr[s]\n",
    "    arr[s] = arr[r]\n",
    "    arr[r] = temp\n",
    "    \n",
    "    print(arr,s,l,r,e)\n",
    "    quicksort(arr,s,r-1)\n",
    "    quicksort(arr,r+1,e)\n",
    "    \n",
    "import random\n",
    "arr = [random.randint(1,10) for i in range(10)]\n",
    "og = arr\n",
    "\n",
    "quicksort(arr, 0, len(arr)-1)\n",
    "arr == sorted(og)"
   ]
  },
  {
   "cell_type": "code",
   "execution_count": 84,
   "metadata": {},
   "outputs": [
    {
     "data": {
      "text/plain": [
       "[1, 2, 3, 9, 9, 11, 12, 14, 15, 18]"
      ]
     },
     "execution_count": 84,
     "metadata": {},
     "output_type": "execute_result"
    }
   ],
   "source": [
    "# Recursive, out of place\n",
    "def quicksort(arr):\n",
    "    ## Base Case: Already sorted ##########\n",
    "    if len(arr) <= 1:\n",
    "        return arr\n",
    "    ## Recursive Case #####################\n",
    "    else:\n",
    "        # Partitioning\n",
    "        pivot = arr[0]\n",
    "        left = []\n",
    "        right = []\n",
    "        for item in arr[1:]: # Exclude the first element\n",
    "            if item < pivot:\n",
    "                left.append(item)\n",
    "            else: #if item >= pivot:\n",
    "                right.append(item)\n",
    "        ## Recursion Call #################\n",
    "        return quicksort(left) + [pivot] + quicksort(right)\n",
    "\n",
    "import random\n",
    "arr = [random.randint(1,20) for i in range(10)]\n",
    "quicksort(arr)"
   ]
  },
  {
   "cell_type": "markdown",
   "metadata": {},
   "source": [
    "# Searching Algorithms"
   ]
  },
  {
   "cell_type": "markdown",
   "metadata": {},
   "source": [
    "## Linear Search"
   ]
  },
  {
   "cell_type": "code",
   "execution_count": 80,
   "metadata": {},
   "outputs": [
    {
     "data": {
      "text/plain": [
       "4"
      ]
     },
     "execution_count": 80,
     "metadata": {},
     "output_type": "execute_result"
    }
   ],
   "source": [
    "array = [1, 2, 3, 4, 5, 6, 7, 8, 9, 10]\n",
    "item = 4\n",
    "\n",
    "def linearSearch(array, item):\n",
    "    for index in range(len(array)):\n",
    "        if array[index] == item:\n",
    "            return item\n",
    "    return -1 # Cannot find\n",
    "\n",
    "linearSearch(array, item)"
   ]
  },
  {
   "cell_type": "markdown",
   "metadata": {},
   "source": [
    "## Binary Search"
   ]
  },
  {
   "cell_type": "code",
   "execution_count": 70,
   "metadata": {},
   "outputs": [
    {
     "data": {
      "text/plain": [
       "1"
      ]
     },
     "execution_count": 70,
     "metadata": {},
     "output_type": "execute_result"
    }
   ],
   "source": [
    "## Iterative\n",
    "array = [1, 2, 3, 4, 5, 6, 7, 8, 9, 10]\n",
    "def binarySearch(array, low, high, find):\n",
    "    while low <= high:\n",
    "        mid = int((low+high)/2)\n",
    "        if array[mid] == find:\n",
    "            return mid\n",
    "        elif array[mid] > find:\n",
    "            high = mid - 1\n",
    "        elif array[mid] < find:\n",
    "            low = mid + 1\n",
    "    return -1\n",
    "\n",
    "binarySearch(array, 0, 9, 2)"
   ]
  },
  {
   "cell_type": "code",
   "execution_count": 79,
   "metadata": {},
   "outputs": [
    {
     "data": {
      "text/plain": [
       "1"
      ]
     },
     "execution_count": 79,
     "metadata": {},
     "output_type": "execute_result"
    }
   ],
   "source": [
    "## Recursive\n",
    "def recursiveBinarySearch(array, low, high, find):\n",
    "    ### Base Cases ############################\n",
    "    if low > high: # Not in array\n",
    "        return -1\n",
    "    \n",
    "    mid = int((low + high)/2) # Trucate\n",
    "    if array[mid] == find:\n",
    "        return mid\n",
    "              \n",
    "    ### Recursive cases ########################\n",
    "    if find < array[mid]:\n",
    "        return recursiveBinarySearch(array, low, mid-1, find)\n",
    "    elif find > array[mid]:\n",
    "        return recursiveBinarySearch(array, mid+1, high, find)\n",
    "\n",
    "recursiveBinarySearch(array, 0, 9, 2)"
   ]
  },
  {
   "cell_type": "markdown",
   "metadata": {},
   "source": [
    "##  Hash Table"
   ]
  },
  {
   "cell_type": "code",
   "execution_count": 64,
   "metadata": {},
   "outputs": [],
   "source": [
    "class Node:\n",
    "    def __init__(self, key, value):\n",
    "        self.key = key\n",
    "        self.value = value\n",
    "        self.next = None\n",
    "    \n",
    "    def __str__(self):\n",
    "        return f\"{self.key},{self.value}\"\n",
    "    \n",
    "    def insert(self, key, value):\n",
    "        if self.next == None:\n",
    "            self.next = Node(key, value)\n",
    "        else:\n",
    "            self.next.insert(key, value)\n",
    "            \n",
    "    def find(self, key):\n",
    "        if self.key == key:\n",
    "            return self\n",
    "        elif self.next != None:\n",
    "            return self.next.find(key)\n",
    "        else:\n",
    "            return None"
   ]
  },
  {
   "cell_type": "code",
   "execution_count": 65,
   "metadata": {},
   "outputs": [
    {
     "name": "stdout",
     "output_type": "stream",
     "text": [
      "[None, <__main__.Node object at 0x0000022F592A8B00>, <__main__.Node object at 0x0000022F592A8A20>, None, None, None, None, None, None, None, None, None, None, None, None, None, None, None, None, None, None, None, None, None, None, None, None, None, None, None, None, None, None, None, None, None, None, None, None, None, None, None, None, None, None, None, None, None, None, None, None, None, None]\n",
      "54,2\n"
     ]
    }
   ],
   "source": [
    "## Open Addressing\n",
    "\n",
    "class HashTable:\n",
    "    def __init__(self, max_size=53):\n",
    "        self.size = max_size\n",
    "        # Use a python list to simulate an array\n",
    "        self.array = []\n",
    "        for i in range(max_size):\n",
    "            self.array.append(None)\n",
    "            \n",
    "    def get_hash(self, key):\n",
    "        '''\n",
    "        # Weighted ordinal hash\n",
    "        key = str(key)\n",
    "        hash = 0\n",
    "        for i in range(len(key)):\n",
    "            hash += ord(key[i]) * i\n",
    "        '''\n",
    "        hash = key\n",
    "        hash %= self.size\n",
    "        return hash\n",
    "    \n",
    "    def insert(self, key, data):\n",
    "        pos = self.get_hash(key)\n",
    "        \n",
    "        # If at empty value\n",
    "        if self.array[pos] == None:\n",
    "            self.array[pos] = Node(key,data)\n",
    "            return 0\n",
    "        \n",
    "        # Open addressing\n",
    "        original = pos\n",
    "        pos = original + 1\n",
    "        while pos != original:\n",
    "            if self.array[pos] == None:\n",
    "                self.array[pos] = Node(key,data)\n",
    "                return 1\n",
    "            pos = (pos + 1) % self.size # Wrap around\n",
    "        \n",
    "        return -1 # Failed to insert\n",
    "    \n",
    "    def find(self, key):\n",
    "        pos = self.get_hash(key)\n",
    "        \n",
    "        # If at empty value\n",
    "        if self.array[pos] != None and self.array[pos].key == key:\n",
    "            return self.array[pos]\n",
    "        \n",
    "        # Open addressing\n",
    "        original = pos\n",
    "        pos = original + 1\n",
    "        while pos != original:\n",
    "            if self.array[pos] != None and self.array[pos].key == key:\n",
    "                return self.array[pos]\n",
    "            pos = (pos + 1) % self.size # Wrap around\n",
    "        \n",
    "        return -1 # Failed to find\n",
    "\n",
    "    \n",
    "ht = HashTable()\n",
    "ht.insert(1, 3)\n",
    "ht.insert(54, 2)\n",
    "print(ht.array)\n",
    "print(ht.find(54))"
   ]
  },
  {
   "cell_type": "code",
   "execution_count": 66,
   "metadata": {},
   "outputs": [
    {
     "name": "stdout",
     "output_type": "stream",
     "text": [
      "[None, <__main__.Node object at 0x0000022F592FB5F8>, None, None, None, None, None, None, None, None, None, None, None, None, None, None, None, None, None, None, None, None, None, None, None, None, None, None, None, None, None, None, None, None, None, None, None, None, None, None, None, None, None, None, None, None, None, None, None, None, None, None, None]\n",
      "54,2\n"
     ]
    }
   ],
   "source": [
    "## Separate Chaining\n",
    "\n",
    "# Uses the previous node class\n",
    "class HashTable:\n",
    "    def __init__(self, max_size=53):\n",
    "        self.size = max_size\n",
    "        # Use a python list to simulate an array\n",
    "        self.array = []\n",
    "        for i in range(max_size):\n",
    "            self.array.append(None)\n",
    "            \n",
    "    def get_hash(self, key):\n",
    "        '''\n",
    "        # Weighted ordinal hash\n",
    "        key = str(key)\n",
    "        hash = 0\n",
    "        for i in range(len(key)):\n",
    "            hash += ord(key[i]) * i\n",
    "        '''\n",
    "        hash = key\n",
    "        hash %= self.size\n",
    "        return hash\n",
    "    \n",
    "    def insert(self, key, data):\n",
    "        pos = self.get_hash(key)\n",
    "        \n",
    "        # If at empty value\n",
    "        if self.array[pos] == None:\n",
    "            self.array[pos] = Node(key,data)\n",
    "        # Open addressing\n",
    "        else:\n",
    "            self.array[pos].insert(key, data)\n",
    "    \n",
    "    def find(self, key):\n",
    "        pos = self.get_hash(key)\n",
    "        \n",
    "        # If at empty value\n",
    "        if self.array[pos] != None and self.array[pos].key == key:\n",
    "            return self.array[pos]\n",
    "        \n",
    "        # Separate Chaining\n",
    "        return self.array[pos].find(key)\n",
    "\n",
    "    \n",
    "ht = HashTable()\n",
    "ht.insert(1, 3)\n",
    "ht.insert(54, 2)\n",
    "print(ht.array)\n",
    "print(ht.find(54))"
   ]
  },
  {
   "cell_type": "markdown",
   "metadata": {},
   "source": [
    "# Data Structures"
   ]
  },
  {
   "cell_type": "markdown",
   "metadata": {},
   "source": [
    "## Linked Lists\n",
    "\n",
    "There are a few main approaches\n",
    "1. Pointer implementation\n",
    "2. Array Implementation"
   ]
  },
  {
   "cell_type": "code",
   "execution_count": null,
   "metadata": {},
   "outputs": [],
   "source": [
    "# Pointer Implementation\n",
    "class Node:\n",
    "    def __init__(self, value=None,next=None):\n",
    "        self.value = value\n",
    "        self.next = next"
   ]
  },
  {
   "cell_type": "code",
   "execution_count": 1,
   "metadata": {},
   "outputs": [
    {
     "name": "stdout",
     "output_type": "stream",
     "text": [
      "True\n",
      "2, 1, 3, 4, 5\n",
      "False\n",
      "4\n",
      "2, 1, 4, 5\n"
     ]
    }
   ],
   "source": [
    "class LinkedList:\n",
    "    def __init__(self):\n",
    "        self.start = None\n",
    "        \n",
    "    def isEmpty(self):\n",
    "        return self.start == None\n",
    "    \n",
    "    def display(self):\n",
    "        output = \"\"\n",
    "        # Traversal\n",
    "        curr = self.start\n",
    "        while curr != None:\n",
    "            output += str(curr.value)\n",
    "            curr = curr.next\n",
    "            if curr != None:\n",
    "                output += \", \"\n",
    "        print(output)\n",
    "    \n",
    "    def get(self, pos):\n",
    "        counter = 0\n",
    "        curr = self.start\n",
    "        while counter < pos and curr != None:\n",
    "            curr = curr.next\n",
    "            counter += 1\n",
    "        return curr\n",
    "        \n",
    "    def insert(self,pos,value):\n",
    "        counter = 0\n",
    "        prev = None\n",
    "        curr = self.start\n",
    "        while counter < pos and curr != None:\n",
    "            prev = curr\n",
    "            curr = curr.next\n",
    "            counter += 1\n",
    "        newNode = Node(value,curr)\n",
    "        if prev == None:\n",
    "            self.start = newNode\n",
    "        else:\n",
    "            prev.next = newNode\n",
    "\n",
    "    def remove(self,pos):\n",
    "        counter = 0\n",
    "        prev = None\n",
    "        curr = self.start\n",
    "        while counter < pos and curr != None:\n",
    "            prev = curr\n",
    "            curr = curr.next\n",
    "            counter += 1\n",
    "        if prev == None:\n",
    "            self.start = curr.next\n",
    "        else:\n",
    "            prev.next = curr.next\n",
    "    \n",
    "def driver():\n",
    "    l = LinkedList()\n",
    "    print(l.isEmpty())\n",
    "    l.insert(10,2)\n",
    "    l.insert(10,1)\n",
    "    l.insert(10,3)\n",
    "    l.insert(10,4)\n",
    "    l.insert(10,5)\n",
    "    l.display()\n",
    "    print(l.isEmpty())\n",
    "    print(l.get(3).value)\n",
    "    l.remove(2)\n",
    "    l.display()\n",
    "\n",
    "if __name__ == \"__main__\":\n",
    "    driver()"
   ]
  },
  {
   "cell_type": "code",
   "execution_count": null,
   "metadata": {},
   "outputs": [],
   "source": [
    "class ArrayLinkedList:\n",
    "    def __init__(self, max_size=30):\n",
    "        # Python to simulate an array\n",
    "        self.array = []\n",
    "        for i in range(max_size):\n",
    "            self.array.append(None)\n",
    "    #.....\n",
    "        "
   ]
  },
  {
   "cell_type": "markdown",
   "metadata": {},
   "source": [
    "## Stacks"
   ]
  },
  {
   "cell_type": "code",
   "execution_count": null,
   "metadata": {},
   "outputs": [],
   "source": [
    "class Node:\n",
    "    def __init__(self, data):\n",
    "        self.data = data\n",
    "        self.next = None\n",
    "\n",
    "class LinkedListStack:\n",
    "    def __init__(self):\n",
    "        self.head = None\n",
    "        self.current_size = 0\n",
    "\n",
    "    def is_empty(self):\n",
    "        return self.size() == 0\n",
    "    \n",
    "    def size(self):\n",
    "        return self.current_size\n",
    "    \n",
    "    def push(self, data):\n",
    "        self.current_size += 1\n",
    "        if self.head is None:\n",
    "            self.head = Node(data)\n",
    "        else:\n",
    "            new_node = Node(data)\n",
    "            new_node.next = self.head\n",
    "            self.head = new_node\n",
    "\n",
    "    def pop(self):\n",
    "        if self.head is None:\n",
    "            return None\n",
    "        else:\n",
    "            self.current_size -= 1\n",
    "            popped = self.head.data\n",
    "            self.head = self.head.next\n",
    "            return popped\n",
    "\n",
    "    def peek(self):\n",
    "        if self.head is None:\n",
    "            return None\n",
    "        else:\n",
    "            popped = self.head.data\n",
    "            return popped"
   ]
  },
  {
   "cell_type": "code",
   "execution_count": null,
   "metadata": {},
   "outputs": [],
   "source": [
    "class ArrayStack:\n",
    "    def __init__(self):\n",
    "        self.MAX_SIZE = 30\n",
    "        # Simulate an array in Python\n",
    "        self.array = []\n",
    "        for index in range(self.MAX_SIZE):\n",
    "            self.array.append(None)\n",
    "        self.head = 0 # The first empty index\n",
    "\n",
    "    def is_empty(self):\n",
    "        return self.size() == 0\n",
    "\n",
    "    def size(self):\n",
    "        return self.head\n",
    "    \n",
    "    def push(self, data):\n",
    "        if self.size() >= self.MAX_SIZE:\n",
    "            print(\"Error: the stack is at full capacity!\")\n",
    "        else:\n",
    "            self.array[self.head] = data\n",
    "            self.head += 1\n",
    "            \n",
    "\n",
    "    def pop(self):\n",
    "        if self.is_empty():\n",
    "            return None\n",
    "        else:\n",
    "            self.head -= 1\n",
    "            return self.array[self.head]\n",
    "\n",
    "    def peek(self):\n",
    "        if self.is_empty():\n",
    "            return None\n",
    "        else:\n",
    "            return self.array[self.head - 1]"
   ]
  },
  {
   "cell_type": "code",
   "execution_count": null,
   "metadata": {},
   "outputs": [],
   "source": [
    "class PythonListStack:\n",
    "    def __init__(self):\n",
    "        self.items = []\n",
    "\n",
    "    def is_empty(self):\n",
    "        return self.size() == 0\n",
    "\n",
    "    def size(self):\n",
    "        return len(self.items)\n",
    "    \n",
    "    def push(self, data):\n",
    "        self.items.append(data)\n",
    "\n",
    "    def pop(self):\n",
    "        if self.is_empty():\n",
    "            return None\n",
    "        else:\n",
    "            return self.items.pop()\n",
    "\n",
    "    def peek(self):\n",
    "        if self.is_empty():\n",
    "            return None\n",
    "        else:\n",
    "            return self.items[-1]"
   ]
  },
  {
   "cell_type": "markdown",
   "metadata": {},
   "source": [
    "## Queues"
   ]
  },
  {
   "cell_type": "code",
   "execution_count": null,
   "metadata": {},
   "outputs": [],
   "source": [
    "## Pointer Implementation"
   ]
  },
  {
   "cell_type": "code",
   "execution_count": null,
   "metadata": {},
   "outputs": [],
   "source": [
    "# Dual Stack Implementation\n",
    "class Queue:\n",
    "    def __init__(self):\n",
    "        self.inbox = Stack()\n",
    "        self.outbox = Stack()\n",
    "\n",
    "    def is_empty(self):\n",
    "        return (self.inbox.is_empty() and self.outbox.is_empty())\n",
    "\n",
    "    def enqueue(self, data):\n",
    "        self.inbox.push(data)\n",
    "\n",
    "    def dequeue(self):\n",
    "        if self.outbox.is_empty():\n",
    "            while not self.inbox.is_empty():\n",
    "                popped = self.inbox.pop()\n",
    "                self.outbox.push(popped)\n",
    "        return self.outbox.pop()"
   ]
  },
  {
   "cell_type": "code",
   "execution_count": null,
   "metadata": {},
   "outputs": [],
   "source": [
    "class CircularQueue:\n",
    "    #Constructor\n",
    "    def __init__(self):\n",
    "        self.queue = list()\n",
    "        self.head = 0\n",
    "        self.tail = 0\n",
    "        self.maxSize = 2\n",
    "\n",
    "    #Adding elements to the queue\n",
    "    def enqueue(self, data):\n",
    "        if self.size() == self.maxSize:\n",
    "            return (\"Queue Full!\")\n",
    "        self.queue.append(data)\n",
    "        self.tail = (self.tail + 1) % (self.maxSize + 1)\n",
    "        return True\n",
    "\n",
    "    #Removing elements from the queue\n",
    "    def dequeue(self):\n",
    "        if self.size()== 0:\n",
    "            return (\"Queue Empty!\")\n",
    "        data = self.queue[self.head]\n",
    "        self.head = (self.head + 1) % (self.maxSize + 1)\n",
    "        return data\n",
    "    \n",
    "    #Calculating the size of the queue\n",
    "    def size(self):\n",
    "        if self.tail >= self.head:\n",
    "            return (self.tail - self.head)\n",
    "        return (self.maxSize + 1 - (self.head - self.tail))"
   ]
  },
  {
   "cell_type": "markdown",
   "metadata": {},
   "source": [
    "## Binary Search Trees"
   ]
  },
  {
   "cell_type": "code",
   "execution_count": null,
   "metadata": {},
   "outputs": [],
   "source": [
    "class BSTNode:\n",
    "    def __init__(self, key):\n",
    "        self.key = key\n",
    "        self.left = None\n",
    "        self.right = None\n",
    "        self.parent = None\n",
    "\n",
    "    def insert(self, node):\n",
    "        if self.key > node.key:\n",
    "            if self.left is None:\n",
    "                self.left = node\n",
    "                node.parent = self\n",
    "            else:\n",
    "                self.left.insert(node)\n",
    "        elif self.key < node.key:\n",
    "            if self.right is None:\n",
    "                self.right = node\n",
    "                node.parent = self\n",
    "            else:\n",
    "                self.right.insert(node)\n",
    "     \n",
    "    ### Search ##################################\n",
    "    def search(self, key):\n",
    "        if self.key > key:\n",
    "            if self.left is not None:\n",
    "                return self.left.search(key)\n",
    "            else:\n",
    "                return None\n",
    "        elif self.key < key:\n",
    "            if self.right is not None:\n",
    "                return self.right.search(key)\n",
    "            else:\n",
    "                return None\n",
    "        return self\n",
    "    ### Orderings ################################\n",
    "    def inorder(self):\n",
    "        if self.left is not None:\n",
    "            self.left.inorder()\n",
    "            \n",
    "        print(self.key, end='')\n",
    "        \n",
    "        if self.right is not None:\n",
    "            self.right.inorder()\n",
    "\n",
    "    def preorder(self):\n",
    "        print(self.key, end='')\n",
    "        \n",
    "        if self.left is not None:\n",
    "            self.left.inorder()\n",
    "        \n",
    "        if self.right is not None:\n",
    "            self.right.inorder()\n",
    "            \n",
    "    def postorder(self):\n",
    "        if self.left is not None:\n",
    "            self.left.inorder()\n",
    "        \n",
    "        if self.right is not None:\n",
    "            self.right.inorder()\n",
    "        \n",
    "        print(self.key, end='')    \n",
    "\n",
    "class BSTree:\n",
    "    def __init__(self):\n",
    "        self.root = None\n",
    "\n",
    "    def inorder(self):\n",
    "        if self.root is not None:\n",
    "            self.root.inorder()\n",
    "\n",
    "    def add(self, key):\n",
    "        new_node = BSTNode(key)\n",
    "        if self.root is None:\n",
    "            self.root = new_node\n",
    "        else:\n",
    "            self.root.insert(new_node)\n",
    "\n",
    "    def search(self):\n",
    "        if self.root is not None:\n",
    "            return self.root.search()\n"
   ]
  },
  {
   "cell_type": "markdown",
   "metadata": {},
   "source": [
    "# Databases"
   ]
  },
  {
   "cell_type": "markdown",
   "metadata": {},
   "source": [
    "## SQL"
   ]
  },
  {
   "cell_type": "code",
   "execution_count": null,
   "metadata": {},
   "outputs": [],
   "source": [
    "## Insertion into database\n",
    "# https://github.com/Hackin7/Programming-Crappy-Solutions/blob/master/Basic%20Exercises/NYJC%20A%20Level%20Computing%202019-2020/Tests%20and%20Exams/JC2/4%20Mid%20Year%20Common%20Test/TASK4_2_Chan%20Zun%20Mun%20Terence.py\n",
    "# https://github.com/Hackin7/Programming-Crappy-Solutions/blob/master/Basic%20Exercises/NYJC%20A%20Level%20Computing%202019-2020/Other%20School%20Practices/RVHS%20JC2%20CT3%20P2%202020/Task_4_2.py\n",
    "\n",
    "'''\n",
    "import sqlite3\n",
    "conn = sqlite3.connect('test.db')\n",
    "'''\n",
    "def refresh(filename):\n",
    "    # Clear \n",
    "    tables = ['Result', 'Test', 'Student']\n",
    "    for table in tables:\n",
    "        try:\n",
    "            conn.execute(f\"DROP TABLE '{table}'\")\n",
    "        except Exception as e:\n",
    "            print(e)\n",
    "    #\n",
    "    file = open(filename, 'r')\n",
    "    statements = f.read().split(\"\\n\\n\")\n",
    "    file.close()\n",
    "    for i in statements:\n",
    "        conn.execute(i)\n",
    "\n",
    "import csv\n",
    "def read(filename, insert): #pass in function into `insert`\n",
    "    file = open(filename, 'r') # Read mode\n",
    "    reader = csv.reader(file)\n",
    "    \n",
    "    header = None # Change to a value if the file has no header\n",
    "    for data in reader:\n",
    "        if header == None:\n",
    "            header = data\n",
    "        else:\n",
    "            insert(header, data)\n",
    "            \n",
    "    file.close()\n",
    "\n",
    "def insertSpecific(header, record):\n",
    "    # Data Conversion\n",
    "    record[3] = int(record[3])\n",
    "    # Insertion\n",
    "    conn.execute(\"INSERT INTO Printer(SerialNumber, Toner, DateChanged)\"\n",
    "                 \"VALUES (?,?,?)\", record)\n",
    "    # insert(\"Table\", header, record) # alternative if you have time to code\n",
    "    \n",
    "#################################################################################\n",
    "\n",
    "# Code this if you are lazy to read the column headings\n",
    "def insert(table, header, record):\n",
    "    # For Columns\n",
    "    columns = \"\"\n",
    "    for h in header:\n",
    "        if columns != \"\":\n",
    "            columns += \",\"\n",
    "        columns += h\n",
    "        \n",
    "    # Parametrised queries\n",
    "    placeholder = \"\"\n",
    "    for r in record:\n",
    "        if placeholder != \"\":\n",
    "            placeholder += \",\"\n",
    "        placeholder += \"?\"\n",
    "    \n",
    "    statement = f\"INSERT INTO {table}({columns}) VALUES({placeholder})\"\n",
    "    #print(statement, record)\n",
    "    conn.execute(statement, tuple(record))\n",
    "    \n",
    "\n",
    "'''\n",
    "refresh(\"TASK4_1.sql\")\n",
    "readCSV(\"students.csv\", insertSpecific)\n",
    "'''"
   ]
  },
  {
   "cell_type": "markdown",
   "metadata": {},
   "source": [
    "## MongoDB"
   ]
  },
  {
   "cell_type": "code",
   "execution_count": null,
   "metadata": {},
   "outputs": [],
   "source": []
  },
  {
   "cell_type": "markdown",
   "metadata": {},
   "source": [
    "# Socket Programming\n"
   ]
  },
  {
   "cell_type": "code",
   "execution_count": null,
   "metadata": {},
   "outputs": [],
   "source": [
    "import socket\n",
    "\n",
    "# An overengineered socket class for A Levels\n",
    "class Connection: \n",
    "    def __init__(self, ip, port, server=False):\n",
    "        self.net = (ip, port)\n",
    "        self.isServer = server\n",
    "        if server == True:\n",
    "            self.set_server()\n",
    "        else:\n",
    "            self.set_client()\n",
    "\n",
    "    def set_server(self):\n",
    "        self.socket = socket.socket()\n",
    "        self.socket.bind(self.net)\n",
    "        self.socket.listen()\n",
    "        print('Listening on',self.net)\n",
    "        \n",
    "        self.conn, self.conn_addr = self.socket.accept()\n",
    "        print('Accepted connection from', self.conn_addr)\n",
    "\n",
    "    def set_client(self):\n",
    "        print(\"Connecting to\",self.net)\n",
    "        self.conn = socket.socket()\n",
    "        self.conn.connect(self.net)\n",
    "        print(\"Connected\")\n",
    "        \n",
    "    ### Basic I/O #####################################################\n",
    "    def send(self, message):\n",
    "        self.conn.sendall(message.encode('ascii'))\n",
    "\n",
    "    def recieve(self):\n",
    "        return self.conn.recv(1024).decode('ascii') # 1024 is max size\n",
    "\n",
    "    def close(self):\n",
    "        return self.conn.close()\n",
    "\n",
    "    ### Unnecessary but useful ########################################\n",
    "    def client_prompt(self):\n",
    "        # Loop      \n",
    "        connected = True\n",
    "        while connected:\n",
    "            output = self.receive()\n",
    "            if output == 'Exit':\n",
    "                connected = False\n",
    "            else:\n",
    "                print(output)\n",
    "                self.send(input())\n",
    "            \n",
    "        self.close()\n",
    "\n",
    "'''\n",
    "server = Connection('127.0.0.1',1234, True)\n",
    "for i in range(10):\n",
    "    server.send('Send a message:') #Use like a print function\n",
    "    print(server.receive())\n",
    "server.send('Exit')\n",
    "\n",
    "server.close()\n",
    "\n",
    "# Or\n",
    "\n",
    "client = Connection('127.0.0.1', 1234)\n",
    "client.interactive()\n",
    "'''"
   ]
  },
  {
   "cell_type": "markdown",
   "metadata": {},
   "source": [
    "# Web Application Programming"
   ]
  },
  {
   "cell_type": "markdown",
   "metadata": {},
   "source": [
    "## HTML"
   ]
  },
  {
   "cell_type": "code",
   "execution_count": 1,
   "metadata": {},
   "outputs": [
    {
     "data": {
      "text/html": [
       "<!-- Basic HTML File Boilerplate -->\n",
       "<!doctype html>\n",
       "<html>\n",
       "    <head>\n",
       "        <title>Title</title>\n",
       "    </head>\n",
       "    <body>\n",
       "        This is a basic boilerplate: Insert your Content here\n",
       "    </body>\n",
       "</html>\n"
      ],
      "text/plain": [
       "<IPython.core.display.HTML object>"
      ]
     },
     "metadata": {},
     "output_type": "display_data"
    }
   ],
   "source": [
    "%%html\n",
    "<!-- Basic HTML File Boilerplate -->\n",
    "<!doctype html>\n",
    "<html>\n",
    "    <head>\n",
    "        <title>Title</title>\n",
    "    </head>\n",
    "    <body>\n",
    "        This is a basic boilerplate: Insert your Content here\n",
    "    </body>\n",
    "</html>"
   ]
  },
  {
   "cell_type": "code",
   "execution_count": 1,
   "metadata": {},
   "outputs": [
    {
     "data": {
      "text/html": [
       "<h3>Possible Form Options</h3>\n",
       "<form action='' method='GET'>\n",
       "    <label for=\"textfield\">TextField</label> \n",
       "    <input type='text' name='textfield'>\n",
       "    \n",
       "    <div>\n",
       "        <input type=\"radio\" name=\"radio\" value=\"choice1\">\n",
       "        <label for=\"choice1\">Choice 1</label>\n",
       "        <input type=\"radio\" name=\"radio\" value=\"choice2\">\n",
       "        <label for=\"choice1\">Choice 2</label>\n",
       "    </div>\n",
       "    \n",
       "    <input type=\"checkbox\">\n",
       "    <br>\n",
       "    \n",
       "    <select name=\"dropdown\">\n",
       "        <option value=\"option1\">Option 1</option>\n",
       "    </select>\n",
       "    <br><br>\n",
       "    \n",
       "    \n",
       "    <input type='submit'>\n",
       "</form>\n"
      ],
      "text/plain": [
       "<IPython.core.display.HTML object>"
      ]
     },
     "metadata": {},
     "output_type": "display_data"
    }
   ],
   "source": [
    "%%html\n",
    "<h3>Possible Form Options</h3>\n",
    "<form action='' method='GET'>\n",
    "    <label for=\"textfield\">TextField</label> \n",
    "    <input type='text' name='textfield'>\n",
    "    \n",
    "    <div>\n",
    "        <input type=\"radio\" name=\"radio\" value=\"choice1\">\n",
    "        <label for=\"choice1\">Choice 1</label>\n",
    "        <input type=\"radio\" name=\"radio\" value=\"choice2\">\n",
    "        <label for=\"choice1\">Choice 2</label>\n",
    "    </div>\n",
    "    \n",
    "    <input type=\"checkbox\">\n",
    "    <br>\n",
    "    \n",
    "    <select name=\"dropdown\">\n",
    "        <option value=\"option1\">Option 1</option>\n",
    "    </select>\n",
    "    <br><br>\n",
    "    \n",
    "    \n",
    "    <input type='submit'>\n",
    "</form>"
   ]
  },
  {
   "cell_type": "code",
   "execution_count": 6,
   "metadata": {},
   "outputs": [
    {
     "data": {
      "text/html": [
       "<form action=\"/upload\" method=\"post\" enctype=\"multipart/form-data\">\n",
       "    <input type=\"file\" name=\"file\" id=\"file\">\n",
       "    <input type=\"submit\"/>\n",
       "</form>\n"
      ],
      "text/plain": [
       "<IPython.core.display.HTML object>"
      ]
     },
     "metadata": {},
     "output_type": "display_data"
    }
   ],
   "source": [
    "%%html\n",
    "<form action=\"/upload\" method=\"post\" enctype=\"multipart/form-data\">\n",
    "    <input type=\"file\" name=\"file\" id=\"file\">\n",
    "    <input type=\"submit\"/>\n",
    "</form>"
   ]
  },
  {
   "cell_type": "code",
   "execution_count": 34,
   "metadata": {},
   "outputs": [
    {
     "data": {
      "text/html": [
       "<style>\n",
       "table,td,th{\n",
       "    border:1px solid black;\n",
       "    border-collapse: collapse;  /* Add to combine borders */\n",
       "    background-color:gray;\n",
       "}\n",
       "\n",
       "th{\n",
       "    color:white;\n",
       "    background-color:Black;\n",
       "}\n",
       "</style>\n",
       "\n",
       "<h3>Table</h3>\n",
       "<table border=\"10\">\n",
       "    <tr>\n",
       "        <th>Header 1</th>\n",
       "        <th>Header 2</th>\n",
       "    </tr>\n",
       "    <tr>\n",
       "        <td>Value 1</td>\n",
       "        <td>Value 2</td>\n",
       "    </tr>\n",
       "</table>\n"
      ],
      "text/plain": [
       "<IPython.core.display.HTML object>"
      ]
     },
     "metadata": {},
     "output_type": "display_data"
    }
   ],
   "source": [
    "%%html\n",
    "<style>\n",
    "table,td,th{\n",
    "    border:1px solid black;\n",
    "    border-collapse: collapse;  /* Add to combine borders */\n",
    "    background-color:gray;\n",
    "}\n",
    "\n",
    "th{\n",
    "    color:white;\n",
    "    background-color:Black;\n",
    "}\n",
    "</style>\n",
    "\n",
    "<h3>Table</h3>\n",
    "<table border=\"10\">\n",
    "    <tr>\n",
    "        <th>Header 1</th>\n",
    "        <th>Header 2</th>\n",
    "    </tr>\n",
    "    <tr>\n",
    "        <td>Value 1</td>\n",
    "        <td>Value 2</td>\n",
    "    </tr>\n",
    "</table>"
   ]
  },
  {
   "cell_type": "code",
   "execution_count": 3,
   "metadata": {},
   "outputs": [
    {
     "data": {
      "text/html": [
       "<img src=\"https://www.google.com.sg/images/branding/googlelogo/1x/googlelogo_color_272x92dp.png\" alt=\"Google image\">\n"
      ],
      "text/plain": [
       "<IPython.core.display.HTML object>"
      ]
     },
     "metadata": {},
     "output_type": "display_data"
    }
   ],
   "source": [
    "%%html\n",
    "<img src=\"https://www.google.com.sg/images/branding/googlelogo/1x/googlelogo_color_272x92dp.png\" alt=\"Google image\">"
   ]
  },
  {
   "cell_type": "markdown",
   "metadata": {},
   "source": [
    "## Flask"
   ]
  },
  {
   "cell_type": "code",
   "execution_count": 18,
   "metadata": {},
   "outputs": [
    {
     "name": "stderr",
     "output_type": "stream",
     "text": [
      "A subdirectory or file templates already exists.\n"
     ]
    }
   ],
   "source": [
    "!mkdir templates || mkdir static"
   ]
  },
  {
   "cell_type": "markdown",
   "metadata": {},
   "source": [
    "### Form to Table "
   ]
  },
  {
   "cell_type": "code",
   "execution_count": 8,
   "metadata": {},
   "outputs": [
    {
     "name": "stdout",
     "output_type": "stream",
     "text": [
      "Overwriting static/style.css\n"
     ]
    }
   ],
   "source": [
    "%%writefile static/style.css\n",
    "table,td,th{\n",
    "    border-collapse: collapse;  /* Add to combine borders */\n",
    "    border:1px solid black;\n",
    "    background-color:gray;\n",
    "}\n",
    "\n",
    "/*\n",
    "table{\n",
    "    width:40vw;\n",
    "    height:40vh;\n",
    "}\n",
    "*/\n",
    "td,th{\n",
    "    padding:10px;\n",
    "}\n",
    "th{\n",
    "    color:white;\n",
    "    background-color:black; /* Overriding Styles */\n",
    "}"
   ]
  },
  {
   "cell_type": "code",
   "execution_count": 11,
   "metadata": {},
   "outputs": [
    {
     "name": "stdout",
     "output_type": "stream",
     "text": [
      "Overwriting templates/table.html\n"
     ]
    }
   ],
   "source": [
    "%%writefile templates/table.html\n",
    "\n",
    "<!doctype html>\n",
    "<html>\n",
    "    <head>\n",
    "        <title>Table</title>\n",
    "        <link rel=\"stylesheet\" href=\"{{url_for('static', filename='style.css')}}\"></link>\n",
    "    </head>\n",
    "    <body>\n",
    "        <h1>Table</h1>\n",
    "        <table>\n",
    "            <tr>\n",
    "                {% for header in headers %}\n",
    "                <th>{{header}}</th>\n",
    "                {% endfor %}\n",
    "            </tr>\n",
    "            {% for record in data %}\n",
    "            <tr>\n",
    "                {% for i in record %}\n",
    "                <td>{{i}}</td>\n",
    "                {% endfor %}\n",
    "            </tr>\n",
    "            {% endfor %}\n",
    "        </table>\n",
    "    </body>\n",
    "</html>\n",
    "\n"
   ]
  },
  {
   "cell_type": "code",
   "execution_count": 13,
   "metadata": {},
   "outputs": [
    {
     "name": "stdout",
     "output_type": "stream",
     "text": [
      "Overwriting templates/form.html\n"
     ]
    }
   ],
   "source": [
    "%%writefile templates/form.html\n",
    "<!doctype html>\n",
    "<html>\n",
    "    <head>\n",
    "        <title>Form</title>\n",
    "        <link rel=\"stylesheet\" href=\"{{url_for('static', filename='style.css')}}\"></link>\n",
    "    </head>\n",
    "    <body>\n",
    "        \n",
    "        <h1>Form</h1>\n",
    "        <form action=\"{{url_for('table')}}\" method='get' enctype='multipart/form-data'>\n",
    "            <span>Text Field</span>\n",
    "            <input type='text' name='textfield'>\n",
    "            <input type='submit'>\n",
    "        </form>\n",
    "        \n",
    "    </body>\n",
    "</html>"
   ]
  },
  {
   "cell_type": "code",
   "execution_count": 10,
   "metadata": {
    "scrolled": true
   },
   "outputs": [
    {
     "name": "stdout",
     "output_type": "stream",
     "text": [
      "Overwriting table.py\n"
     ]
    }
   ],
   "source": [
    "%%writefile table.py\n",
    "import flask\n",
    "app = flask.Flask(__name__)\n",
    "\n",
    "@app.route('/')\n",
    "def main():\n",
    "    return flask.render_template('form.html')\n",
    "\n",
    "@app.route('/table', methods=['GET'])\n",
    "def table():\n",
    "    form_stuff = flask.request.args['textfield']\n",
    "    # for POST use flask.request.form\n",
    "    \n",
    "    # Templating\n",
    "    headers = ['Name','Value']\n",
    "    data = [\n",
    "        ['Text Field', form_stuff]\n",
    "    ]\n",
    "    return flask.render_template('table.html',\n",
    "                                 headers=headers,\n",
    "                                 data=data)\n",
    "    \n",
    "@app.route('/quit')\n",
    "def quit():\n",
    "    exit()\n",
    "\n",
    "if __name__ == \"__main__\":\n",
    "    app.run('0.0.0.0', 3000, debug=True)"
   ]
  },
  {
   "cell_type": "code",
   "execution_count": 15,
   "metadata": {},
   "outputs": [],
   "source": [
    "#!python table.py"
   ]
  },
  {
   "cell_type": "markdown",
   "metadata": {},
   "source": [
    "### Basic File Uploading"
   ]
  },
  {
   "cell_type": "code",
   "execution_count": 7,
   "metadata": {},
   "outputs": [
    {
     "name": "stdout",
     "output_type": "stream",
     "text": [
      "Writing file_upload_download.py\n"
     ]
    }
   ],
   "source": [
    "%%writefile file_upload_download.py\n",
    "\n",
    "## File Uploading Template\n",
    "import flask\n",
    "app = flask.Flask(__name__)\n",
    "\n",
    "@app.route(\"/\", methods=[\"GET\"])\n",
    "def page():\n",
    "    return \"\"\"\n",
    "    <form action=\"/upload\" method=\"post\" enctype=\"multipart/form-data\">\n",
    "        <input type=\"file\" name=\"file\" id=\"file\">\n",
    "        <input type=\"submit\"/>\n",
    "    </form>\n",
    "    \"\"\"\n",
    "\n",
    "from werkzeug.utils import secure_filename\n",
    "@app.route(\"/upload\", methods=[\"POST\"])\n",
    "def upload():\n",
    "    if flask.request.files:\n",
    "        file = flask.request.files['file']\n",
    "        filename = secure_filename(file.filename)\n",
    "        file.save('./'+filename)\n",
    "        return \"Uploaded \"+file.filename\n",
    "    else:\n",
    "        return \"Nothing to upload\"\n",
    "\n",
    "@app.route(\"/download\", methods=[\"GET\"])\n",
    "def download():\n",
    "    return flask.send_from_directory('./','file_upload_download.py')\n",
    "\n",
    "app.run('0.0.0.0', port=5000, debug=True)"
   ]
  },
  {
   "cell_type": "code",
   "execution_count": 21,
   "metadata": {},
   "outputs": [],
   "source": [
    "! rm -rf templates | rm -rf static | rm -rf table.py | rm -rf file_upload_download.py"
   ]
  }
 ],
 "metadata": {
  "kernelspec": {
   "display_name": "Python 3",
   "language": "python",
   "name": "python3"
  },
  "language_info": {
   "codemirror_mode": {
    "name": "ipython",
    "version": 3
   },
   "file_extension": ".py",
   "mimetype": "text/x-python",
   "name": "python",
   "nbconvert_exporter": "python",
   "pygments_lexer": "ipython3",
   "version": "3.6.7"
  }
 },
 "nbformat": 4,
 "nbformat_minor": 2
}
