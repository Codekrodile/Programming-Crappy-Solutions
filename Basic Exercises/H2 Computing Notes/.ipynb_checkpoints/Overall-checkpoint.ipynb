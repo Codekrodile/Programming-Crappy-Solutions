{
 "cells": [
  {
   "cell_type": "markdown",
   "metadata": {},
   "source": [
    "# Common Algorithms/ Libraries"
   ]
  },
  {
   "cell_type": "markdown",
   "metadata": {},
   "source": [
    "## File I/O"
   ]
  },
  {
   "cell_type": "code",
   "execution_count": 112,
   "metadata": {},
   "outputs": [],
   "source": [
    "## Write mode\n",
    "file = open('TEST.txt', 'w')\n",
    "file.write('This is some test data\\nAnd this is another line')\n",
    "file.close()"
   ]
  },
  {
   "cell_type": "code",
   "execution_count": 113,
   "metadata": {},
   "outputs": [
    {
     "name": "stdout",
     "output_type": "stream",
     "text": [
      "This is some test data\n",
      "And this is another line\n"
     ]
    }
   ],
   "source": [
    "## Read mode\n",
    "file = open('TEST.txt') #,'r')\n",
    "for line in file:\n",
    "    print(line.strip())\n",
    "file.close()"
   ]
  },
  {
   "cell_type": "code",
   "execution_count": 89,
   "metadata": {},
   "outputs": [],
   "source": [
    "## Append mode\n",
    "file = open('TEST.txt', 'a')\n",
    "file.write('\\nAnd this is another appended line')\n",
    "file.close()"
   ]
  },
  {
   "cell_type": "code",
   "execution_count": 107,
   "metadata": {},
   "outputs": [],
   "source": [
    "## CSV Writer\n",
    "data = [\n",
    "    ['Alice', 'H1GP', 'H2MATH', 'H2ECONS', 'H2PHY', 'H2COMP'],\n",
    "    ['Bobby', 'H1GP', 'H2MATH', 'H2ECONS', 'H2PHY', 'H2CLL'],\n",
    "    ['Charlie', 'H1GP', 'H2MATH', 'H2ECONS', 'H2CHEM', 'H2COMP'],\n",
    "    ['Danny', 'H1GP', 'H2MATH', 'H2PHY', 'H2CHEM', 'H2COMP'],\n",
    "    ['Ernest', 'H1GP', 'H2MATH', 'H2PHY', 'H2COMP', 'H2ELL']\n",
    "]\n",
    "\n",
    "import csv\n",
    "file = open('studentsubjects.csv','w', newline='') # Newline\n",
    "writer = csv.writer(file)# , delimiter=' ',quotechar='|', quoting=csv.QUOTE_MINIMAL)\n",
    "\n",
    "#for record in data: writer.writerow(record)\n",
    "writer.writerows(data)\n",
    "file.close()"
   ]
  },
  {
   "cell_type": "code",
   "execution_count": 108,
   "metadata": {},
   "outputs": [
    {
     "name": "stdout",
     "output_type": "stream",
     "text": [
      "['Alice', 'H1GP', 'H2MATH', 'H2ECONS', 'H2PHY', 'H2COMP']\n",
      "['Bobby', 'H1GP', 'H2MATH', 'H2ECONS', 'H2PHY', 'H2CLL']\n",
      "['Charlie', 'H1GP', 'H2MATH', 'H2ECONS', 'H2CHEM', 'H2COMP']\n",
      "['Danny', 'H1GP', 'H2MATH', 'H2PHY', 'H2CHEM', 'H2COMP']\n",
      "['Ernest', 'H1GP', 'H2MATH', 'H2PHY', 'H2COMP', 'H2ELL']\n"
     ]
    }
   ],
   "source": [
    "## CSV Reader\n",
    "import csv\n",
    "file = open('studentsubjects.csv') #,'r')\n",
    "reader = csv.reader(file)\n",
    "for record in reader:\n",
    "    print(record)\n",
    "file.close()"
   ]
  },
  {
   "cell_type": "code",
   "execution_count": 111,
   "metadata": {},
   "outputs": [],
   "source": [
    "## Clean up\n",
    "import os\n",
    "try:\n",
    "    os.remove('studentsubjects.csv')\n",
    "    os.remove('TEST.txt')\n",
    "except:\n",
    "    pass"
   ]
  },
  {
   "cell_type": "markdown",
   "metadata": {},
   "source": [
    "## F-Strings"
   ]
  },
  {
   "cell_type": "code",
   "execution_count": 59,
   "metadata": {},
   "outputs": [
    {
     "name": "stdout",
     "output_type": "stream",
     "text": [
      "| hello      |\n",
      "|   hello    |\n",
      "|      hello |\n",
      "| -----hello |\n",
      "|               Variable spacing |\n"
     ]
    }
   ],
   "source": [
    "## Justification and spacing\n",
    "print(\"|\", f\"{'hello':<10}\", \"|\")\n",
    "print(\"|\", f\"{'hello':^10}\", \"|\")\n",
    "print(\"|\", f\"{'hello':>10}\", \"|\")\n",
    "print(\"|\", f\"{'hello':->10}\", \"|\") # Fill empty space with extra stuff\n",
    "\n",
    "spacing = 30\n",
    "print(\"|\", f\"{'Variable spacing':>{spacing}}\", \"|\")"
   ]
  },
  {
   "cell_type": "code",
   "execution_count": 47,
   "metadata": {},
   "outputs": [
    {
     "name": "stdout",
     "output_type": "stream",
     "text": [
      "2 Decimal places: 1.00\n",
      "2 Signicant figures: 1\n",
      "\n",
      "Binary form:  1\n",
      "\n",
      "Show sign:  1\n",
      "Show sign: +1\n",
      "Show sign: +1\n"
     ]
    }
   ],
   "source": [
    "## Number Formatting\n",
    "num = 1 # Set as you like\n",
    "\n",
    "# Significant figures\n",
    "print(\"2 Decimal places:\", f\"{num:.2f}\")\n",
    "print(\"2 Signicant figures:\", f\"{num:.2g}\")\n",
    "\n",
    "# Formats\n",
    "print()\n",
    "print(\"Binary form:\", f\"{num:2b}\")\n",
    "\n",
    "# Signs\n",
    "print()\n",
    "print(\"Show sign:\", f\"{num: 2}\")# Leading space in front of positive numbers only\n",
    "print(\"Show sign:\", f\"{num:+2}\") # Always Show sign\n",
    "print(\"Show sign:\", f\"{num:+2}\")# Only for negative numbers\n"
   ]
  },
  {
   "cell_type": "code",
   "execution_count": 55,
   "metadata": {},
   "outputs": [
    {
     "name": "stdout",
     "output_type": "stream",
     "text": [
      "| +1010.00   |\n"
     ]
    }
   ],
   "source": [
    "## Combination\n",
    "print(\"|\", f\"{1010:<+10.2f}\", \"|\")"
   ]
  },
  {
   "cell_type": "code",
   "execution_count": 34,
   "metadata": {
    "scrolled": true
   },
   "outputs": [
    {
     "name": "stdout",
     "output_type": "stream",
     "text": [
      "Format String Syntax\n",
      "********************\n",
      "\n",
      "The \"str.format()\" method and the \"Formatter\" class share the same\n",
      "syntax for format strings (although in the case of \"Formatter\",\n",
      "subclasses can define their own format string syntax).  The syntax is\n",
      "related to that of formatted string literals, but there are\n",
      "differences.\n",
      "\n",
      "Format strings contain “replacement fields” surrounded by curly braces\n",
      "\"{}\". Anything that is not contained in braces is considered literal\n",
      "text, which is copied unchanged to the output.  If you need to include\n",
      "a brace character in the literal text, it can be escaped by doubling:\n",
      "\"{{\" and \"}}\".\n",
      "\n",
      "The grammar for a replacement field is as follows:\n",
      "\n",
      "      replacement_field ::= \"{\" [field_name] [\"!\" conversion] [\":\" format_spec] \"}\"\n",
      "      field_name        ::= arg_name (\".\" attribute_name | \"[\" element_index \"]\")*\n",
      "      arg_name          ::= [identifier | digit+]\n",
      "      attribute_name    ::= identifier\n",
      "      element_index     ::= digit+ | index_string\n",
      "      index_string      ::= <any source character except \"]\"> +\n",
      "      conversion        ::= \"r\" | \"s\" | \"a\"\n",
      "      format_spec       ::= <described in the next section>\n",
      "\n",
      "In less formal terms, the replacement field can start with a\n",
      "*field_name* that specifies the object whose value is to be formatted\n",
      "and inserted into the output instead of the replacement field. The\n",
      "*field_name* is optionally followed by a  *conversion* field, which is\n",
      "preceded by an exclamation point \"'!'\", and a *format_spec*, which is\n",
      "preceded by a colon \"':'\".  These specify a non-default format for the\n",
      "replacement value.\n",
      "\n",
      "See also the Format Specification Mini-Language section.\n",
      "\n",
      "The *field_name* itself begins with an *arg_name* that is either a\n",
      "number or a keyword.  If it’s a number, it refers to a positional\n",
      "argument, and if it’s a keyword, it refers to a named keyword\n",
      "argument.  If the numerical arg_names in a format string are 0, 1, 2,\n",
      "… in sequence, they can all be omitted (not just some) and the numbers\n",
      "0, 1, 2, … will be automatically inserted in that order. Because\n",
      "*arg_name* is not quote-delimited, it is not possible to specify\n",
      "arbitrary dictionary keys (e.g., the strings \"'10'\" or \"':-]'\") within\n",
      "a format string. The *arg_name* can be followed by any number of index\n",
      "or attribute expressions. An expression of the form \"'.name'\" selects\n",
      "the named attribute using \"getattr()\", while an expression of the form\n",
      "\"'[index]'\" does an index lookup using \"__getitem__()\".\n",
      "\n",
      "Changed in version 3.1: The positional argument specifiers can be\n",
      "omitted for \"str.format()\", so \"'{} {}'.format(a, b)\" is equivalent to\n",
      "\"'{0} {1}'.format(a, b)\".\n",
      "\n",
      "Changed in version 3.4: The positional argument specifiers can be\n",
      "omitted for \"Formatter\".\n",
      "\n",
      "Some simple format string examples:\n",
      "\n",
      "   \"First, thou shalt count to {0}\"  # References first positional argument\n",
      "   \"Bring me a {}\"                   # Implicitly references the first positional argument\n",
      "   \"From {} to {}\"                   # Same as \"From {0} to {1}\"\n",
      "   \"My quest is {name}\"              # References keyword argument 'name'\n",
      "   \"Weight in tons {0.weight}\"       # 'weight' attribute of first positional arg\n",
      "   \"Units destroyed: {players[0]}\"   # First element of keyword argument 'players'.\n",
      "\n",
      "The *conversion* field causes a type coercion before formatting.\n",
      "Normally, the job of formatting a value is done by the \"__format__()\"\n",
      "method of the value itself.  However, in some cases it is desirable to\n",
      "force a type to be formatted as a string, overriding its own\n",
      "definition of formatting.  By converting the value to a string before\n",
      "calling \"__format__()\", the normal formatting logic is bypassed.\n",
      "\n",
      "Three conversion flags are currently supported: \"'!s'\" which calls\n",
      "\"str()\" on the value, \"'!r'\" which calls \"repr()\" and \"'!a'\" which\n",
      "calls \"ascii()\".\n",
      "\n",
      "Some examples:\n",
      "\n",
      "   \"Harold's a clever {0!s}\"        # Calls str() on the argument first\n",
      "   \"Bring out the holy {name!r}\"    # Calls repr() on the argument first\n",
      "   \"More {!a}\"                      # Calls ascii() on the argument first\n",
      "\n",
      "The *format_spec* field contains a specification of how the value\n",
      "should be presented, including such details as field width, alignment,\n",
      "padding, decimal precision and so on.  Each value type can define its\n",
      "own “formatting mini-language” or interpretation of the *format_spec*.\n",
      "\n",
      "Most built-in types support a common formatting mini-language, which\n",
      "is described in the next section.\n",
      "\n",
      "A *format_spec* field can also include nested replacement fields\n",
      "within it. These nested replacement fields may contain a field name,\n",
      "conversion flag and format specification, but deeper nesting is not\n",
      "allowed.  The replacement fields within the format_spec are\n",
      "substituted before the *format_spec* string is interpreted. This\n",
      "allows the formatting of a value to be dynamically specified.\n",
      "\n",
      "See the Format examples section for some examples.\n",
      "\n",
      "\n",
      "Format Specification Mini-Language\n",
      "==================================\n",
      "\n",
      "“Format specifications” are used within replacement fields contained\n",
      "within a format string to define how individual values are presented\n",
      "(see Format String Syntax and Formatted string literals). They can\n",
      "also be passed directly to the built-in \"format()\" function.  Each\n",
      "formattable type may define how the format specification is to be\n",
      "interpreted.\n",
      "\n",
      "Most built-in types implement the following options for format\n",
      "specifications, although some of the formatting options are only\n",
      "supported by the numeric types.\n",
      "\n",
      "A general convention is that an empty format string (\"\"\"\") produces\n",
      "the same result as if you had called \"str()\" on the value. A non-empty\n",
      "format string typically modifies the result.\n",
      "\n",
      "The general form of a *standard format specifier* is:\n",
      "\n",
      "   format_spec     ::= [[fill]align][sign][#][0][width][grouping_option][.precision][type]\n",
      "   fill            ::= <any character>\n",
      "   align           ::= \"<\" | \">\" | \"=\" | \"^\"\n",
      "   sign            ::= \"+\" | \"-\" | \" \"\n",
      "   width           ::= digit+\n",
      "   grouping_option ::= \"_\" | \",\"\n",
      "   precision       ::= digit+\n",
      "   type            ::= \"b\" | \"c\" | \"d\" | \"e\" | \"E\" | \"f\" | \"F\" | \"g\" | \"G\" | \"n\" | \"o\" | \"s\" | \"x\" | \"X\" | \"%\"\n",
      "\n",
      "If a valid *align* value is specified, it can be preceded by a *fill*\n",
      "character that can be any character and defaults to a space if\n",
      "omitted. It is not possible to use a literal curly brace (“\"{\"” or\n",
      "“\"}\"”) as the *fill* character in a formatted string literal or when\n",
      "using the \"str.format()\" method.  However, it is possible to insert a\n",
      "curly brace with a nested replacement field.  This limitation doesn’t\n",
      "affect the \"format()\" function.\n",
      "\n",
      "The meaning of the various alignment options is as follows:\n",
      "\n",
      "   +-----------+------------------------------------------------------------+\n",
      "   | Option    | Meaning                                                    |\n",
      "   +===========+============================================================+\n",
      "   | \"'<'\"     | Forces the field to be left-aligned within the available   |\n",
      "   |           | space (this is the default for most objects).              |\n",
      "   +-----------+------------------------------------------------------------+\n",
      "   | \"'>'\"     | Forces the field to be right-aligned within the available  |\n",
      "   |           | space (this is the default for numbers).                   |\n",
      "   +-----------+------------------------------------------------------------+\n",
      "   | \"'='\"     | Forces the padding to be placed after the sign (if any)    |\n",
      "   |           | but before the digits.  This is used for printing fields   |\n",
      "   |           | in the form ‘+000000120’. This alignment option is only    |\n",
      "   |           | valid for numeric types.  It becomes the default when ‘0’  |\n",
      "   |           | immediately precedes the field width.                      |\n",
      "   +-----------+------------------------------------------------------------+\n",
      "   | \"'^'\"     | Forces the field to be centered within the available       |\n",
      "   |           | space.                                                     |\n",
      "   +-----------+------------------------------------------------------------+\n",
      "\n",
      "Note that unless a minimum field width is defined, the field width\n",
      "will always be the same size as the data to fill it, so that the\n",
      "alignment option has no meaning in this case.\n",
      "\n",
      "The *sign* option is only valid for number types, and can be one of\n",
      "the following:\n",
      "\n",
      "   +-----------+------------------------------------------------------------+\n",
      "   | Option    | Meaning                                                    |\n",
      "   +===========+============================================================+\n",
      "   | \"'+'\"     | indicates that a sign should be used for both positive as  |\n",
      "   |           | well as negative numbers.                                  |\n",
      "   +-----------+------------------------------------------------------------+\n",
      "   | \"'-'\"     | indicates that a sign should be used only for negative     |\n",
      "   |           | numbers (this is the default behavior).                    |\n",
      "   +-----------+------------------------------------------------------------+\n",
      "   | space     | indicates that a leading space should be used on positive  |\n",
      "   |           | numbers, and a minus sign on negative numbers.             |\n",
      "   +-----------+------------------------------------------------------------+\n",
      "\n",
      "The \"'#'\" option causes the “alternate form” to be used for the\n",
      "conversion.  The alternate form is defined differently for different\n",
      "types.  This option is only valid for integer, float, complex and\n",
      "Decimal types. For integers, when binary, octal, or hexadecimal output\n",
      "is used, this option adds the prefix respective \"'0b'\", \"'0o'\", or\n",
      "\"'0x'\" to the output value. For floats, complex and Decimal the\n",
      "alternate form causes the result of the conversion to always contain a\n",
      "decimal-point character, even if no digits follow it. Normally, a\n",
      "decimal-point character appears in the result of these conversions\n",
      "only if a digit follows it. In addition, for \"'g'\" and \"'G'\"\n",
      "conversions, trailing zeros are not removed from the result.\n",
      "\n",
      "The \"','\" option signals the use of a comma for a thousands separator.\n",
      "For a locale aware separator, use the \"'n'\" integer presentation type\n",
      "instead.\n",
      "\n",
      "Changed in version 3.1: Added the \"','\" option (see also **PEP 378**).\n",
      "\n",
      "The \"'_'\" option signals the use of an underscore for a thousands\n",
      "separator for floating point presentation types and for integer\n",
      "presentation type \"'d'\".  For integer presentation types \"'b'\", \"'o'\",\n",
      "\"'x'\", and \"'X'\", underscores will be inserted every 4 digits.  For\n",
      "other presentation types, specifying this option is an error.\n",
      "\n",
      "Changed in version 3.6: Added the \"'_'\" option (see also **PEP 515**).\n",
      "\n",
      "*width* is a decimal integer defining the minimum field width.  If not\n",
      "specified, then the field width will be determined by the content.\n",
      "\n",
      "When no explicit alignment is given, preceding the *width* field by a\n",
      "zero (\"'0'\") character enables sign-aware zero-padding for numeric\n",
      "types.  This is equivalent to a *fill* character of \"'0'\" with an\n",
      "*alignment* type of \"'='\".\n",
      "\n",
      "The *precision* is a decimal number indicating how many digits should\n",
      "be displayed after the decimal point for a floating point value\n",
      "formatted with \"'f'\" and \"'F'\", or before and after the decimal point\n",
      "for a floating point value formatted with \"'g'\" or \"'G'\".  For non-\n",
      "number types the field indicates the maximum field size - in other\n",
      "words, how many characters will be used from the field content. The\n",
      "*precision* is not allowed for integer values.\n",
      "\n",
      "Finally, the *type* determines how the data should be presented.\n",
      "\n",
      "The available string presentation types are:\n",
      "\n",
      "   +-----------+------------------------------------------------------------+\n",
      "   | Type      | Meaning                                                    |\n",
      "   +===========+============================================================+\n",
      "   | \"'s'\"     | String format. This is the default type for strings and    |\n",
      "   |           | may be omitted.                                            |\n",
      "   +-----------+------------------------------------------------------------+\n",
      "   | None      | The same as \"'s'\".                                         |\n",
      "   +-----------+------------------------------------------------------------+\n",
      "\n",
      "The available integer presentation types are:\n",
      "\n",
      "   +-----------+------------------------------------------------------------+\n",
      "   | Type      | Meaning                                                    |\n",
      "   +===========+============================================================+\n",
      "   | \"'b'\"     | Binary format. Outputs the number in base 2.               |\n",
      "   +-----------+------------------------------------------------------------+\n",
      "   | \"'c'\"     | Character. Converts the integer to the corresponding       |\n",
      "   |           | unicode character before printing.                         |\n",
      "   +-----------+------------------------------------------------------------+\n",
      "   | \"'d'\"     | Decimal Integer. Outputs the number in base 10.            |\n",
      "   +-----------+------------------------------------------------------------+\n",
      "   | \"'o'\"     | Octal format. Outputs the number in base 8.                |\n",
      "   +-----------+------------------------------------------------------------+\n",
      "   | \"'x'\"     | Hex format. Outputs the number in base 16, using lower-    |\n",
      "   |           | case letters for the digits above 9.                       |\n",
      "   +-----------+------------------------------------------------------------+\n",
      "   | \"'X'\"     | Hex format. Outputs the number in base 16, using upper-    |\n",
      "   |           | case letters for the digits above 9.                       |\n",
      "   +-----------+------------------------------------------------------------+\n",
      "   | \"'n'\"     | Number. This is the same as \"'d'\", except that it uses the |\n",
      "   |           | current locale setting to insert the appropriate number    |\n",
      "   |           | separator characters.                                      |\n",
      "   +-----------+------------------------------------------------------------+\n",
      "   | None      | The same as \"'d'\".                                         |\n",
      "   +-----------+------------------------------------------------------------+\n",
      "\n",
      "In addition to the above presentation types, integers can be formatted\n",
      "with the floating point presentation types listed below (except \"'n'\"\n",
      "and \"None\"). When doing so, \"float()\" is used to convert the integer\n",
      "to a floating point number before formatting.\n",
      "\n",
      "The available presentation types for floating point and decimal values\n",
      "are:\n",
      "\n",
      "   +-----------+------------------------------------------------------------+\n",
      "   | Type      | Meaning                                                    |\n",
      "   +===========+============================================================+\n",
      "   | \"'e'\"     | Exponent notation. Prints the number in scientific         |\n",
      "   |           | notation using the letter ‘e’ to indicate the exponent.    |\n",
      "   |           | The default precision is \"6\".                              |\n",
      "   +-----------+------------------------------------------------------------+\n",
      "   | \"'E'\"     | Exponent notation. Same as \"'e'\" except it uses an upper   |\n",
      "   |           | case ‘E’ as the separator character.                       |\n",
      "   +-----------+------------------------------------------------------------+\n",
      "   | \"'f'\"     | Fixed-point notation. Displays the number as a fixed-point |\n",
      "   |           | number. The default precision is \"6\".                      |\n",
      "   +-----------+------------------------------------------------------------+\n",
      "   | \"'F'\"     | Fixed-point notation. Same as \"'f'\", but converts \"nan\" to |\n",
      "   |           | \"NAN\" and \"inf\" to \"INF\".                                  |\n",
      "   +-----------+------------------------------------------------------------+\n",
      "   | \"'g'\"     | General format.  For a given precision \"p >= 1\", this      |\n",
      "   |           | rounds the number to \"p\" significant digits and then       |\n",
      "   |           | formats the result in either fixed-point format or in      |\n",
      "   |           | scientific notation, depending on its magnitude.  The      |\n",
      "   |           | precise rules are as follows: suppose that the result      |\n",
      "   |           | formatted with presentation type \"'e'\" and precision \"p-1\" |\n",
      "   |           | would have exponent \"exp\".  Then if \"-4 <= exp < p\", the   |\n",
      "   |           | number is formatted with presentation type \"'f'\" and       |\n",
      "   |           | precision \"p-1-exp\".  Otherwise, the number is formatted   |\n",
      "   |           | with presentation type \"'e'\" and precision \"p-1\". In both  |\n",
      "   |           | cases insignificant trailing zeros are removed from the    |\n",
      "   |           | significand, and the decimal point is also removed if      |\n",
      "   |           | there are no remaining digits following it.  Positive and  |\n",
      "   |           | negative infinity, positive and negative zero, and nans,   |\n",
      "   |           | are formatted as \"inf\", \"-inf\", \"0\", \"-0\" and \"nan\"        |\n",
      "   |           | respectively, regardless of the precision.  A precision of |\n",
      "   |           | \"0\" is treated as equivalent to a precision of \"1\". The    |\n",
      "   |           | default precision is \"6\".                                  |\n",
      "   +-----------+------------------------------------------------------------+\n",
      "   | \"'G'\"     | General format. Same as \"'g'\" except switches to \"'E'\" if  |\n",
      "   |           | the number gets too large. The representations of infinity |\n",
      "   |           | and NaN are uppercased, too.                               |\n",
      "   +-----------+------------------------------------------------------------+\n",
      "   | \"'n'\"     | Number. This is the same as \"'g'\", except that it uses the |\n",
      "   |           | current locale setting to insert the appropriate number    |\n",
      "   |           | separator characters.                                      |\n",
      "   +-----------+------------------------------------------------------------+\n",
      "   | \"'%'\"     | Percentage. Multiplies the number by 100 and displays in   |\n",
      "   |           | fixed (\"'f'\") format, followed by a percent sign.          |\n",
      "   +-----------+------------------------------------------------------------+\n",
      "   | None      | Similar to \"'g'\", except that fixed-point notation, when   |\n",
      "   |           | used, has at least one digit past the decimal point. The   |\n",
      "   |           | default precision is as high as needed to represent the    |\n",
      "   |           | particular value. The overall effect is to match the       |\n",
      "   |           | output of \"str()\" as altered by the other format           |\n",
      "   |           | modifiers.                                                 |\n",
      "   +-----------+------------------------------------------------------------+\n",
      "\n",
      "\n",
      "Format examples\n",
      "===============\n",
      "\n",
      "This section contains examples of the \"str.format()\" syntax and\n",
      "comparison with the old \"%\"-formatting.\n",
      "\n",
      "In most of the cases the syntax is similar to the old \"%\"-formatting,\n",
      "with the addition of the \"{}\" and with \":\" used instead of \"%\". For\n",
      "example, \"'%03.2f'\" can be translated to \"'{:03.2f}'\".\n",
      "\n",
      "The new format syntax also supports new and different options, shown\n",
      "in the follow examples.\n",
      "\n",
      "Accessing arguments by position:\n",
      "\n",
      "   >>> '{0}, {1}, {2}'.format('a', 'b', 'c')\n",
      "   'a, b, c'\n",
      "   >>> '{}, {}, {}'.format('a', 'b', 'c')  # 3.1+ only\n",
      "   'a, b, c'\n",
      "   >>> '{2}, {1}, {0}'.format('a', 'b', 'c')\n",
      "   'c, b, a'\n",
      "   >>> '{2}, {1}, {0}'.format(*'abc')      # unpacking argument sequence\n",
      "   'c, b, a'\n",
      "   >>> '{0}{1}{0}'.format('abra', 'cad')   # arguments' indices can be repeated\n",
      "   'abracadabra'\n",
      "\n",
      "Accessing arguments by name:\n",
      "\n",
      "   >>> 'Coordinates: {latitude}, {longitude}'.format(latitude='37.24N', longitude='-115.81W')\n",
      "   'Coordinates: 37.24N, -115.81W'\n",
      "   >>> coord = {'latitude': '37.24N', 'longitude': '-115.81W'}\n",
      "   >>> 'Coordinates: {latitude}, {longitude}'.format(**coord)\n",
      "   'Coordinates: 37.24N, -115.81W'\n",
      "\n",
      "Accessing arguments’ attributes:\n",
      "\n",
      "   >>> c = 3-5j\n",
      "   >>> ('The complex number {0} is formed from the real part {0.real} '\n",
      "   ...  'and the imaginary part {0.imag}.').format(c)\n",
      "   'The complex number (3-5j) is formed from the real part 3.0 and the imaginary part -5.0.'\n",
      "   >>> class Point:\n",
      "   ...     def __init__(self, x, y):\n",
      "   ...         self.x, self.y = x, y\n",
      "   ...     def __str__(self):\n",
      "   ...         return 'Point({self.x}, {self.y})'.format(self=self)\n",
      "   ...\n",
      "   >>> str(Point(4, 2))\n",
      "   'Point(4, 2)'\n",
      "\n",
      "Accessing arguments’ items:\n",
      "\n",
      "   >>> coord = (3, 5)\n",
      "   >>> 'X: {0[0]};  Y: {0[1]}'.format(coord)\n",
      "   'X: 3;  Y: 5'\n",
      "\n",
      "Replacing \"%s\" and \"%r\":\n",
      "\n",
      "   >>> \"repr() shows quotes: {!r}; str() doesn't: {!s}\".format('test1', 'test2')\n",
      "   \"repr() shows quotes: 'test1'; str() doesn't: test2\"\n",
      "\n",
      "Aligning the text and specifying a width:\n",
      "\n",
      "   >>> '{:<30}'.format('left aligned')\n",
      "   'left aligned                  '\n",
      "   >>> '{:>30}'.format('right aligned')\n",
      "   '                 right aligned'\n",
      "   >>> '{:^30}'.format('centered')\n",
      "   '           centered           '\n",
      "   >>> '{:*^30}'.format('centered')  # use '*' as a fill char\n",
      "   '***********centered***********'\n",
      "\n",
      "Replacing \"%+f\", \"%-f\", and \"% f\" and specifying a sign:\n",
      "\n",
      "   >>> '{:+f}; {:+f}'.format(3.14, -3.14)  # show it always\n",
      "   '+3.140000; -3.140000'\n",
      "   >>> '{: f}; {: f}'.format(3.14, -3.14)  # show a space for positive numbers\n",
      "   ' 3.140000; -3.140000'\n",
      "   >>> '{:-f}; {:-f}'.format(3.14, -3.14)  # show only the minus -- same as '{:f}; {:f}'\n",
      "   '3.140000; -3.140000'\n",
      "\n",
      "Replacing \"%x\" and \"%o\" and converting the value to different bases:\n",
      "\n",
      "   >>> # format also supports binary numbers\n",
      "   >>> \"int: {0:d};  hex: {0:x};  oct: {0:o};  bin: {0:b}\".format(42)\n",
      "   'int: 42;  hex: 2a;  oct: 52;  bin: 101010'\n",
      "   >>> # with 0x, 0o, or 0b as prefix:\n",
      "   >>> \"int: {0:d};  hex: {0:#x};  oct: {0:#o};  bin: {0:#b}\".format(42)\n",
      "   'int: 42;  hex: 0x2a;  oct: 0o52;  bin: 0b101010'\n",
      "\n",
      "Using the comma as a thousands separator:\n",
      "\n",
      "   >>> '{:,}'.format(1234567890)\n",
      "   '1,234,567,890'\n",
      "\n",
      "Expressing a percentage:\n",
      "\n",
      "   >>> points = 19\n",
      "   >>> total = 22\n",
      "   >>> 'Correct answers: {:.2%}'.format(points/total)\n",
      "   'Correct answers: 86.36%'\n",
      "\n",
      "Using type-specific formatting:\n",
      "\n",
      "   >>> import datetime\n",
      "   >>> d = datetime.datetime(2010, 7, 4, 12, 15, 58)\n",
      "   >>> '{:%Y-%m-%d %H:%M:%S}'.format(d)\n",
      "   '2010-07-04 12:15:58'\n",
      "\n",
      "Nesting arguments and more complex examples:\n",
      "\n",
      "   >>> for align, text in zip('<^>', ['left', 'center', 'right']):\n",
      "   ...     '{0:{fill}{align}16}'.format(text, fill=align, align=align)\n",
      "   ...\n",
      "   'left<<<<<<<<<<<<'\n",
      "   '^^^^^center^^^^^'\n",
      "   '>>>>>>>>>>>right'\n",
      "   >>>\n",
      "   >>> octets = [192, 168, 0, 1]\n",
      "   >>> '{:02X}{:02X}{:02X}{:02X}'.format(*octets)\n",
      "   'C0A80001'\n",
      "   >>> int(_, 16)\n",
      "   3232235521\n",
      "   >>>\n",
      "   >>> width = 5\n",
      "   >>> for num in range(5,12): \n",
      "   ...     for base in 'dXob':\n",
      "   ...         print('{0:{width}{base}}'.format(num, base=base, width=width), end=' ')\n",
      "   ...     print()\n",
      "   ...\n",
      "       5     5     5   101\n",
      "       6     6     6   110\n",
      "       7     7     7   111\n",
      "       8     8    10  1000\n",
      "       9     9    11  1001\n",
      "      10     A    12  1010\n",
      "      11     B    13  1011\n",
      "\n",
      "Related help topics: OPERATORS\n",
      "\n"
     ]
    }
   ],
   "source": [
    "help('FORMATTING')"
   ]
  },
  {
   "cell_type": "code",
   "execution_count": 11,
   "metadata": {},
   "outputs": [
    {
     "name": "stdout",
     "output_type": "stream",
     "text": [
      "A         B         C         D         \n",
      "0         1         2         3         \n",
      "1         2         3         4         \n",
      "2         3         4         5         \n",
      "3         4         5         6         \n",
      "4         5         6         7         \n",
      "5         6         7         8         \n",
      "6         7         8         9         \n",
      "7         8         9         10        \n",
      "8         9         10        11        \n",
      "9         10        11        12        \n"
     ]
    }
   ],
   "source": [
    "## Generating a table\n",
    "\n",
    "def table(header, spacings, data):\n",
    "    output = ''\n",
    "    for index in range(len(header)):\n",
    "        output += f'{header[index]:<{spacings[index]}}'\n",
    "    \n",
    "    for record in data:\n",
    "        output += '\\n'\n",
    "        for index in range(len(record)):\n",
    "            item = record[index]\n",
    "            output += f'{item:<{spacings[index]}}'\n",
    "        \n",
    "    print(output)\n",
    "\n",
    "header = ['A','B','C','D']\n",
    "spacings = [10,10,10,10]\n",
    "data = [[j for j in range(i,i+4)] for i in range(10)]\n",
    "table(header, spacings, data)"
   ]
  },
  {
   "cell_type": "markdown",
   "metadata": {},
   "source": [
    "## Base Conversion"
   ]
  },
  {
   "cell_type": "code",
   "execution_count": 2,
   "metadata": {},
   "outputs": [],
   "source": [
    "def baseToDenary(number, base):\n",
    "    mapping = {}\n",
    "    \n",
    "    for digit in range(0, 9+1):\n",
    "        mapping[str(digit)] = digit\n",
    "        \n",
    "    for value in range(0, 26):\n",
    "        mapping[chr(65+value)] = 10+value\n",
    "        mapping[chr(97+value)] = 10+value\n",
    "        \n",
    "    value = 0\n",
    "    for i in range(len(number)):\n",
    "        currDigit = number[-1-i]\n",
    "        value += mapping[currDigit] * (base**i)\n",
    "\n",
    "    return value\n",
    "\n",
    "def denaryToBase(number, base):\n",
    "    reference = \"0123456789ABCDEFGHIJKLMNOPQRSTUVWXYZ\"\n",
    "\n",
    "    ans = \"\"\n",
    "    remaining = number\n",
    "    while remaining // base > 0:\n",
    "        currPlaceValue = remaining % base\n",
    "        currDigit = reference[currPlaceValue]\n",
    "        ans = currDigit + ans\n",
    "        remaining = remaining // base\n",
    "    # For the last place\n",
    "    currPlaceValue = remaining % base\n",
    "    if currPlaceValue != 0:\n",
    "        currDigit = reference[currPlaceValue]\n",
    "        ans = currDigit + ans\n",
    "    \n",
    "    return ans"
   ]
  },
  {
   "cell_type": "code",
   "execution_count": 3,
   "metadata": {},
   "outputs": [
    {
     "data": {
      "text/plain": [
       "10"
      ]
     },
     "execution_count": 3,
     "metadata": {},
     "output_type": "execute_result"
    }
   ],
   "source": [
    "baseToDenary('A',16)"
   ]
  },
  {
   "cell_type": "code",
   "execution_count": 4,
   "metadata": {},
   "outputs": [
    {
     "data": {
      "text/plain": [
       "'A'"
      ]
     },
     "execution_count": 4,
     "metadata": {},
     "output_type": "execute_result"
    }
   ],
   "source": [
    "denaryToBase(10, 16)"
   ]
  },
  {
   "cell_type": "markdown",
   "metadata": {},
   "source": [
    "## Datetime"
   ]
  },
  {
   "cell_type": "code",
   "execution_count": 62,
   "metadata": {},
   "outputs": [
    {
     "name": "stdout",
     "output_type": "stream",
     "text": [
      "Object now: \n",
      " 2020-08-22 15:51:16.839316 \n",
      "\n",
      "Get Current date, time and weekday: \n",
      " 2020-08-22 15:51:16.839316 5 \n",
      "\n",
      "Get min and max date and time: \n",
      " 0001-01-01 00:00:00 9999-12-31 23:59:59.999999 \n",
      "\n",
      "Get date attributes: \n",
      " 2020 8 22 \n",
      "\n",
      "Get time attributes: \n",
      " 15 51 16 839316 \n",
      "\n"
     ]
    }
   ],
   "source": [
    "from datetime import datetime\n",
    "now = datetime.now()\n",
    "\n",
    "## Accessing attributes\n",
    "print(\"Object now: \\n\", now, \"\\n\")\n",
    "print(\"Get Current date, time and weekday: \\n\", now.date(), now.time(), now.weekday(), \"\\n\")\n",
    "print(\"Get min and max date and time: \\n\", now.min, now.max, \"\\n\")\n",
    "print(\"Get date attributes: \\n\", now.year, now.month, now.day, \"\\n\")\n",
    "print(\"Get time attributes: \\n\", now.hour, now.minute, now.second, now.microsecond, \"\\n\")"
   ]
  },
  {
   "cell_type": "code",
   "execution_count": 67,
   "metadata": {},
   "outputs": [
    {
     "data": {
      "text/plain": [
       "datetime.datetime(2017, 11, 28, 23, 55, 59, 342380)"
      ]
     },
     "execution_count": 67,
     "metadata": {},
     "output_type": "execute_result"
    }
   ],
   "source": [
    "## Create your own dates\n",
    "datetime(2017, 11, 28, 23, 55, 59, 342380)"
   ]
  },
  {
   "cell_type": "code",
   "execution_count": 63,
   "metadata": {},
   "outputs": [
    {
     "name": "stdout",
     "output_type": "stream",
     "text": [
      "Past: \n",
      " 2020-08-15 14:51:16.839316 \n",
      "\n",
      "Future: \n",
      " 2020-08-29 16:51:16.839316 \n",
      "\n"
     ]
    }
   ],
   "source": [
    "## DateTime Arithmetic\n",
    "\n",
    "from datetime import timedelta\n",
    "diff = timedelta( weeks=1, days=0, hours=1, minutes=0, seconds=0, microseconds=0)\n",
    "print(\"Past: \\n\",now-diff, \"\\n\")\n",
    "print(\"Future: \\n\",now+diff, \"\\n\")"
   ]
  },
  {
   "cell_type": "markdown",
   "metadata": {},
   "source": [
    "# Sorting Algorithms"
   ]
  },
  {
   "cell_type": "markdown",
   "metadata": {},
   "source": [
    "## Bubble Sort"
   ]
  },
  {
   "cell_type": "code",
   "execution_count": 4,
   "metadata": {},
   "outputs": [
    {
     "data": {
      "text/plain": [
       "[0, 1, 2, 3, 3, 6, 45]"
      ]
     },
     "execution_count": 4,
     "metadata": {},
     "output_type": "execute_result"
    }
   ],
   "source": [
    "## Iterative\n",
    "def bubbleSort(arr):\n",
    "    noswap = False\n",
    "    while noswap == False:\n",
    "        noswap = True\n",
    "        for i in range(1,len(arr)):\n",
    "            if not(arr[i-1] <= arr[i]):\n",
    "                # Swapping\n",
    "                temp = arr[i]\n",
    "                arr[i] = arr[i-1]\n",
    "                arr[i-1] = temp\n",
    "                noswap = False\n",
    "\n",
    "arr = [1,0,3,6,3,45,2]\n",
    "bubbleSort(arr)\n",
    "arr"
   ]
  },
  {
   "cell_type": "code",
   "execution_count": 6,
   "metadata": {},
   "outputs": [
    {
     "data": {
      "text/plain": [
       "[0, 1, 3, 2, 3, 6, 45]"
      ]
     },
     "execution_count": 6,
     "metadata": {},
     "output_type": "execute_result"
    }
   ],
   "source": [
    "## Recursive\n",
    "\n",
    "def recursiveBubbleSort(arr, low, high):\n",
    "    noswap = True\n",
    "    for i in range(low+1, high):\n",
    "        if not(arr[i-1] <= arr[i]):\n",
    "            # Swapping\n",
    "            temp = arr[i]\n",
    "            arr[i] = arr[i-1]\n",
    "            arr[i-1] = temp\n",
    "            noswap = False\n",
    "    if noswap == False:\n",
    "        recursiveBubbleSort(arr, low+1, high)\n",
    "    \n",
    "arr = [1,0,3,6,3,45,2]\n",
    "recursiveBubbleSort(arr,0,len(arr))\n",
    "arr"
   ]
  },
  {
   "cell_type": "markdown",
   "metadata": {},
   "source": [
    "## Insertion Sort"
   ]
  },
  {
   "cell_type": "code",
   "execution_count": 124,
   "metadata": {},
   "outputs": [
    {
     "data": {
      "text/plain": [
       "[0, 1, 2, 3, 3, 6, 45]"
      ]
     },
     "execution_count": 124,
     "metadata": {},
     "output_type": "execute_result"
    }
   ],
   "source": [
    "## Iterative\n",
    "def insertionSort(arr):\n",
    "    for key_pos in range(len(arr)):\n",
    "        ## Shifting\n",
    "        key = arr[key_pos]\n",
    "        shift_pos = key_pos - 1\n",
    "        while shift_pos >= 0 and arr[shift_pos] >= key:\n",
    "            arr[shift_pos+1] = arr[shift_pos]\n",
    "            shift_pos -= 1\n",
    "        \n",
    "        ## Insertion\n",
    "        arr[shift_pos+1] = key\n",
    "        \n",
    "        \n",
    "arr = [1,0,3,6,3,45,2]\n",
    "insertionSort(arr)\n",
    "arr"
   ]
  },
  {
   "cell_type": "code",
   "execution_count": 8,
   "metadata": {},
   "outputs": [
    {
     "data": {
      "text/plain": [
       "[0, 1, 2, 3, 3, 6, 45]"
      ]
     },
     "execution_count": 8,
     "metadata": {},
     "output_type": "execute_result"
    }
   ],
   "source": [
    "## Recursive\n",
    "\n",
    "def recursiveInsertionSort(arr, curr_pass=1):\n",
    "    ### Base Case #########################\n",
    "    if curr_pass >= len(arr):\n",
    "        return\n",
    "    \n",
    "    ### Recursive Process #################\n",
    "    key_pos = curr_pass\n",
    "    \n",
    "    ## Shifting\n",
    "    key = arr[key_pos]\n",
    "    shift_pos = key_pos - 1\n",
    "    while shift_pos >= 0 and arr[shift_pos] >= key:\n",
    "        arr[shift_pos+1] = arr[shift_pos]\n",
    "        shift_pos -= 1\n",
    "    \n",
    "    ## Insertion\n",
    "    arr[shift_pos+1] = key\n",
    "    \n",
    "    ### Recursive Case ####################\n",
    "    recursiveInsertionSort(arr, curr_pass+1)\n",
    "\n",
    "arr = [1,0,3,6,3,45,2]\n",
    "recursiveInsertionSort(arr)\n",
    "arr"
   ]
  },
  {
   "cell_type": "markdown",
   "metadata": {},
   "source": [
    "## Merge Sort"
   ]
  },
  {
   "cell_type": "code",
   "execution_count": null,
   "metadata": {},
   "outputs": [],
   "source": [
    "## General Steps\n",
    "def cmp(a, b):\n",
    "    return a < b # Ascending\n",
    "    \n",
    "def merge(left, right):\n",
    "    result = []\n",
    "    l = 0 # Index of left array\n",
    "    r = 0 # Index of right array\n",
    "    while l + r < len(left) + len(right):\n",
    "        bothIndexesInRange = l < len(left) and r < len(right)\n",
    "        if (bothIndexesInRange and cmp(left[l],right[r])) or \\\n",
    "            r >= len(right):\n",
    "            result.append(left[l])\n",
    "            l += 1\n",
    "        else:\n",
    "            result.append(right[r])\n",
    "            r += 1\n",
    "    return result"
   ]
  },
  {
   "cell_type": "code",
   "execution_count": null,
   "metadata": {},
   "outputs": [],
   "source": [
    "## Recursive\n",
    "\n",
    "def MergeSort(array):\n",
    "    # Base case\n",
    "    if len(array) <= 1: # Already sorted\n",
    "        return array\n",
    "    else:\n",
    "        # Divide\n",
    "        mid = len(array) // 2\n",
    "        left = array[:mid]\n",
    "        right = array[mid:]\n",
    "        \n",
    "        # Sort\n",
    "        left = MergeSort(left)\n",
    "        right = MergeSort(right)\n",
    "        \n",
    "        # Merge\n",
    "        return merge(left, right)"
   ]
  },
  {
   "cell_type": "code",
   "execution_count": null,
   "metadata": {},
   "outputs": [],
   "source": [
    "## Iterative\n",
    "\n",
    "def MergeSortPass(Array, sz, SortOrder): # Working\n",
    "    # Sort the smaller subarrays\n",
    "    index = 0\n",
    "    while index < len(Array):\n",
    "        low = index\n",
    "        mid = index + sz\n",
    "        high = index + 2 * sz\n",
    "        left = Array[low:mid]\n",
    "        right = Array[mid:high]\n",
    "\n",
    "        result = merge(left, right, SortOrder)\n",
    "        for index in range(len(result)):\n",
    "            Array[low + index] = result[index] \n",
    "\n",
    "        index = high # Sort the next subarray\n",
    "        \n",
    "def MergeSortLoop(Array, SortOrder):\n",
    "    sz = 1 # Size of subarray to sort\n",
    "    while sz < len(Array):\n",
    "        MergeSortPass(Array, sz, SortOrder)\n",
    "        sz *= 2 # Double the array size\n",
    "    return Array"
   ]
  },
  {
   "cell_type": "markdown",
   "metadata": {},
   "source": [
    "## Quick Sort"
   ]
  },
  {
   "cell_type": "code",
   "execution_count": 52,
   "metadata": {},
   "outputs": [
    {
     "name": "stdout",
     "output_type": "stream",
     "text": [
      "[4, 6, 10, 5, 5, 6, 10, 8, 2, 9]\n"
     ]
    },
    {
     "data": {
      "text/plain": [
       "[2, 4, 5, 5, 6, 6, 8, 9, 10, 10]"
      ]
     },
     "execution_count": 52,
     "metadata": {},
     "output_type": "execute_result"
    }
   ],
   "source": [
    "# Recursive, in place\n",
    "def quicksort(arr, low, high):\n",
    "    if not low < high:\n",
    "        return\n",
    "    \n",
    "    pivot = arr[low]\n",
    "    left = low + 1\n",
    "    right = high\n",
    "    while left <= right:\n",
    "        ## Adjusting pivots\n",
    "        if not arr[left] >= pivot:\n",
    "            left += 1\n",
    "        elif not arr[right] < pivot:\n",
    "            right -= 1\n",
    "        ## Switch left and right\n",
    "        else:\n",
    "            temp = arr[left]\n",
    "            arr[left] = arr[right]\n",
    "            arr[right] = temp\n",
    "            \n",
    "    # Swap in\n",
    "    arr[low] = arr[right]\n",
    "    arr[right] = pivot\n",
    "    \n",
    "    # Recursion call\n",
    "    quicksort(arr, low, right-1)\n",
    "    quicksort(arr, right+1, high) \n",
    "    \n",
    "import random\n",
    "arr = [random.randint(1,10) for i in range(10)]\n",
    "print(arr)\n",
    "quicksort(arr, 0, len(arr)-1)\n",
    "arr        "
   ]
  },
  {
   "cell_type": "code",
   "execution_count": 84,
   "metadata": {},
   "outputs": [
    {
     "data": {
      "text/plain": [
       "[1, 2, 3, 9, 9, 11, 12, 14, 15, 18]"
      ]
     },
     "execution_count": 84,
     "metadata": {},
     "output_type": "execute_result"
    }
   ],
   "source": [
    "# Recursive, out of place\n",
    "def quicksort(arr):\n",
    "    ## Base Case: Already sorted ##########\n",
    "    if len(arr) <= 1:\n",
    "        return arr\n",
    "    ## Recursive Case #####################\n",
    "    else:\n",
    "        # Partitioning\n",
    "        pivot = arr[0]\n",
    "        left = []\n",
    "        right = []\n",
    "        for item in arr[1:]: # Exclude the first element\n",
    "            if item < pivot:\n",
    "                left.append(item)\n",
    "            else: #if item >= pivot:\n",
    "                right.append(item)\n",
    "        ## Recursion Call #################\n",
    "        return quicksort(left) + [pivot] + quicksort(right)\n",
    "\n",
    "import random\n",
    "arr = [random.randint(1,20) for i in range(10)]\n",
    "quicksort(arr)"
   ]
  },
  {
   "cell_type": "markdown",
   "metadata": {},
   "source": [
    "# Searching Algorithms"
   ]
  },
  {
   "cell_type": "markdown",
   "metadata": {},
   "source": [
    "## Linear Search"
   ]
  },
  {
   "cell_type": "code",
   "execution_count": 80,
   "metadata": {},
   "outputs": [
    {
     "data": {
      "text/plain": [
       "4"
      ]
     },
     "execution_count": 80,
     "metadata": {},
     "output_type": "execute_result"
    }
   ],
   "source": [
    "array = [1, 2, 3, 4, 5, 6, 7, 8, 9, 10]\n",
    "item = 4\n",
    "\n",
    "def linearSearch(array, item):\n",
    "    for index in range(len(array)):\n",
    "        if array[index] == item:\n",
    "            return item\n",
    "    return -1 # Cannot find\n",
    "\n",
    "linearSearch(array, item)"
   ]
  },
  {
   "cell_type": "markdown",
   "metadata": {},
   "source": [
    "## Binary Search"
   ]
  },
  {
   "cell_type": "code",
   "execution_count": 70,
   "metadata": {},
   "outputs": [
    {
     "data": {
      "text/plain": [
       "1"
      ]
     },
     "execution_count": 70,
     "metadata": {},
     "output_type": "execute_result"
    }
   ],
   "source": [
    "## Iterative\n",
    "array = [1, 2, 3, 4, 5, 6, 7, 8, 9, 10]\n",
    "def binarySearch(array, low, high, find):\n",
    "    while low <= high:\n",
    "        mid = int((low+high)/2)\n",
    "        if array[mid] == find:\n",
    "            return mid\n",
    "        elif array[mid] > find:\n",
    "            high = mid - 1\n",
    "        elif array[mid] < find:\n",
    "            low = mid + 1\n",
    "    return -1\n",
    "\n",
    "binarySearch(array, 0, 9, 2)"
   ]
  },
  {
   "cell_type": "code",
   "execution_count": 79,
   "metadata": {},
   "outputs": [
    {
     "data": {
      "text/plain": [
       "1"
      ]
     },
     "execution_count": 79,
     "metadata": {},
     "output_type": "execute_result"
    }
   ],
   "source": [
    "## Recursive\n",
    "def recursiveBinarySearch(array, low, high, find):\n",
    "    ### Base Cases ############################\n",
    "    if low > high: # Not in array\n",
    "        return -1\n",
    "    \n",
    "    mid = int((low + high)/2) # Trucate\n",
    "    if array[mid] == find:\n",
    "        return mid\n",
    "              \n",
    "    ### Recursive cases ########################\n",
    "    if find < array[mid]:\n",
    "        return recursiveBinarySearch(array, low, mid-1, find)\n",
    "    elif find > array[mid]:\n",
    "        return recursiveBinarySearch(array, mid+1, high, find)\n",
    "\n",
    "recursiveBinarySearch(array, 0, 9, 2)"
   ]
  },
  {
   "cell_type": "markdown",
   "metadata": {},
   "source": [
    "##  Hash Table"
   ]
  },
  {
   "cell_type": "code",
   "execution_count": 64,
   "metadata": {},
   "outputs": [],
   "source": [
    "class Node:\n",
    "    def __init__(self, key, value):\n",
    "        self.key = key\n",
    "        self.value = value\n",
    "        self.next = None\n",
    "    \n",
    "    def __str__(self):\n",
    "        return f\"{self.key},{self.value}\"\n",
    "    \n",
    "    def insert(self, key, value):\n",
    "        if self.next == None:\n",
    "            self.next = Node(key, value)\n",
    "        else:\n",
    "            self.next.insert(key, value)\n",
    "            \n",
    "    def find(self, key):\n",
    "        if self.key == key:\n",
    "            return self\n",
    "        elif self.next != None:\n",
    "            return self.next.find(key)\n",
    "        else:\n",
    "            return None"
   ]
  },
  {
   "cell_type": "code",
   "execution_count": 65,
   "metadata": {},
   "outputs": [
    {
     "name": "stdout",
     "output_type": "stream",
     "text": [
      "[None, <__main__.Node object at 0x0000022F592A8B00>, <__main__.Node object at 0x0000022F592A8A20>, None, None, None, None, None, None, None, None, None, None, None, None, None, None, None, None, None, None, None, None, None, None, None, None, None, None, None, None, None, None, None, None, None, None, None, None, None, None, None, None, None, None, None, None, None, None, None, None, None, None]\n",
      "54,2\n"
     ]
    }
   ],
   "source": [
    "## Open Addressing\n",
    "\n",
    "class HashTable:\n",
    "    def __init__(self, max_size=53):\n",
    "        self.size = max_size\n",
    "        # Use a python list to simulate an array\n",
    "        self.array = []\n",
    "        for i in range(max_size):\n",
    "            self.array.append(None)\n",
    "            \n",
    "    def get_hash(self, key):\n",
    "        '''\n",
    "        # Weighted ordinal hash\n",
    "        key = str(key)\n",
    "        hash = 0\n",
    "        for i in range(len(key)):\n",
    "            hash += ord(key[i]) * i\n",
    "        '''\n",
    "        hash = key\n",
    "        hash %= self.size\n",
    "        return hash\n",
    "    \n",
    "    def insert(self, key, data):\n",
    "        pos = self.get_hash(key)\n",
    "        \n",
    "        # If at empty value\n",
    "        if self.array[pos] == None:\n",
    "            self.array[pos] = Node(key,data)\n",
    "            return 0\n",
    "        \n",
    "        # Open addressing\n",
    "        original = pos\n",
    "        pos = original + 1\n",
    "        while pos != original:\n",
    "            if self.array[pos] == None:\n",
    "                self.array[pos] = Node(key,data)\n",
    "                return 1\n",
    "            pos = (pos + 1) % self.size # Wrap around\n",
    "        \n",
    "        return -1 # Failed to insert\n",
    "    \n",
    "    def find(self, key):\n",
    "        pos = self.get_hash(key)\n",
    "        \n",
    "        # If at empty value\n",
    "        if self.array[pos] != None and self.array[pos].key == key:\n",
    "            return self.array[pos]\n",
    "        \n",
    "        # Open addressing\n",
    "        original = pos\n",
    "        pos = original + 1\n",
    "        while pos != original:\n",
    "            if self.array[pos] != None and self.array[pos].key == key:\n",
    "                return self.array[pos]\n",
    "            pos = (pos + 1) % self.size # Wrap around\n",
    "        \n",
    "        return -1 # Failed to find\n",
    "\n",
    "    \n",
    "ht = HashTable()\n",
    "ht.insert(1, 3)\n",
    "ht.insert(54, 2)\n",
    "print(ht.array)\n",
    "print(ht.find(54))"
   ]
  },
  {
   "cell_type": "code",
   "execution_count": 66,
   "metadata": {},
   "outputs": [
    {
     "name": "stdout",
     "output_type": "stream",
     "text": [
      "[None, <__main__.Node object at 0x0000022F592FB5F8>, None, None, None, None, None, None, None, None, None, None, None, None, None, None, None, None, None, None, None, None, None, None, None, None, None, None, None, None, None, None, None, None, None, None, None, None, None, None, None, None, None, None, None, None, None, None, None, None, None, None, None]\n",
      "54,2\n"
     ]
    }
   ],
   "source": [
    "## Separate Chaining\n",
    "\n",
    "# Uses the previous node class\n",
    "class HashTable:\n",
    "    def __init__(self, max_size=53):\n",
    "        self.size = max_size\n",
    "        # Use a python list to simulate an array\n",
    "        self.array = []\n",
    "        for i in range(max_size):\n",
    "            self.array.append(None)\n",
    "            \n",
    "    def get_hash(self, key):\n",
    "        '''\n",
    "        # Weighted ordinal hash\n",
    "        key = str(key)\n",
    "        hash = 0\n",
    "        for i in range(len(key)):\n",
    "            hash += ord(key[i]) * i\n",
    "        '''\n",
    "        hash = key\n",
    "        hash %= self.size\n",
    "        return hash\n",
    "    \n",
    "    def insert(self, key, data):\n",
    "        pos = self.get_hash(key)\n",
    "        \n",
    "        # If at empty value\n",
    "        if self.array[pos] == None:\n",
    "            self.array[pos] = Node(key,data)\n",
    "        # Open addressing\n",
    "        else:\n",
    "            self.array[pos].insert(key, data)\n",
    "    \n",
    "    def find(self, key):\n",
    "        pos = self.get_hash(key)\n",
    "        \n",
    "        # If at empty value\n",
    "        if self.array[pos] != None and self.array[pos].key == key:\n",
    "            return self.array[pos]\n",
    "        \n",
    "        # Separate Chaining\n",
    "        return self.array[pos].find(key)\n",
    "\n",
    "    \n",
    "ht = HashTable()\n",
    "ht.insert(1, 3)\n",
    "ht.insert(54, 2)\n",
    "print(ht.array)\n",
    "print(ht.find(54))"
   ]
  },
  {
   "cell_type": "markdown",
   "metadata": {},
   "source": [
    "# Data Structures"
   ]
  },
  {
   "cell_type": "markdown",
   "metadata": {},
   "source": [
    "## Linked Lists\n",
    "\n",
    "There are a few main approaches\n",
    "1. Pointer implementation\n",
    "2. Array Implementation"
   ]
  },
  {
   "cell_type": "code",
   "execution_count": null,
   "metadata": {},
   "outputs": [],
   "source": [
    "# Pointer Implementation\n",
    "class Node:\n",
    "    def __init__(self, value=None,next=None):\n",
    "        self.value = value\n",
    "        self.next = next"
   ]
  },
  {
   "cell_type": "code",
   "execution_count": 1,
   "metadata": {},
   "outputs": [
    {
     "name": "stdout",
     "output_type": "stream",
     "text": [
      "True\n",
      "2, 1, 3, 4, 5\n",
      "False\n",
      "4\n",
      "2, 1, 4, 5\n"
     ]
    }
   ],
   "source": [
    "class LinkedList:\n",
    "    def __init__(self):\n",
    "        self.start = None\n",
    "        \n",
    "    def isEmpty(self):\n",
    "        return self.start == None\n",
    "    \n",
    "    def display(self):\n",
    "        output = \"\"\n",
    "        # Traversal\n",
    "        curr = self.start\n",
    "        while curr != None:\n",
    "            output += str(curr.value)\n",
    "            curr = curr.next\n",
    "            if curr != None:\n",
    "                output += \", \"\n",
    "        print(output)\n",
    "    \n",
    "    def get(self, pos):\n",
    "        counter = 0\n",
    "        curr = self.start\n",
    "        while counter < pos and curr != None:\n",
    "            curr = curr.next\n",
    "            counter += 1\n",
    "        return curr\n",
    "        \n",
    "    def insert(self,pos,value):\n",
    "        counter = 0\n",
    "        prev = None\n",
    "        curr = self.start\n",
    "        while counter < pos and curr != None:\n",
    "            prev = curr\n",
    "            curr = curr.next\n",
    "            counter += 1\n",
    "        newNode = Node(value,curr)\n",
    "        if prev == None:\n",
    "            self.start = newNode\n",
    "        else:\n",
    "            prev.next = newNode\n",
    "\n",
    "    def remove(self,pos):\n",
    "        counter = 0\n",
    "        prev = None\n",
    "        curr = self.start\n",
    "        while counter < pos and curr != None:\n",
    "            prev = curr\n",
    "            curr = curr.next\n",
    "            counter += 1\n",
    "        if prev == None:\n",
    "            self.start = curr.next\n",
    "        else:\n",
    "            prev.next = curr.next\n",
    "    \n",
    "def driver():\n",
    "    l = LinkedList()\n",
    "    print(l.isEmpty())\n",
    "    l.insert(10,2)\n",
    "    l.insert(10,1)\n",
    "    l.insert(10,3)\n",
    "    l.insert(10,4)\n",
    "    l.insert(10,5)\n",
    "    l.display()\n",
    "    print(l.isEmpty())\n",
    "    print(l.get(3).value)\n",
    "    l.remove(2)\n",
    "    l.display()\n",
    "\n",
    "if __name__ == \"__main__\":\n",
    "    driver()"
   ]
  },
  {
   "cell_type": "code",
   "execution_count": null,
   "metadata": {},
   "outputs": [],
   "source": [
    "class ArrayLinkedList:\n",
    "    def __init__(self, max_size=30):\n",
    "        # Python to simulate an array\n",
    "        self.array = []\n",
    "        for i in range(max_size):\n",
    "            self.array.append(None)\n",
    "    #.....\n",
    "        "
   ]
  },
  {
   "cell_type": "markdown",
   "metadata": {},
   "source": [
    "## Stacks"
   ]
  },
  {
   "cell_type": "code",
   "execution_count": null,
   "metadata": {},
   "outputs": [],
   "source": [
    "class Node:\n",
    "    def __init__(self, data):\n",
    "        self.data = data\n",
    "        self.next = None\n",
    "\n",
    "class LinkedListStack:\n",
    "    def __init__(self):\n",
    "        self.head = None\n",
    "        self.current_size = 0\n",
    "\n",
    "    def is_empty(self):\n",
    "        return self.size() == 0\n",
    "    \n",
    "    def size(self):\n",
    "        return self.current_size\n",
    "    \n",
    "    def push(self, data):\n",
    "        self.current_size += 1\n",
    "        if self.head is None:\n",
    "            self.head = Node(data)\n",
    "        else:\n",
    "            new_node = Node(data)\n",
    "            new_node.next = self.head\n",
    "            self.head = new_node\n",
    "\n",
    "    def pop(self):\n",
    "        if self.head is None:\n",
    "            return None\n",
    "        else:\n",
    "            self.current_size -= 1\n",
    "            popped = self.head.data\n",
    "            self.head = self.head.next\n",
    "            return popped\n",
    "\n",
    "    def peek(self):\n",
    "        if self.head is None:\n",
    "            return None\n",
    "        else:\n",
    "            popped = self.head.data\n",
    "            return popped"
   ]
  },
  {
   "cell_type": "code",
   "execution_count": null,
   "metadata": {},
   "outputs": [],
   "source": [
    "class ArrayStack:\n",
    "    def __init__(self):\n",
    "        self.MAX_SIZE = 30\n",
    "        # Simulate an array in Python\n",
    "        self.array = []\n",
    "        for index in range(self.MAX_SIZE):\n",
    "            self.array.append(None)\n",
    "        self.head = 0 # The first empty index\n",
    "\n",
    "    def is_empty(self):\n",
    "        return self.size() == 0\n",
    "\n",
    "    def size(self):\n",
    "        return self.head\n",
    "    \n",
    "    def push(self, data):\n",
    "        if self.size() >= self.MAX_SIZE:\n",
    "            print(\"Error: the stack is at full capacity!\")\n",
    "        else:\n",
    "            self.array[self.head] = data\n",
    "            self.head += 1\n",
    "            \n",
    "\n",
    "    def pop(self):\n",
    "        if self.is_empty():\n",
    "            return None\n",
    "        else:\n",
    "            self.head -= 1\n",
    "            return self.array[self.head]\n",
    "\n",
    "    def peek(self):\n",
    "        if self.is_empty():\n",
    "            return None\n",
    "        else:\n",
    "            return self.array[self.head - 1]"
   ]
  },
  {
   "cell_type": "code",
   "execution_count": null,
   "metadata": {},
   "outputs": [],
   "source": [
    "class PythonListStack:\n",
    "    def __init__(self):\n",
    "        self.items = []\n",
    "\n",
    "    def is_empty(self):\n",
    "        return self.size() == 0\n",
    "\n",
    "    def size(self):\n",
    "        return len(self.items)\n",
    "    \n",
    "    def push(self, data):\n",
    "        self.items.append(data)\n",
    "\n",
    "    def pop(self):\n",
    "        if self.is_empty():\n",
    "            return None\n",
    "        else:\n",
    "            return self.items.pop()\n",
    "\n",
    "    def peek(self):\n",
    "        if self.is_empty():\n",
    "            return None\n",
    "        else:\n",
    "            return self.items[-1]"
   ]
  },
  {
   "cell_type": "markdown",
   "metadata": {},
   "source": [
    "## Queues"
   ]
  },
  {
   "cell_type": "code",
   "execution_count": null,
   "metadata": {},
   "outputs": [],
   "source": [
    "## Pointer Implementation"
   ]
  },
  {
   "cell_type": "code",
   "execution_count": null,
   "metadata": {},
   "outputs": [],
   "source": [
    "# Dual Stack Implementation\n",
    "class Queue:\n",
    "    def __init__(self):\n",
    "        self.inbox = Stack()\n",
    "        self.outbox = Stack()\n",
    "\n",
    "    def is_empty(self):\n",
    "        return (self.inbox.is_empty() and self.outbox.is_empty())\n",
    "\n",
    "    def enqueue(self, data):\n",
    "        self.inbox.push(data)\n",
    "\n",
    "    def dequeue(self):\n",
    "        if self.outbox.is_empty():\n",
    "            while not self.inbox.is_empty():\n",
    "                popped = self.inbox.pop()\n",
    "                self.outbox.push(popped)\n",
    "        return self.outbox.pop()"
   ]
  },
  {
   "cell_type": "code",
   "execution_count": null,
   "metadata": {},
   "outputs": [],
   "source": [
    "class CircularQueue:\n",
    "    #Constructor\n",
    "    def __init__(self):\n",
    "        self.queue = list()\n",
    "        self.head = 0\n",
    "        self.tail = 0\n",
    "        self.maxSize = 2\n",
    "\n",
    "    #Adding elements to the queue\n",
    "    def enqueue(self, data):\n",
    "        if self.size() == self.maxSize:\n",
    "            return (\"Queue Full!\")\n",
    "        self.queue.append(data)\n",
    "        self.tail = (self.tail + 1) % (self.maxSize + 1)\n",
    "        return True\n",
    "\n",
    "    #Removing elements from the queue\n",
    "    def dequeue(self):\n",
    "        if self.size()== 0:\n",
    "            return (\"Queue Empty!\")\n",
    "        data = self.queue[self.head]\n",
    "        self.head = (self.head + 1) % (self.maxSize + 1)\n",
    "        return data\n",
    "    \n",
    "    #Calculating the size of the queue\n",
    "    def size(self):\n",
    "        if self.tail >= self.head:\n",
    "            return (self.tail - self.head)\n",
    "        return (self.maxSize + 1 - (self.head - self.tail))"
   ]
  },
  {
   "cell_type": "markdown",
   "metadata": {},
   "source": [
    "## Binary Search Trees"
   ]
  },
  {
   "cell_type": "code",
   "execution_count": null,
   "metadata": {},
   "outputs": [],
   "source": [
    "class BSTNode:\n",
    "    def __init__(self, key):\n",
    "        self.key = key\n",
    "        self.left = None\n",
    "        self.right = None\n",
    "        self.parent = None\n",
    "\n",
    "    def insert(self, node):\n",
    "        if self.key > node.key:\n",
    "            if self.left is None:\n",
    "                self.left = node\n",
    "                node.parent = self\n",
    "            else:\n",
    "                self.left.insert(node)\n",
    "        elif self.key < node.key:\n",
    "            if self.right is None:\n",
    "                self.right = node\n",
    "                node.parent = self\n",
    "            else:\n",
    "                self.right.insert(node)\n",
    "     \n",
    "    ### Search ##################################\n",
    "    def search(self, key):\n",
    "        if self.key > key:\n",
    "            if self.left is not None:\n",
    "                return self.left.search(key)\n",
    "            else:\n",
    "                return None\n",
    "        elif self.key < key:\n",
    "            if self.right is not None:\n",
    "                return self.right.search(key)\n",
    "            else:\n",
    "                return None\n",
    "        return self\n",
    "    ### Orderings ################################\n",
    "    def inorder(self):\n",
    "        if self.left is not None:\n",
    "            self.left.inorder()\n",
    "            \n",
    "        print(self.key, end='')\n",
    "        \n",
    "        if self.right is not None:\n",
    "            self.right.inorder()\n",
    "\n",
    "    def preorder(self):\n",
    "        print(self.key, end='')\n",
    "        \n",
    "        if self.left is not None:\n",
    "            self.left.inorder()\n",
    "        \n",
    "        if self.right is not None:\n",
    "            self.right.inorder()\n",
    "            \n",
    "    def postorder(self):\n",
    "        if self.left is not None:\n",
    "            self.left.inorder()\n",
    "        \n",
    "        if self.right is not None:\n",
    "            self.right.inorder()\n",
    "        \n",
    "        print(self.key, end='')    \n",
    "\n",
    "class BSTree:\n",
    "    def __init__(self):\n",
    "        self.root = None\n",
    "\n",
    "    def inorder(self):\n",
    "        if self.root is not None:\n",
    "            self.root.inorder()\n",
    "\n",
    "    def add(self, key):\n",
    "        new_node = BSTNode(key)\n",
    "        if self.root is None:\n",
    "            self.root = new_node\n",
    "        else:\n",
    "            self.root.insert(new_node)\n",
    "\n",
    "    def search(self):\n",
    "        if self.root is not None:\n",
    "            return self.root.search()\n"
   ]
  },
  {
   "cell_type": "code",
   "execution_count": null,
   "metadata": {},
   "outputs": [],
   "source": []
  }
 ],
 "metadata": {
  "kernelspec": {
   "display_name": "Python 3",
   "language": "python",
   "name": "python3"
  },
  "language_info": {
   "codemirror_mode": {
    "name": "ipython",
    "version": 3
   },
   "file_extension": ".py",
   "mimetype": "text/x-python",
   "name": "python",
   "nbconvert_exporter": "python",
   "pygments_lexer": "ipython3",
   "version": "3.6.7"
  }
 },
 "nbformat": 4,
 "nbformat_minor": 2
}
