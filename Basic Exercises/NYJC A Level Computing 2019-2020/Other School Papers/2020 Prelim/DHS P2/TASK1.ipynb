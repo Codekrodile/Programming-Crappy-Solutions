{
 "cells": [
  {
   "cell_type": "code",
   "execution_count": 43,
   "metadata": {},
   "outputs": [
    {
     "name": "stdout",
     "output_type": "stream",
     "text": [
      "From 57345286\n",
      " 02548147 2020-07-29 12:00:00 2020-07-29 12:35:00\n",
      " 14394568 2020-07-29 12:50:00 2020-07-29 13:15:00\n",
      " 27524883 2020-07-30 08:50:00 2020-07-30 09:35:00\n",
      " 46528658 2020-07-31 08:35:00 2020-07-31 08:55:00\n"
     ]
    }
   ],
   "source": [
    "# Task 1.1\n",
    "from datetime import datetime, timedelta\n",
    "import csv\n",
    "\n",
    "def readFile(filename = \"TOKEN.txt\"):\n",
    "    # Initialisation\n",
    "    data = []\n",
    "    file = open(filename, 'r') # Read mode\n",
    "    reader = csv.reader(file)\n",
    "    \n",
    "    # Read from file\n",
    "    for record in reader:\n",
    "        newRecord = record\n",
    "        newRecord[0] = str(newRecord[0]) # User's randomised ID\n",
    "        newRecord[1] = str(newRecord[1]) # Randomised ID of user in proximity\n",
    "        newRecord[2] = int(newRecord[2]) # RSSI\n",
    "        newRecord[3] = datetime.strptime(newRecord[3], \"%Y-%m-%d %H:%M:%S\") # timestamp of encounter\n",
    "        data.append(newRecord)\n",
    "    \n",
    "    file.close()\n",
    "    return data\n",
    "\n",
    "def generateTracingData(data):\n",
    "    users = {}\n",
    "    for user, other, rssi, date in data:\n",
    "        # Set user data\n",
    "        if users.get(user) == None:\n",
    "            users[user] = {\n",
    "                \"closeContact\": {},  # People in close contact with and the start timestamp\n",
    "                \"prolongedExposure\" : {} # People with prolonged exposure and end timestamp\n",
    "            }\n",
    "        \n",
    "        \n",
    "        userStartDate = users[user][\"closeContact\"].get(other) # Time of first contact\n",
    "        \n",
    "        # Close contact\n",
    "        if rssi <= -30 and (userStartDate == None or userStartDate > date):\n",
    "            users[user][\"closeContact\"][other] = date\n",
    "        # Prolonged Exposure\n",
    "        elif userStartDate != None and date - userStartDate > timedelta(minutes=15):\n",
    "            users[user][\"prolongedExposure\"][other] = date\n",
    "        \n",
    "    return users\n",
    "\n",
    "def task1_1():\n",
    "    data = readFile()\n",
    "    tracingData = generateTracingData(data)\n",
    "    # Displaying people need to contact trace\n",
    "    for user in tracingData:\n",
    "        print(\"From\", user)\n",
    "        for prolongedExposure, date in tracingData[user][\"prolongedExposure\"].items():\n",
    "            startDate = tracingData[user][\"closeContact\"][prolongedExposure]\n",
    "            print(\"\", prolongedExposure, startDate, date)\n",
    "    \n",
    "task1_1()"
   ]
  },
  {
   "cell_type": "code",
   "execution_count": 40,
   "metadata": {},
   "outputs": [
    {
     "data": {
      "text/plain": [
       "(False, None, None, None)"
      ]
     },
     "execution_count": 40,
     "metadata": {},
     "output_type": "execute_result"
    }
   ],
   "source": [
    "# Task 1.2\n",
    "\n",
    "data = readFile()\n",
    "tracingData = generateTracingData(data)\n",
    "def is_close_contact(rid1, rid2):\n",
    "    inCloseContact1 =  (tracingData.get(rid1) != None and \n",
    "                        rid2 in tracingData[rid1][\"closeContact\"].keys())\n",
    "    inCloseContact2 =  (tracingData.get(rid2) != None and\n",
    "                        rid1 in tracingData[rid2][\"closeContact\"].keys())\n",
    "    \n",
    "    if not (inCloseContact1 or inCloseContact2):\n",
    "        return False, None, None, None\n",
    "    else:\n",
    "        if inCloseContact1:\n",
    "            key1 = rid1\n",
    "            key2 = rid2\n",
    "        elif inCloseContact2:\n",
    "            key1 = rid2\n",
    "            key2 = rid1\n",
    "        startDate = tracingData[key1][\"closeContact\"][key2]\n",
    "        endDate = tracingData[key1][\"prolongedExposure\"][key2]\n",
    "        \n",
    "        return True, startDate, endDate, endDate - startDate\n",
    "\n",
    "is_close_contact(\"57345286\", \"75348257\")"
   ]
  },
  {
   "cell_type": "code",
   "execution_count": 42,
   "metadata": {},
   "outputs": [
    {
     "data": {
      "text/plain": [
       "(False, None, None, None)"
      ]
     },
     "execution_count": 42,
     "metadata": {},
     "output_type": "execute_result"
    }
   ],
   "source": [
    "is_close_contact(\"57345286\", \"45174591\")"
   ]
  },
  {
   "cell_type": "code",
   "execution_count": 41,
   "metadata": {},
   "outputs": [
    {
     "data": {
      "text/plain": [
       "(True,\n",
       " datetime.datetime(2020, 7, 29, 12, 0),\n",
       " datetime.datetime(2020, 7, 29, 12, 35),\n",
       " datetime.timedelta(0, 2100))"
      ]
     },
     "execution_count": 41,
     "metadata": {},
     "output_type": "execute_result"
    }
   ],
   "source": [
    "is_close_contact(\"57345286\", \"02548147\")"
   ]
  }
 ],
 "metadata": {
  "kernelspec": {
   "display_name": "Python 3",
   "language": "python",
   "name": "python3"
  },
  "language_info": {
   "codemirror_mode": {
    "name": "ipython",
    "version": 3
   },
   "file_extension": ".py",
   "mimetype": "text/x-python",
   "name": "python",
   "nbconvert_exporter": "python",
   "pygments_lexer": "ipython3",
   "version": "3.6.7"
  }
 },
 "nbformat": 4,
 "nbformat_minor": 2
}
